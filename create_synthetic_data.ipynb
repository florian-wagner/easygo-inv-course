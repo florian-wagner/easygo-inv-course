{
 "cells": [
  {
   "cell_type": "markdown",
   "metadata": {},
   "source": [
    "<div class=\"alert alert-warning\" role=\"alert\">\n",
    "    This notebook is meant for instructors to create synthetic data for the non-linear inversion examples. Do not change the code below.\n",
    "</div>"
   ]
  },
  {
   "cell_type": "markdown",
   "metadata": {},
   "source": [
    "## Settings"
   ]
  },
  {
   "cell_type": "code",
   "execution_count": 1,
   "metadata": {},
   "outputs": [],
   "source": [
    "depth = 1500 # Depth of anomaly in meters\n",
    "dRho = 1000 # Density contrast in kg/m^3\n",
    "length = 10000 # Profile length in meters\n",
    "radius = 300 # Radius of anomaly in meters\n",
    "n = 101 # Number of equidistant observation points along the profile (odd number preferred for vizualization at x=0)\n",
    "noise = 0.01 # error in mGal (0.01 is typical device accuracy of LaCoste & Romberg gravimeter)"
   ]
  },
  {
   "cell_type": "markdown",
   "metadata": {},
   "source": [
    "## Calculation"
   ]
  },
  {
   "cell_type": "code",
   "execution_count": 2,
   "metadata": {},
   "outputs": [],
   "source": [
    "import numpy as np\n",
    "import matplotlib.pyplot as plt"
   ]
  },
  {
   "cell_type": "code",
   "execution_count": 3,
   "metadata": {},
   "outputs": [
    {
     "data": {
      "text/plain": [
       "Text(0, 0.5, 'Gravity anomaly (mGal)')"
      ]
     },
     "execution_count": 3,
     "metadata": {},
     "output_type": "execute_result"
    },
    {
     "data": {
      "image/png": "[encoded data removed]",
      "text/plain": [
       "<Figure size 432x288 with 1 Axes>"
      ]
     },
     "metadata": {
      "needs_background": "light"
     },
     "output_type": "display_data"
    }
   ],
   "source": [
    "G = 6.6743e-11 # gravitational constant\n",
    "x = np.linspace(-length//2, length//2, n)\n",
    "\n",
    "def grav(R, z, density):\n",
    "    \"\"\"Formula from the exercise sheet as a function for later reuse.\"\"\"\n",
    "    gz = 4/3 * np.pi * R**3 * density * G * z / (x**2 + z**2)**(3/2)\n",
    "    gz *= 1e5 # unit conversion\n",
    "    return gz\n",
    "\n",
    "gz = grav(radius, depth, dRho)\n",
    "gz_noise = gz + np.random.normal(scale=noise, size=n)\n",
    "\n",
    "plt.plot(x, gz, \"r-\", label=\"Clean\")\n",
    "plt.plot(x, gz_noise, \"b.\", label=\"Noisified\")\n",
    "plt.legend()\n",
    "\n",
    "plt.xlabel(\"x (m)\")\n",
    "plt.ylabel(\"Gravity anomaly (mGal)\")"
   ]
  },
  {
   "cell_type": "markdown",
   "metadata": {},
   "source": [
    "## Export"
   ]
  },
  {
   "cell_type": "code",
   "execution_count": 12,
   "metadata": {},
   "outputs": [],
   "source": [
    "import pandas as pd\n",
    "data = pd.DataFrame(data=np.column_stack([x, gz_noise]), columns=[\"x (m)\", \"g_z (mGal)\"])"
   ]
  },
  {
   "cell_type": "code",
   "execution_count": 14,
   "metadata": {},
   "outputs": [],
   "source": [
    "data.to_csv(\"data/grav.csv\", index=False)"
   ]
  }
 ],
 "metadata": {
  "celltoolbar": "Tags",
  "kernelspec": {
   "display_name": "Python 3 (ipykernel)",
   "language": "python",
   "name": "python3"
  },
  "language_info": {
   "codemirror_mode": {
    "name": "ipython",
    "version": 3
   },
   "file_extension": ".py",
   "mimetype": "text/x-python",
   "name": "python",
   "nbconvert_exporter": "python",
   "pygments_lexer": "ipython3",
   "version": "3.8.10"
  },
  "toc-autonumbering": false,
  "toc-showcode": true,
  "toc-showmarkdowntxt": true,
  "varInspector": {
   "cols": {
    "lenName": 16,
    "lenType": 16,
    "lenVar": 40
   },
   "kernels_config": {
    "python": {
     "delete_cmd_postfix": "",
     "delete_cmd_prefix": "del ",
     "library": "var_list.py",
     "varRefreshCmd": "print(var_dic_list())"
    },
    "r": {
     "delete_cmd_postfix": ") ",
     "delete_cmd_prefix": "rm(",
     "library": "var_list.r",
     "varRefreshCmd": "cat(var_dic_list()) "
    }
   },
   "types_to_exclude": [
    "module",
    "function",
    "builtin_function_or_method",
    "instance",
    "_Feature"
   ],
   "window_display": false
  }
 },
 "nbformat": 4,
 "nbformat_minor": 4
}
