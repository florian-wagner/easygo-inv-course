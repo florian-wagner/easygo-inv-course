{
 "cells": [
  {
   "cell_type": "markdown",
   "metadata": {
    "slideshow": {
     "slide_type": "slide"
    }
   },
   "source": [
    "# GemPy Introduction\n",
    "\n",
    "In this notebook, we look at modelling aspects with [GemPy](https://github.com/cgre-aachen/gempy) step-by-step. We'll only look at rather simple models, to be able to focus on the way GemPy works, and to get a feeling for the most important parameters for geological modeling with this software.\n",
    "\n",
    "## Table of Contents\n",
    "\n",
    "1. [Minimal needed inputs](#1)  \n",
    "    1.1 [Minimal example](#1.1)\n",
    "2. [How do `series` work?](#2)    \n",
    "    2.1 [A model with 2 Layers in 1 Series](#2)  \n",
    "    2.2 [A model mit 2 Layers in 2 Series](#2.2)  \n",
    "    2.3 [Again a model with 2 layers in 2 Series ... with corrected data](#2.3)  \n",
    "3. [Fault relations](#4)  \n",
    "4. [Onlap relations](#5)  \n",
    "    4.1 [_Inclined_  as Onlap](#5.1)  \n",
    "    4.2 [_Inclined_ and _Flat_ as Onlap](#5.2)  \n",
    "5. [Final thoughts](#6)  "
   ]
  },
  {
   "cell_type": "code",
   "execution_count": null,
   "metadata": {
    "execution_event_id": "7951b712-9520-42fd-9ead-417737790510",
    "last_executed_text": "import gempy as gp\n%matplotlib inline",
    "persistent_id": "2adee47a-2aad-4a4e-8e39-d5af93d160a2",
    "slideshow": {
     "slide_type": "skip"
    }
   },
   "outputs": [],
   "source": [
    "# Load in libraries\n",
    "import numpy as np\n",
    "import gempy as gp\n",
    "%matplotlib inline\n",
    "\n",
    "import theano  # type: ignore\n",
    "\n",
    "theano.config.gcc.cxxflags = \"-Wno-c++11-narrowing\"\n",
    "\n",
    "print(\"Run with gempy version {}\".format(gp.__version__))"
   ]
  },
  {
   "cell_type": "markdown",
   "metadata": {
    "slideshow": {
     "slide_type": "slide"
    }
   },
   "source": [
    "<a id='1'></a>\n",
    "## Minimal needed inputs\n",
    "GemPy needs two different data types as input data for models: *interface* and *orientation* data.\n",
    "\n",
    "*Interface* data can be interpreted as points on a boundary between two model units. For instance, an interpreted seismic horizon, or the boundary between two geological units in a geological cross-section, or layer boundaries mapped in the field, ...\n",
    "\n",
    "The format of _Interface_ points in a file (mostly as CSV files) looks like this:\n",
    "\n",
    "| X  |  Y | Z |  formation |\n",
    "|--:|--:|--:|---|\n",
    "| 300  | 250  | 545  | sandstone  |\n",
    "|  300 |  550 |  680 | limestone  |\n",
    "\n",
    "\n",
    "<center>\n",
    "    \n",
    "\n",
    "<img src=\"https://upload.wikimedia.org/wikipedia/commons/8/80/Streichbild.svg\" width=400 height=400>\n",
    "   \n",
    "</center>\n",
    "Source: <a href=\"https://upload.wikimedia.org/wikipedia/commons/8/80/Streichbild.svg\">Wikipedia</a>\n",
    "<br>\n",
    "\n",
    "*Orientation* data can be interpreted as the dip angle and strike of mapped layer boundaries. They control, how a modeled surface is oriented in space. While *Interface* data consist of X, Y, Z and the name of the unit, _Orientation_ data have additionally `azimuth` $\\sigma$, `dip` $\\varphi$, and `polarity`. \n",
    "\n",
    "The format of _Orientation_ data in a CSV file looks like this:\n",
    "\n",
    "| X  |  Y |  Z |  azimuth | dip  | polarity  |  formation |\n",
    "|--:|--:|--:|--:|--:|--:|---|\n",
    "| 300  | 250  | 545  | 90  | 10  |  1 | sandstone  |\n",
    "|  300 |  550 |  680 |  90 | 15  |  1 | limestone  |"
   ]
  },
  {
   "cell_type": "markdown",
   "metadata": {
    "slideshow": {
     "slide_type": "slide"
    }
   },
   "source": [
    "<a id='1.1'></a>\n",
    "### Minimal example\n",
    "The absolute minimum to be parsed to GemPy are two *interface* points and one *orientation* point."
   ]
  },
  {
   "cell_type": "code",
   "execution_count": null,
   "metadata": {
    "execution_event_id": "9b4cbb55-7eee-44dd-b65a-3cc2f053e5d7",
    "last_executed_text": "geo_model = gp.create_model('Simple_model')",
    "persistent_id": "8085cd16-511e-4ed4-9fe3-f922e3cda9f0",
    "slideshow": {
     "slide_type": "subslide"
    }
   },
   "outputs": [],
   "source": [
    "# Create a gempy model\n",
    "geo_model = gp.create_model('Simple_model')"
   ]
  },
  {
   "cell_type": "code",
   "execution_count": null,
   "metadata": {
    "execution_event_id": "752cbde3-5dbd-4f74-9b4e-2ee758b5c5a7",
    "last_executed_text": "gp.init_data(geo_model, [0., 10., 0., 10., -10., 0.], [100, 4, 100],\n            path_i = '../data/1Layer_simple_model_interfaces.csv',\n            path_o = '../data/2Layer_simple_model_orientation.csv');",
    "persistent_id": "1de91be5-79ab-4517-86e5-f7e2d7546830",
    "slideshow": {
     "slide_type": "fragment"
    }
   },
   "outputs": [],
   "source": [
    "# Initial data:\n",
    "# Which model object do we assign the data to (here geo_model)\n",
    "# What is the model volume in m [xmin, xmax, ymin, ymax, zmin, zmax]\n",
    "# What is the resolution of the regular grid [dx, dy, dz]\n",
    "# optional: load in csv data\n",
    "\n",
    "gp.init_data(geo_model, [0., 10., 0., 2., 0., 10.], [100, 3, 100],\n",
    "            path_i = 'data/00_1Layer_simple_model_interfaces.csv',\n",
    "            path_o = 'data/00_1Layer_simple_model_orientation.csv');"
   ]
  },
  {
   "cell_type": "markdown",
   "metadata": {},
   "source": [
    "Once we generated the GemPy model object, and loaded in data, we can display the order of the units (like a stratigraphical column) of the model using `geo_model.surfaces`:"
   ]
  },
  {
   "cell_type": "code",
   "execution_count": null,
   "metadata": {
    "execution_event_id": "40286aa6-6b52-4524-8a72-6f725bb6bbab",
    "last_executed_text": "geo_model.surfaces",
    "persistent_id": "c03906ba-4aef-4552-afa9-393f86a04e4e",
    "slideshow": {
     "slide_type": "fragment"
    }
   },
   "outputs": [],
   "source": [
    "# display the \"stratigraphic column\"\n",
    "geo_model.surfaces"
   ]
  },
  {
   "cell_type": "code",
   "execution_count": null,
   "metadata": {
    "slideshow": {
     "slide_type": "subslide"
    }
   },
   "outputs": [],
   "source": [
    "# GemPy has some plot options\n",
    "gp._plot.plot_data(geo_model)"
   ]
  },
  {
   "cell_type": "markdown",
   "metadata": {},
   "source": [
    "GemPy is based on [Theano](https://de.wikipedia.org/wiki/Theano_(Deep_Learning)), a library for calculating and optimizing of mathematic expressions (especially multidimensional matrix-calculations). The developers of Theano stopped the project, which was picked up by the PyMC3 developers under the name [aesara](https://github.com/aesara-devs/aesara) and is actively developed under that name.\n",
    "\n",
    "As GemPy uses a lot of matrix calculations (tensors), an efficient calculation is needed for making modeling feasibly on any hardware. The kriging parameters for the model are set up using `set_interpolator`.\n",
    "\n",
    "For more information about Theano itself, I reccomend this [Tutorial](https://www.marekrei.com/blog/theano-tutorial/)."
   ]
  },
  {
   "cell_type": "code",
   "execution_count": null,
   "metadata": {
    "execution_event_id": "3ea90a6e-2182-41bd-9c69-bebca04361e9",
    "last_executed_text": "# Create the theano model\ngp.set_interpolation_data(geo_model,\n                         compile_theano=True,\n                         theano_optimizer='fast_compile',\n                         verbose=[])",
    "persistent_id": "958935b1-fd45-47c2-a35a-9eafc3670cb2",
    "slideshow": {
     "slide_type": "skip"
    }
   },
   "outputs": [],
   "source": [
    "# generate Theano Graph\n",
    "\n",
    "gp.set_interpolator(geo_model,\n",
    "                         compile_theano=True,\n",
    "                         theano_optimizer='fast_compile',\n",
    "                         verbose=[])"
   ]
  },
  {
   "cell_type": "code",
   "execution_count": null,
   "metadata": {
    "execution_event_id": "08c3a772-93a0-48f5-88d5-d442b08e23dc",
    "last_executed_text": "# Compute the model\nsol = gp.compute_model(geo_model, compute_mesh=False)",
    "persistent_id": "ffeeac72-536e-4b3a-9aa8-e88ddce9a059",
    "slideshow": {
     "slide_type": "skip"
    }
   },
   "outputs": [],
   "source": [
    "# Compute the model\n",
    "sol = gp.compute_model(geo_model, compute_mesh=False)"
   ]
  },
  {
   "cell_type": "code",
   "execution_count": null,
   "metadata": {
    "execution_event_id": "d8dc70c3-8941-4f0b-8ab5-b29bd4b32fa3",
    "last_executed_text": "gp.plot.plot_section(geo_model, cell_number=2, direction='y', show_data=True)",
    "persistent_id": "6eee44a7-88d0-45f0-8a54-828f3d9c0323",
    "slideshow": {
     "slide_type": "subslide"
    }
   },
   "outputs": [],
   "source": [
    "gp._plot.plot_section(geo_model, cell_number=2, direction='y', show_data=True)"
   ]
  },
  {
   "cell_type": "markdown",
   "metadata": {
    "slideshow": {
     "slide_type": "slide"
    }
   },
   "source": [
    "<a id='2'></a>\n",
    "## How do Series work?\n",
    "### A model with 2 layers and 1 Series\n",
    "Based on the minimal example, we now add a second set of interface points to show what `Series` are in GemPy. Therefore, we have now two geological layers in our model (exkluding the _basement_):"
   ]
  },
  {
   "cell_type": "code",
   "execution_count": null,
   "metadata": {
    "execution_event_id": "4a01894d-0b66-47ae-80fc-e9457f021cc7",
    "last_executed_text": "geo_model = gp.create_model('2Layer_model')",
    "persistent_id": "8085cd16-511e-4ed4-9fe3-f922e3cda9f0",
    "slideshow": {
     "slide_type": "subslide"
    }
   },
   "outputs": [],
   "source": [
    "# Geo-model with 2 layers\n",
    "geo_model = gp.create_model('2Layer_model')"
   ]
  },
  {
   "cell_type": "code",
   "execution_count": null,
   "metadata": {
    "execution_event_id": "8d4f460a-9ef1-4b1e-a4af-ab3df260168d",
    "last_executed_text": "gp.init_data(geo_model, [0., 10., 0., 10., -10., 0.], [100, 4, 100],\n            path_i = '../data/2Layer_simple_model_interfaces.csv',\n            path_o = '../data/2Layer_simple_model_2orientation2.csv');",
    "persistent_id": "1de91be5-79ab-4517-86e5-f7e2d7546830",
    "slideshow": {
     "slide_type": "fragment"
    }
   },
   "outputs": [],
   "source": [
    "# initialize data\n",
    "gp.init_data(geo_model, [0., 10., 0., 2., 0., 10.], [100, 3, 100],\n",
    "            path_i = 'data/01_2Layer_simple_model_interfaces.csv',\n",
    "            path_o = 'data/01_2Layer_simple_model_orientation.csv');"
   ]
  },
  {
   "cell_type": "code",
   "execution_count": null,
   "metadata": {
    "execution_event_id": "2bba9a7e-f67c-47e7-bbee-71924c124b80",
    "last_executed_text": "geo_model.surfaces",
    "persistent_id": "c03906ba-4aef-4552-afa9-393f86a04e4e",
    "slideshow": {
     "slide_type": "fragment"
    }
   },
   "outputs": [],
   "source": [
    "geo_model.surfaces"
   ]
  },
  {
   "cell_type": "code",
   "execution_count": null,
   "metadata": {
    "slideshow": {
     "slide_type": "subslide"
    }
   },
   "outputs": [],
   "source": [
    "gp._plot.plot_data(geo_model)"
   ]
  },
  {
   "cell_type": "code",
   "execution_count": null,
   "metadata": {
    "execution_event_id": "465edd6c-2bf0-4032-929a-ac62c1820e66",
    "last_executed_text": "# Create the theano model\ngp.set_interpolation_data(geo_model,\n                         compile_theano=True,\n                         theano_optimizer='fast_compile',\n                         verbose=[])",
    "persistent_id": "958935b1-fd45-47c2-a35a-9eafc3670cb2",
    "slideshow": {
     "slide_type": "skip"
    }
   },
   "outputs": [],
   "source": [
    "# Create the theano model\n",
    "gp.set_interpolator(geo_model,\n",
    "                         compile_theano=True,\n",
    "                         theano_optimizer='fast_compile',\n",
    "                         verbose=[])"
   ]
  },
  {
   "cell_type": "code",
   "execution_count": null,
   "metadata": {
    "execution_event_id": "b12fe2a7-3a94-439a-9db8-d850b91aba28",
    "last_executed_text": "# Compute the model\nsol = gp.compute_model(geo_model, compute_mesh=False)",
    "persistent_id": "ffeeac72-536e-4b3a-9aa8-e88ddce9a059",
    "slideshow": {
     "slide_type": "skip"
    }
   },
   "outputs": [],
   "source": [
    "# Compute the model\n",
    "sol = gp.compute_model(geo_model, compute_mesh=False)"
   ]
  },
  {
   "cell_type": "code",
   "execution_count": null,
   "metadata": {
    "execution_event_id": "530ed12f-a603-4324-818c-4d61e66a687e",
    "last_executed_text": "gp.plot.plot_section(geo_model, cell_number=2, direction='y', show_data=True)",
    "persistent_id": "6eee44a7-88d0-45f0-8a54-828f3d9c0323",
    "slideshow": {
     "slide_type": "subslide"
    }
   },
   "outputs": [],
   "source": [
    "gp._plot.plot_section(geo_model, cell_number=2, direction='y', show_data=True)"
   ]
  },
  {
   "cell_type": "markdown",
   "metadata": {
    "slideshow": {
     "slide_type": "subslide"
    }
   },
   "source": [
    "This works only, because both layers are in the **same** Series, `default_series`.   \n",
    "But what happens, if we define 2 series for the 2 units we have?"
   ]
  },
  {
   "cell_type": "markdown",
   "metadata": {
    "slideshow": {
     "slide_type": "subslide"
    }
   },
   "source": [
    "<a id='2.2'></a>\n",
    "### A model with 2 layers in 2 Series"
   ]
  },
  {
   "cell_type": "code",
   "execution_count": null,
   "metadata": {
    "execution_event_id": "2cc73915-8cf9-40d1-ab80-94642d73fad7",
    "last_executed_text": "gp.map_series_to_surfaces(geo_model,\n                         {\"Series_1\": 'surface_1',\n                         \"Series_2\": 'surface_2'})",
    "persistent_id": "214fa5e0-ddbb-47a9-b305-0d62e6aa4970",
    "slideshow": {
     "slide_type": "fragment"
    }
   },
   "outputs": [],
   "source": [
    "gp.map_series_to_surfaces(geo_model,\n",
    "                         {\"Series_1\": 'unit_1',\n",
    "                         \"Series_2\": 'unit_2'})"
   ]
  },
  {
   "cell_type": "code",
   "execution_count": null,
   "metadata": {
    "execution_event_id": "0d094b40-7811-48fe-b939-1330c851dffa",
    "last_executed_text": "# Create the theano model\ngp.set_interpolation_data(geo_model,\n                         compile_theano=True,\n                         theano_optimizer='fast_compile',\n                         verbose=[])",
    "persistent_id": "958935b1-fd45-47c2-a35a-9eafc3670cb2",
    "slideshow": {
     "slide_type": "skip"
    }
   },
   "outputs": [],
   "source": [
    "# Create the theano model\n",
    "gp.set_interpolator(geo_model,\n",
    "                         compile_theano=True,\n",
    "                         theano_optimizer='fast_compile',\n",
    "                         verbose=[])"
   ]
  },
  {
   "cell_type": "code",
   "execution_count": null,
   "metadata": {
    "execution_event_id": "38ccc544-4708-4bdd-8b30-5e4fec2215ca",
    "last_executed_text": "# Compute the model\nsol = gp.compute_model(geo_model, compute_mesh=False)",
    "persistent_id": "ffeeac72-536e-4b3a-9aa8-e88ddce9a059",
    "scrolled": true,
    "slideshow": {
     "slide_type": "subslide"
    }
   },
   "outputs": [],
   "source": [
    "# Compute the model\n",
    "sol = gp.compute_model(geo_model, compute_mesh=False)\n",
    "## This will cause an error, and that is on purpose ##"
   ]
  },
  {
   "cell_type": "markdown",
   "metadata": {
    "slideshow": {
     "slide_type": "fragment"
    }
   },
   "source": [
    "One *orientation* value is enough two model two layers **given** they are in the same [Series](https://gempy.readthedocs.io/Data/data.Series.html#data.Series). Are they in different Series, this will not work.\n",
    "\n",
    "The reason is, that GemPy thinks that units in different Series have a different scalar field (or gradient), and are not sub-parallel. Hence, each Series needs its own orientation values in addition to the _Interface_ points to have a working model.\n",
    "\n",
    "For this model with 2 Series, we thus need **at least** 1 _Orientation_ value (the more the better)."
   ]
  },
  {
   "cell_type": "markdown",
   "metadata": {
    "slideshow": {
     "slide_type": "subslide"
    }
   },
   "source": [
    "<a id='2.3'></a>\n",
    "### Again a model with 2 layers and 2 Series\n",
    "#### ... now with enough input data:"
   ]
  },
  {
   "cell_type": "code",
   "execution_count": null,
   "metadata": {
    "slideshow": {
     "slide_type": "skip"
    }
   },
   "outputs": [],
   "source": [
    "geo_model = gp.create_model('2layers_2series')\n",
    "\n",
    "gp.init_data(geo_model, [0., 10., 0., 2., 0., 10.], [100, 3, 100],\n",
    "            path_i = 'data/02_2Layer_simple_model_interfaces.csv',\n",
    "            path_o = 'data/02_2Layer_simple_model_2orientation.csv');"
   ]
  },
  {
   "cell_type": "code",
   "execution_count": null,
   "metadata": {
    "execution_event_id": "2bba9a7e-f67c-47e7-bbee-71924c124b80",
    "last_executed_text": "geo_model.surfaces",
    "persistent_id": "c03906ba-4aef-4552-afa9-393f86a04e4e",
    "slideshow": {
     "slide_type": "fragment"
    }
   },
   "outputs": [],
   "source": [
    "geo_model.surfaces"
   ]
  },
  {
   "cell_type": "markdown",
   "metadata": {
    "slideshow": {
     "slide_type": "fragment"
    }
   },
   "source": [
    "**Attention** Here, both units belong to the same Series: `Default series`"
   ]
  },
  {
   "cell_type": "code",
   "execution_count": null,
   "metadata": {
    "slideshow": {
     "slide_type": "subslide"
    }
   },
   "outputs": [],
   "source": [
    "gp._plot.plot_data(geo_model)"
   ]
  },
  {
   "cell_type": "code",
   "execution_count": null,
   "metadata": {
    "execution_event_id": "465edd6c-2bf0-4032-929a-ac62c1820e66",
    "last_executed_text": "# Create the theano model\ngp.set_interpolation_data(geo_model,\n                         compile_theano=True,\n                         theano_optimizer='fast_compile',\n                         verbose=[])",
    "persistent_id": "958935b1-fd45-47c2-a35a-9eafc3670cb2",
    "slideshow": {
     "slide_type": "skip"
    }
   },
   "outputs": [],
   "source": [
    "# Create the theano model\n",
    "gp.set_interpolator(geo_model,\n",
    "                         compile_theano=True,\n",
    "                         theano_optimizer='fast_compile',\n",
    "                         verbose=[])"
   ]
  },
  {
   "cell_type": "code",
   "execution_count": null,
   "metadata": {
    "execution_event_id": "b12fe2a7-3a94-439a-9db8-d850b91aba28",
    "last_executed_text": "# Compute the model\nsol = gp.compute_model(geo_model, compute_mesh=False)",
    "persistent_id": "ffeeac72-536e-4b3a-9aa8-e88ddce9a059",
    "slideshow": {
     "slide_type": "skip"
    }
   },
   "outputs": [],
   "source": [
    "# Compute the model\n",
    "sol = gp.compute_model(geo_model, compute_mesh=False)"
   ]
  },
  {
   "cell_type": "code",
   "execution_count": null,
   "metadata": {
    "execution_event_id": "530ed12f-a603-4324-818c-4d61e66a687e",
    "last_executed_text": "gp.plot.plot_section(geo_model, cell_number=2, direction='y', show_data=True)",
    "persistent_id": "6eee44a7-88d0-45f0-8a54-828f3d9c0323",
    "slideshow": {
     "slide_type": "subslide"
    }
   },
   "outputs": [],
   "source": [
    "gp._plot.plot_section(geo_model, cell_number=2, direction='y', show_data=True)"
   ]
  },
  {
   "cell_type": "markdown",
   "metadata": {
    "slideshow": {
     "slide_type": "fragment"
    }
   },
   "source": [
    "Adding a second _Orientation_ value changes the model drastically compared to the previous one. The two different orienation values create a gradient-field which curves the layers although the interface points are at the same depth. In addition, the blue unit is curved more than the red one, as the flat orientation value at Z=6 flattens the gradient field. At Z=3, the blue orientation value causes the more inclined gradient field:"
   ]
  },
  {
   "cell_type": "code",
   "execution_count": null,
   "metadata": {},
   "outputs": [],
   "source": [
    "# Darstellen des Gradientenfeldes\n",
    "gp._plot.plot_scalar_field(geo_model, cell_number=2, direction='y', show_data=True)"
   ]
  },
  {
   "cell_type": "markdown",
   "metadata": {
    "slideshow": {
     "slide_type": "slide"
    }
   },
   "source": [
    "<a id='4'></a>\n",
    "## Fault relations \n",
    "Until now, we only looked at continuous rock units. Now we introduce another common feature of geological models: Faults. Faults are discontinuities, which displace rock units. Interfaces and Orientations can be sampled from a fault similarly to a rock unit\n",
    "\n",
    "Therefore, faults are also modeled similar to geological units in GemPy. They have their own gradient-field, which disturbs the gradient field of geological units. This disturbance causes the displacement of the model surfaces, as those **always** are equal to an iso-line of the gradient-field belonging to the geological unit."
   ]
  },
  {
   "cell_type": "code",
   "execution_count": null,
   "metadata": {
    "slideshow": {
     "slide_type": "skip"
    }
   },
   "outputs": [],
   "source": [
    "# Modell with 2 faults\n",
    "geo_model = gp.create_model('2layers_2faults')\n",
    "\n",
    "gp.init_data(geo_model, [0., 10., 0., 2., 0., 10.], [100, 3, 100],\n",
    "            path_i = 'data/04_2Layers_2Faults_interfaces.csv',\n",
    "            path_o = 'data/04_2Layers_2Faults_orientations.csv');"
   ]
  },
  {
   "cell_type": "code",
   "execution_count": null,
   "metadata": {
    "execution_event_id": "2bba9a7e-f67c-47e7-bbee-71924c124b80",
    "last_executed_text": "geo_model.surfaces",
    "persistent_id": "c03906ba-4aef-4552-afa9-393f86a04e4e",
    "slideshow": {
     "slide_type": "fragment"
    }
   },
   "outputs": [],
   "source": [
    "geo_model.surfaces"
   ]
  },
  {
   "cell_type": "code",
   "execution_count": null,
   "metadata": {
    "slideshow": {
     "slide_type": "subslide"
    }
   },
   "outputs": [],
   "source": [
    "gp._plot.plot_data(geo_model)"
   ]
  },
  {
   "cell_type": "markdown",
   "metadata": {},
   "source": [
    "A peculiar thing with faults in Gempy is that they should always have their own Series.\n",
    "\n",
    "The youngest fault-series is at the top, as is the youngest geological unit in a pile. Generally, in a pile, first come the fault series, then the geological series with the relative position **young** --> **old**."
   ]
  },
  {
   "cell_type": "code",
   "execution_count": null,
   "metadata": {
    "slideshow": {
     "slide_type": "subslide"
    }
   },
   "outputs": [],
   "source": [
    "# Add faults to series\n",
    "gp.map_series_to_surfaces(geo_model,\n",
    "                         {\"Fault2_series\":'fault2',\n",
    "                          \"Fault1_series\":'fault1',\n",
    "                          \"Strati_series\":('unit_2', 'unit_1')})"
   ]
  },
  {
   "cell_type": "markdown",
   "metadata": {},
   "source": [
    "Faults have to be set as faults for gempy (so that their gradient field disturbs the others), and can be assigned the same color:"
   ]
  },
  {
   "cell_type": "code",
   "execution_count": null,
   "metadata": {
    "slideshow": {
     "slide_type": "fragment"
    }
   },
   "outputs": [],
   "source": [
    "# Störungsfarbe\n",
    "geo_model.set_is_fault(['Fault1_series', 'Fault2_series'], change_color=True)"
   ]
  },
  {
   "cell_type": "code",
   "execution_count": null,
   "metadata": {
    "execution_event_id": "65e21319-6c4e-4dc4-bc56-ecc7e8d76a21",
    "last_executed_text": "# Create the theano model\ngp.set_interpolation_data(geo_model,\n                         compile_theano=True,\n                         theano_optimizer='fast_compile',\n                         verbose=[])",
    "persistent_id": "958935b1-fd45-47c2-a35a-9eafc3670cb2",
    "slideshow": {
     "slide_type": "skip"
    }
   },
   "outputs": [],
   "source": [
    "# Create the theano model\n",
    "gp.set_interpolator(geo_model,\n",
    "                         compile_theano=True,\n",
    "                         theano_optimizer='fast_compile',\n",
    "                         verbose=[])"
   ]
  },
  {
   "cell_type": "code",
   "execution_count": null,
   "metadata": {
    "execution_event_id": "7c72557f-2924-4980-89f3-b937de1f9b6b",
    "last_executed_text": "# Compute the model\nsol = gp.compute_model(geo_model, compute_mesh=False)",
    "persistent_id": "ffeeac72-536e-4b3a-9aa8-e88ddce9a059",
    "slideshow": {
     "slide_type": "skip"
    }
   },
   "outputs": [],
   "source": [
    "# Compute the model\n",
    "sol = gp.compute_model(geo_model)"
   ]
  },
  {
   "cell_type": "markdown",
   "metadata": {},
   "source": [
    "Plot the result:"
   ]
  },
  {
   "cell_type": "code",
   "execution_count": null,
   "metadata": {
    "execution_event_id": "324ff05b-56f6-402f-8c9d-ef1167114468",
    "last_executed_text": "gp.plot.plot_section(geo_model, cell_number=2, direction='y')",
    "persistent_id": "4c10355c-9288-4cce-96f0-7914b3fcf6f7",
    "slideshow": {
     "slide_type": "subslide"
    }
   },
   "outputs": [],
   "source": [
    "gp._plot.plot_section(geo_model, cell_number=2, direction='y')"
   ]
  },
  {
   "cell_type": "markdown",
   "metadata": {
    "slideshow": {
     "slide_type": "fragment"
    }
   },
   "source": [
    "In this structure, we see the displacement of blue and purple units along the faults. At the lower model boundary, where the faults cross, we see that the blue unit seems to re-appear. This isn't realistic, probably one fault stops at the other one?\n",
    "\n",
    "If a fault stops at another one, and also which faults affect which geological units can be defined in a boolean matrix, the `fault_relations_df`:"
   ]
  },
  {
   "cell_type": "code",
   "execution_count": null,
   "metadata": {
    "slideshow": {
     "slide_type": "subslide"
    }
   },
   "outputs": [],
   "source": [
    "# fault relations dataframe\n",
    "geo_model.faults.faults_relations_df"
   ]
  },
  {
   "cell_type": "markdown",
   "metadata": {},
   "source": [
    "This fault relation boolean matrix shows True if a fault displaces another series (regardless if it is a geological unit or another fault). Default is: all faults displace all geological units. If we would like to let `Fault1` be affected by `Fault2`, we set the respective entry to `True`.\n",
    "The `fault_relations_df` is an \"upper triangular matrix\", so we only look at the upper right half."
   ]
  },
  {
   "cell_type": "code",
   "execution_count": null,
   "metadata": {},
   "outputs": [],
   "source": [
    "# New Boolean Array\n",
    "fr = np.array([[False, True, True, True],\n",
    "               [False, False, True, True],\n",
    "               [False, False, False, False],\n",
    "               [False, False, False, False]])"
   ]
  },
  {
   "cell_type": "code",
   "execution_count": null,
   "metadata": {
    "slideshow": {
     "slide_type": "subslide"
    }
   },
   "outputs": [],
   "source": [
    "geo_model._faults.set_fault_relation(fr)"
   ]
  },
  {
   "cell_type": "code",
   "execution_count": null,
   "metadata": {
    "execution_event_id": "65e21319-6c4e-4dc4-bc56-ecc7e8d76a21",
    "last_executed_text": "# Create the theano model\ngp.set_interpolation_data(geo_model,\n                         compile_theano=True,\n                         theano_optimizer='fast_compile',\n                         verbose=[])",
    "persistent_id": "958935b1-fd45-47c2-a35a-9eafc3670cb2",
    "slideshow": {
     "slide_type": "skip"
    }
   },
   "outputs": [],
   "source": [
    "# Create the theano model\n",
    "gp.set_interpolator(geo_model,\n",
    "                         compile_theano=True,\n",
    "                         theano_optimizer='fast_compile',\n",
    "                         verbose=[])"
   ]
  },
  {
   "cell_type": "code",
   "execution_count": null,
   "metadata": {
    "execution_event_id": "7c72557f-2924-4980-89f3-b937de1f9b6b",
    "last_executed_text": "# Compute the model\nsol = gp.compute_model(geo_model, compute_mesh=False)",
    "persistent_id": "ffeeac72-536e-4b3a-9aa8-e88ddce9a059",
    "slideshow": {
     "slide_type": "skip"
    }
   },
   "outputs": [],
   "source": [
    "# Compute the model\n",
    "sol = gp.compute_model(geo_model, compute_mesh=False)"
   ]
  },
  {
   "cell_type": "code",
   "execution_count": null,
   "metadata": {
    "execution_event_id": "324ff05b-56f6-402f-8c9d-ef1167114468",
    "last_executed_text": "gp.plot.plot_section(geo_model, cell_number=2, direction='y')",
    "persistent_id": "4c10355c-9288-4cce-96f0-7914b3fcf6f7",
    "slideshow": {
     "slide_type": "subslide"
    }
   },
   "outputs": [],
   "source": [
    "# Show the faults\n",
    "gp._plot.plot_section(geo_model, cell_number=1, direction='y', show_data=True)"
   ]
  },
  {
   "cell_type": "markdown",
   "metadata": {},
   "source": [
    "Here we see that `Fault1` stopps at the other fault, and follows now `Fault2`. Faults are visible throughout the model space, but don't affect the whole model domain!"
   ]
  },
  {
   "cell_type": "markdown",
   "metadata": {
    "slideshow": {
     "slide_type": "slide"
    }
   },
   "source": [
    "<a id='5'></a>\n",
    "## Onlap Relations\n",
    "\n",
    "Series in GemPy can have two different _Relations_ compared to older, underlying Series. The two _Relations_ are `Onlap` or `Erode`. Per default all younger units erode older units, so their bottom_relation is `Erode`. If this is changed to `Onlap`, a younger Unit stops at an older one.\n",
    "\n",
    "Let's test this in a model:"
   ]
  },
  {
   "cell_type": "code",
   "execution_count": null,
   "metadata": {
    "execution_event_id": "a392b2c7-9bf1-4511-acbf-b276a3443741",
    "last_executed_text": "geo_model = gp.create_model('Test_model')",
    "persistent_id": "7fe8c499-d2b4-4e7d-b173-b4f91da4e3db",
    "slideshow": {
     "slide_type": "skip"
    }
   },
   "outputs": [],
   "source": [
    "# Model creation\n",
    "geo_model = gp.create_model('Test_model')"
   ]
  },
  {
   "cell_type": "code",
   "execution_count": null,
   "metadata": {
    "execution_event_id": "82921bb8-f745-40ae-aa02-b491992b8581",
    "last_executed_text": "gp.init_data(geo_model, [0, 10., 0, 2., 0, 5.], [100, 3, 100],\n            path_o = '../data/toy_fold_unconformity_orientations.csv',\n             path_i = '../data/toy_fold_unconformity_interfaces.csv', default_values=True);",
    "persistent_id": "c3c7c07d-a0d0-48c1-ab70-08925e9a68ac",
    "slideshow": {
     "slide_type": "skip"
    }
   },
   "outputs": [],
   "source": [
    "gp.init_data(geo_model, [0, 10., 0, 2., 0, 5.], [100, 3, 100],\n",
    "            path_o = 'data/05_toy_fold_unconformity_orientations.csv',\n",
    "             path_i = 'data/05_toy_fold_unconformity_interfaces.csv', default_values=True);"
   ]
  },
  {
   "cell_type": "code",
   "execution_count": null,
   "metadata": {
    "execution_event_id": "25a966db-89b9-4337-980f-a13eb8cd902f",
    "last_executed_text": "geo_model.surfaces",
    "persistent_id": "bb99632f-0ce2-4f80-9c64-6e0ee35d877e",
    "slideshow": {
     "slide_type": "fragment"
    }
   },
   "outputs": [],
   "source": [
    "geo_model.surfaces"
   ]
  },
  {
   "cell_type": "code",
   "execution_count": null,
   "metadata": {
    "execution_event_id": "b94b7e4f-969b-4231-acf3-3606eb03f9fb",
    "last_executed_text": "gp.map_series_to_surfaces(geo_model,\n                         {\"Flat_Series\":'Flat',\n                          \"Inclined_Series\":'Inclined',\n                          \"Fold_Series\": ('Basefold', 'Topfold')})",
    "persistent_id": "2c5c3b76-8850-40d2-a1d8-57b9124f1e7c",
    "slideshow": {
     "slide_type": "subslide"
    }
   },
   "outputs": [],
   "source": [
    "# Map the units to series\n",
    "gp.map_series_to_surfaces(geo_model,\n",
    "                         {\"Flat_Series\":'Flat',\n",
    "                          \"Inclined_Series\":'Inclined',\n",
    "                          \"Fold_Series\": ('Basefold', 'Topfold')})"
   ]
  },
  {
   "cell_type": "markdown",
   "metadata": {},
   "source": [
    "Now, all units have their own Series. A \"folded\" one in the lower left corner, a single \"inclined\" Series and a flat one, the youngest:"
   ]
  },
  {
   "cell_type": "code",
   "execution_count": null,
   "metadata": {
    "execution_event_id": "11fc0b01-12af-4863-a4d2-bbcd2750cf5a",
    "last_executed_text": "gp.plot.plot_data(geo_model, direction='y')",
    "persistent_id": "af820031-ee31-482c-a2ea-e357b1aaf7f4",
    "slideshow": {
     "slide_type": "subslide"
    }
   },
   "outputs": [],
   "source": [
    "gp._plot.plot_data(geo_model, direction='y')"
   ]
  },
  {
   "cell_type": "markdown",
   "metadata": {},
   "source": [
    "<div class=\"alert alert-info\"> \n",
    "    \n",
    "**Question:** \n",
    "All Units have `BottomRelation` `Erode` gesetzt. How do you think the resulting model will look like?\n",
    "</div>"
   ]
  },
  {
   "cell_type": "code",
   "execution_count": null,
   "metadata": {
    "execution_event_id": "7e1a89c3-bb9b-47b5-8096-913785af2aaa",
    "last_executed_text": "geo_model.series",
    "persistent_id": "c55765fd-ae36-4ae1-8b26-62396d1e262e",
    "slideshow": {
     "slide_type": "skip"
    }
   },
   "outputs": [],
   "source": [
    "geo_model.series"
   ]
  },
  {
   "cell_type": "code",
   "execution_count": null,
   "metadata": {
    "execution_event_id": "65e21319-6c4e-4dc4-bc56-ecc7e8d76a21",
    "last_executed_text": "# Create the theano model\ngp.set_interpolation_data(geo_model,\n                         compile_theano=True,\n                         theano_optimizer='fast_compile',\n                         verbose=[])",
    "persistent_id": "958935b1-fd45-47c2-a35a-9eafc3670cb2",
    "slideshow": {
     "slide_type": "skip"
    }
   },
   "outputs": [],
   "source": [
    "# Create the theano model\n",
    "gp.set_interpolator(geo_model,\n",
    "                         compile_theano=True,\n",
    "                         theano_optimizer='fast_compile',\n",
    "                         verbose=[])"
   ]
  },
  {
   "cell_type": "code",
   "execution_count": null,
   "metadata": {
    "execution_event_id": "7c72557f-2924-4980-89f3-b937de1f9b6b",
    "last_executed_text": "# Compute the model\nsol = gp.compute_model(geo_model, compute_mesh=False)",
    "persistent_id": "ffeeac72-536e-4b3a-9aa8-e88ddce9a059",
    "slideshow": {
     "slide_type": "skip"
    }
   },
   "outputs": [],
   "source": [
    "# Compute the model\n",
    "sol = gp.compute_model(geo_model, compute_mesh=False)"
   ]
  },
  {
   "cell_type": "code",
   "execution_count": null,
   "metadata": {
    "execution_event_id": "324ff05b-56f6-402f-8c9d-ef1167114468",
    "last_executed_text": "gp.plot.plot_section(geo_model, cell_number=2, direction='y')",
    "persistent_id": "4c10355c-9288-4cce-96f0-7914b3fcf6f7",
    "slideshow": {
     "slide_type": "subslide"
    }
   },
   "outputs": [],
   "source": [
    "gp._plot.plot_section(geo_model, cell_number=2, direction='y')"
   ]
  },
  {
   "cell_type": "markdown",
   "metadata": {},
   "source": [
    "As expected?"
   ]
  },
  {
   "cell_type": "markdown",
   "metadata": {
    "slideshow": {
     "slide_type": "subslide"
    }
   },
   "source": [
    "<a id='5.1'></a>\n",
    "### Inclined as ONLAP\n",
    "\n",
    "Now let's have a look what happens if `Inclined` is set to `BottomRelation` Onlap."
   ]
  },
  {
   "cell_type": "code",
   "execution_count": null,
   "metadata": {
    "execution_event_id": "eb2e0473-1396-4f5f-8dad-67fb08677277",
    "last_executed_text": "# so let's set the Pregraben_Series to Onlap\ngeo_model.series.set_bottom_relation('Inclined_Series', bottom_relation='Onlap')",
    "persistent_id": "48a0c626-e069-4eee-9214-915ae778531d",
    "slideshow": {
     "slide_type": "fragment"
    }
   },
   "outputs": [],
   "source": [
    "# Inclined to Onlap\n",
    "geo_model._series.set_bottom_relation('Inclined_Series', bottom_relation='Onlap')"
   ]
  },
  {
   "cell_type": "code",
   "execution_count": null,
   "metadata": {
    "execution_event_id": "3433b6a7-3e26-468c-b564-c3a199b4e5b5",
    "last_executed_text": "gp.plot.plot_section(geo_model, cell_number=2, direction='y')",
    "persistent_id": "6eee44a7-88d0-45f0-8a54-828f3d9c0323",
    "slideshow": {
     "slide_type": "subslide"
    }
   },
   "outputs": [],
   "source": [
    "# Data Plot\n",
    "gp._plot.plot_data(geo_model, direction='y')"
   ]
  },
  {
   "cell_type": "code",
   "execution_count": null,
   "metadata": {
    "execution_event_id": "0876789a-ebad-4647-b4db-4293678204fb",
    "last_executed_text": "# Create the theano model\ngp.set_interpolation_data(geo_model,\n                         compile_theano=True,\n                         theano_optimizer='fast_compile',\n                         verbose=[])\n# Compute the model\nsol = gp.compute_model(geo_model, compute_mesh=False)",
    "persistent_id": "d037182e-5ba9-435b-9aff-c032ce7611eb",
    "slideshow": {
     "slide_type": "skip"
    }
   },
   "outputs": [],
   "source": [
    "# Create the theano model\n",
    "gp.set_interpolator(geo_model,\n",
    "                         compile_theano=True,\n",
    "                         theano_optimizer='fast_compile',\n",
    "                         verbose=[])\n",
    "# Compute the model\n",
    "sol = gp.compute_model(geo_model, compute_mesh=False)"
   ]
  },
  {
   "cell_type": "code",
   "execution_count": null,
   "metadata": {
    "execution_event_id": "3433b6a7-3e26-468c-b564-c3a199b4e5b5",
    "last_executed_text": "gp.plot.plot_section(geo_model, cell_number=2, direction='y')",
    "persistent_id": "6eee44a7-88d0-45f0-8a54-828f3d9c0323",
    "slideshow": {
     "slide_type": "subslide"
    }
   },
   "outputs": [],
   "source": [
    "# result Plot\n",
    "gp._plot.plot_section(geo_model, cell_number=2, direction='y')"
   ]
  },
  {
   "cell_type": "markdown",
   "metadata": {},
   "source": [
    "This might be somewhat confusing? But when we look closely, this actually makes Sense!"
   ]
  },
  {
   "cell_type": "markdown",
   "metadata": {
    "slideshow": {
     "slide_type": "subslide"
    }
   },
   "source": [
    "<a id='5.2'></a>\n",
    "### Inclined and Flat as ONLAP\n",
    "\n",
    "Now next to `Inclined` we also set the Series `Flat` on _Onlap_, and have a look at the result:"
   ]
  },
  {
   "cell_type": "code",
   "execution_count": null,
   "metadata": {
    "persistent_id": "448a642d-0504-4246-8b36-8706f4fcf504",
    "slideshow": {
     "slide_type": "fragment"
    }
   },
   "outputs": [],
   "source": [
    "# both young series are now onlap:\n",
    "geo_model._series.set_bottom_relation(['Flat_Series','Inclined_Series'], bottom_relation='Onlap')"
   ]
  },
  {
   "cell_type": "code",
   "execution_count": null,
   "metadata": {
    "persistent_id": "af8b9295-37b2-49a9-8ec4-5d7e7f9851da",
    "slideshow": {
     "slide_type": "skip"
    }
   },
   "outputs": [],
   "source": [
    "# Create the theano model\n",
    "gp.set_interpolator(geo_model,\n",
    "                         compile_theano=True,\n",
    "                         theano_optimizer='fast_compile',\n",
    "                         verbose=[])\n",
    "# Compute the model\n",
    "sol = gp.compute_model(geo_model, compute_mesh=False)"
   ]
  },
  {
   "cell_type": "code",
   "execution_count": null,
   "metadata": {
    "persistent_id": "1dc685f8-894f-49dd-a723-751d5b824878",
    "slideshow": {
     "slide_type": "subslide"
    }
   },
   "outputs": [],
   "source": [
    "# result plot\n",
    "gp._plot.plot_section(geo_model, cell_number=2, direction='y')"
   ]
  },
  {
   "cell_type": "markdown",
   "metadata": {},
   "source": [
    "Let's have a look at the model in 3D"
   ]
  },
  {
   "cell_type": "code",
   "execution_count": null,
   "metadata": {},
   "outputs": [],
   "source": [
    "gp.plot_3d(geo_model, plotter_type='background')"
   ]
  },
  {
   "cell_type": "markdown",
   "metadata": {},
   "source": [
    "<a id='6'></a>\n",
    "## Final thoughts\n",
    "\n",
    "In this notebook, we tried to give an overview over the most basic GemPy functionalities, Surfaces, Series, Relations...all that builds the basis of GemPy, but its functionality goes way beyond that. However, it is important to understand the basics shown here, as they help to build more complex models (with a robust fundament)."
   ]
  },
  {
   "cell_type": "code",
   "execution_count": null,
   "metadata": {},
   "outputs": [],
   "source": [
    "print(\"That's all folks!\")"
   ]
  }
 ],
 "metadata": {
  "hide_input": false,
  "history": [
   {
    "cell": {
     "executionCount": 1,
     "executionEventId": "d74d9d0e-2e8e-4bec-b205-84ff36e87b54",
     "hasError": false,
     "id": "e42a8fde-0cfa-454d-ad17-512f37e466d3",
     "outputs": [],
     "persistentId": "2adee47a-2aad-4a4e-8e39-d5af93d160a2",
     "text": "import gempy as gp\n%matplotlib inline"
    },
    "executionTime": "2019-12-10T08:54:25.946Z"
   },
   {
    "cell": {
     "executionCount": 2,
     "executionEventId": "a392b2c7-9bf1-4511-acbf-b276a3443741",
     "hasError": false,
     "id": "f5664b5e-c351-4638-8775-29c67486005b",
     "outputs": [],
     "persistentId": "7fe8c499-d2b4-4e7d-b173-b4f91da4e3db",
     "text": "geo_model = gp.create_model('Test_model')"
    },
    "executionTime": "2019-12-10T08:54:26.817Z"
   },
   {
    "cell": {
     "executionCount": 3,
     "executionEventId": "82921bb8-f745-40ae-aa02-b491992b8581",
     "hasError": false,
     "id": "908c9bdb-440c-4cb0-97a4-8011345f187f",
     "outputs": [
      {
       "name": "stdout",
       "output_type": "stream",
       "text": "Active grids: ['regular']\n"
      }
     ],
     "persistentId": "c3c7c07d-a0d0-48c1-ab70-08925e9a68ac",
     "text": "gp.init_data(geo_model, [0, 10., 0, 2., 0, 5.], [100, 3, 100],\n            path_o = '../data/toy_fold_unconformity_orientations.csv',\n             path_i = '../data/toy_fold_unconformity_interfaces.csv', default_values=True);"
    },
    "executionTime": "2019-12-10T08:54:27.089Z"
   },
   {
    "cell": {
     "executionCount": 4,
     "executionEventId": "25a966db-89b9-4337-980f-a13eb8cd902f",
     "hasError": false,
     "id": "dd5ec399-8dfb-4183-9288-9e740c7704c5",
     "outputs": [
      {
       "data": {
        "text/html": "<style  type=\"text/css\" >\n    #T_abb4a1b8_1b2a_11ea_8239_f01898ee72bcrow0_col4 {\n            background-color:  #015482;\n        }    #T_abb4a1b8_1b2a_11ea_8239_f01898ee72bcrow1_col4 {\n            background-color:  #9f0052;\n        }    #T_abb4a1b8_1b2a_11ea_8239_f01898ee72bcrow2_col4 {\n            background-color:  #ffbe00;\n        }    #T_abb4a1b8_1b2a_11ea_8239_f01898ee72bcrow3_col4 {\n            background-color:  #728f02;\n        }    #T_abb4a1b8_1b2a_11ea_8239_f01898ee72bcrow4_col4 {\n            background-color:  #443988;\n        }</style><table id=\"T_abb4a1b8_1b2a_11ea_8239_f01898ee72bc\" ><thead>    <tr>        <th class=\"blank level0\" ></th>        <th class=\"col_heading level0 col0\" >surface</th>        <th class=\"col_heading level0 col1\" >series</th>        <th class=\"col_heading level0 col2\" >order_surfaces</th>        <th class=\"col_heading level0 col3\" >isBasement</th>        <th class=\"col_heading level0 col4\" >color</th>        <th class=\"col_heading level0 col5\" >id</th>    </tr></thead><tbody>\n                <tr>\n                        <th id=\"T_abb4a1b8_1b2a_11ea_8239_f01898ee72bclevel0_row0\" class=\"row_heading level0 row0\" >0</th>\n                        <td id=\"T_abb4a1b8_1b2a_11ea_8239_f01898ee72bcrow0_col0\" class=\"data row0 col0\" >Basefold</td>\n                        <td id=\"T_abb4a1b8_1b2a_11ea_8239_f01898ee72bcrow0_col1\" class=\"data row0 col1\" >Default series</td>\n                        <td id=\"T_abb4a1b8_1b2a_11ea_8239_f01898ee72bcrow0_col2\" class=\"data row0 col2\" >1</td>\n                        <td id=\"T_abb4a1b8_1b2a_11ea_8239_f01898ee72bcrow0_col3\" class=\"data row0 col3\" >False</td>\n                        <td id=\"T_abb4a1b8_1b2a_11ea_8239_f01898ee72bcrow0_col4\" class=\"data row0 col4\" >#015482</td>\n                        <td id=\"T_abb4a1b8_1b2a_11ea_8239_f01898ee72bcrow0_col5\" class=\"data row0 col5\" >1</td>\n            </tr>\n            <tr>\n                        <th id=\"T_abb4a1b8_1b2a_11ea_8239_f01898ee72bclevel0_row1\" class=\"row_heading level0 row1\" >1</th>\n                        <td id=\"T_abb4a1b8_1b2a_11ea_8239_f01898ee72bcrow1_col0\" class=\"data row1 col0\" >Topfold</td>\n                        <td id=\"T_abb4a1b8_1b2a_11ea_8239_f01898ee72bcrow1_col1\" class=\"data row1 col1\" >Default series</td>\n                        <td id=\"T_abb4a1b8_1b2a_11ea_8239_f01898ee72bcrow1_col2\" class=\"data row1 col2\" >2</td>\n                        <td id=\"T_abb4a1b8_1b2a_11ea_8239_f01898ee72bcrow1_col3\" class=\"data row1 col3\" >False</td>\n                        <td id=\"T_abb4a1b8_1b2a_11ea_8239_f01898ee72bcrow1_col4\" class=\"data row1 col4\" >#9f0052</td>\n                        <td id=\"T_abb4a1b8_1b2a_11ea_8239_f01898ee72bcrow1_col5\" class=\"data row1 col5\" >2</td>\n            </tr>\n            <tr>\n                        <th id=\"T_abb4a1b8_1b2a_11ea_8239_f01898ee72bclevel0_row2\" class=\"row_heading level0 row2\" >2</th>\n                        <td id=\"T_abb4a1b8_1b2a_11ea_8239_f01898ee72bcrow2_col0\" class=\"data row2 col0\" >Inclined</td>\n                        <td id=\"T_abb4a1b8_1b2a_11ea_8239_f01898ee72bcrow2_col1\" class=\"data row2 col1\" >Default series</td>\n                        <td id=\"T_abb4a1b8_1b2a_11ea_8239_f01898ee72bcrow2_col2\" class=\"data row2 col2\" >3</td>\n                        <td id=\"T_abb4a1b8_1b2a_11ea_8239_f01898ee72bcrow2_col3\" class=\"data row2 col3\" >False</td>\n                        <td id=\"T_abb4a1b8_1b2a_11ea_8239_f01898ee72bcrow2_col4\" class=\"data row2 col4\" >#ffbe00</td>\n                        <td id=\"T_abb4a1b8_1b2a_11ea_8239_f01898ee72bcrow2_col5\" class=\"data row2 col5\" >3</td>\n            </tr>\n            <tr>\n                        <th id=\"T_abb4a1b8_1b2a_11ea_8239_f01898ee72bclevel0_row3\" class=\"row_heading level0 row3\" >3</th>\n                        <td id=\"T_abb4a1b8_1b2a_11ea_8239_f01898ee72bcrow3_col0\" class=\"data row3 col0\" >Flat</td>\n                        <td id=\"T_abb4a1b8_1b2a_11ea_8239_f01898ee72bcrow3_col1\" class=\"data row3 col1\" >Default series</td>\n                        <td id=\"T_abb4a1b8_1b2a_11ea_8239_f01898ee72bcrow3_col2\" class=\"data row3 col2\" >4</td>\n                        <td id=\"T_abb4a1b8_1b2a_11ea_8239_f01898ee72bcrow3_col3\" class=\"data row3 col3\" >False</td>\n                        <td id=\"T_abb4a1b8_1b2a_11ea_8239_f01898ee72bcrow3_col4\" class=\"data row3 col4\" >#728f02</td>\n                        <td id=\"T_abb4a1b8_1b2a_11ea_8239_f01898ee72bcrow3_col5\" class=\"data row3 col5\" >4</td>\n            </tr>\n            <tr>\n                        <th id=\"T_abb4a1b8_1b2a_11ea_8239_f01898ee72bclevel0_row4\" class=\"row_heading level0 row4\" >4</th>\n                        <td id=\"T_abb4a1b8_1b2a_11ea_8239_f01898ee72bcrow4_col0\" class=\"data row4 col0\" >basement</td>\n                        <td id=\"T_abb4a1b8_1b2a_11ea_8239_f01898ee72bcrow4_col1\" class=\"data row4 col1\" >Basement</td>\n                        <td id=\"T_abb4a1b8_1b2a_11ea_8239_f01898ee72bcrow4_col2\" class=\"data row4 col2\" >1</td>\n                        <td id=\"T_abb4a1b8_1b2a_11ea_8239_f01898ee72bcrow4_col3\" class=\"data row4 col3\" >True</td>\n                        <td id=\"T_abb4a1b8_1b2a_11ea_8239_f01898ee72bcrow4_col4\" class=\"data row4 col4\" >#443988</td>\n                        <td id=\"T_abb4a1b8_1b2a_11ea_8239_f01898ee72bcrow4_col5\" class=\"data row4 col5\" >5</td>\n            </tr>\n    </tbody></table>",
        "text/plain": "    surface          series  order_surfaces  isBasement    color vertices edges  id\n0  Basefold  Default series               1       False  #015482      NaN   NaN   1\n1   Topfold  Default series               2       False  #9f0052      NaN   NaN   2\n2  Inclined  Default series               3       False  #ffbe00      NaN   NaN   3\n3      Flat  Default series               4       False  #728f02      NaN   NaN   4\n4  basement        Basement               1        True  #443988      NaN   NaN   5"
       },
       "execution_count": 4,
       "metadata": {},
       "output_type": "execute_result"
      }
     ],
     "persistentId": "bb99632f-0ce2-4f80-9c64-6e0ee35d877e",
     "text": "geo_model.surfaces"
    },
    "executionTime": "2019-12-10T08:54:27.185Z"
   },
   {
    "cell": {
     "executionCount": 5,
     "executionEventId": "b94b7e4f-969b-4231-acf3-3606eb03f9fb",
     "hasError": false,
     "id": "2a1563b1-fd1a-4013-9c32-8494eea3ae77",
     "outputs": [
      {
       "data": {
        "text/html": "<style  type=\"text/css\" >\n    #T_ad3700e4_1b2a_11ea_9a77_f01898ee72bcrow0_col4 {\n            background-color:  #728f02;\n        }    #T_ad3700e4_1b2a_11ea_9a77_f01898ee72bcrow1_col4 {\n            background-color:  #ffbe00;\n        }    #T_ad3700e4_1b2a_11ea_9a77_f01898ee72bcrow2_col4 {\n            background-color:  #015482;\n        }    #T_ad3700e4_1b2a_11ea_9a77_f01898ee72bcrow3_col4 {\n            background-color:  #9f0052;\n        }    #T_ad3700e4_1b2a_11ea_9a77_f01898ee72bcrow4_col4 {\n            background-color:  #443988;\n        }</style><table id=\"T_ad3700e4_1b2a_11ea_9a77_f01898ee72bc\" ><thead>    <tr>        <th class=\"blank level0\" ></th>        <th class=\"col_heading level0 col0\" >surface</th>        <th class=\"col_heading level0 col1\" >series</th>        <th class=\"col_heading level0 col2\" >order_surfaces</th>        <th class=\"col_heading level0 col3\" >isBasement</th>        <th class=\"col_heading level0 col4\" >color</th>        <th class=\"col_heading level0 col5\" >id</th>    </tr></thead><tbody>\n                <tr>\n                        <th id=\"T_ad3700e4_1b2a_11ea_9a77_f01898ee72bclevel0_row0\" class=\"row_heading level0 row0\" >3</th>\n                        <td id=\"T_ad3700e4_1b2a_11ea_9a77_f01898ee72bcrow0_col0\" class=\"data row0 col0\" >Flat</td>\n                        <td id=\"T_ad3700e4_1b2a_11ea_9a77_f01898ee72bcrow0_col1\" class=\"data row0 col1\" >Flat_Series</td>\n                        <td id=\"T_ad3700e4_1b2a_11ea_9a77_f01898ee72bcrow0_col2\" class=\"data row0 col2\" >1</td>\n                        <td id=\"T_ad3700e4_1b2a_11ea_9a77_f01898ee72bcrow0_col3\" class=\"data row0 col3\" >False</td>\n                        <td id=\"T_ad3700e4_1b2a_11ea_9a77_f01898ee72bcrow0_col4\" class=\"data row0 col4\" >#728f02</td>\n                        <td id=\"T_ad3700e4_1b2a_11ea_9a77_f01898ee72bcrow0_col5\" class=\"data row0 col5\" >1</td>\n            </tr>\n            <tr>\n                        <th id=\"T_ad3700e4_1b2a_11ea_9a77_f01898ee72bclevel0_row1\" class=\"row_heading level0 row1\" >2</th>\n                        <td id=\"T_ad3700e4_1b2a_11ea_9a77_f01898ee72bcrow1_col0\" class=\"data row1 col0\" >Inclined</td>\n                        <td id=\"T_ad3700e4_1b2a_11ea_9a77_f01898ee72bcrow1_col1\" class=\"data row1 col1\" >Inclined_Series</td>\n                        <td id=\"T_ad3700e4_1b2a_11ea_9a77_f01898ee72bcrow1_col2\" class=\"data row1 col2\" >1</td>\n                        <td id=\"T_ad3700e4_1b2a_11ea_9a77_f01898ee72bcrow1_col3\" class=\"data row1 col3\" >False</td>\n                        <td id=\"T_ad3700e4_1b2a_11ea_9a77_f01898ee72bcrow1_col4\" class=\"data row1 col4\" >#ffbe00</td>\n                        <td id=\"T_ad3700e4_1b2a_11ea_9a77_f01898ee72bcrow1_col5\" class=\"data row1 col5\" >2</td>\n            </tr>\n            <tr>\n                        <th id=\"T_ad3700e4_1b2a_11ea_9a77_f01898ee72bclevel0_row2\" class=\"row_heading level0 row2\" >0</th>\n                        <td id=\"T_ad3700e4_1b2a_11ea_9a77_f01898ee72bcrow2_col0\" class=\"data row2 col0\" >Basefold</td>\n                        <td id=\"T_ad3700e4_1b2a_11ea_9a77_f01898ee72bcrow2_col1\" class=\"data row2 col1\" >Fold_Series</td>\n                        <td id=\"T_ad3700e4_1b2a_11ea_9a77_f01898ee72bcrow2_col2\" class=\"data row2 col2\" >1</td>\n                        <td id=\"T_ad3700e4_1b2a_11ea_9a77_f01898ee72bcrow2_col3\" class=\"data row2 col3\" >False</td>\n                        <td id=\"T_ad3700e4_1b2a_11ea_9a77_f01898ee72bcrow2_col4\" class=\"data row2 col4\" >#015482</td>\n                        <td id=\"T_ad3700e4_1b2a_11ea_9a77_f01898ee72bcrow2_col5\" class=\"data row2 col5\" >3</td>\n            </tr>\n            <tr>\n                        <th id=\"T_ad3700e4_1b2a_11ea_9a77_f01898ee72bclevel0_row3\" class=\"row_heading level0 row3\" >1</th>\n                        <td id=\"T_ad3700e4_1b2a_11ea_9a77_f01898ee72bcrow3_col0\" class=\"data row3 col0\" >Topfold</td>\n                        <td id=\"T_ad3700e4_1b2a_11ea_9a77_f01898ee72bcrow3_col1\" class=\"data row3 col1\" >Fold_Series</td>\n                        <td id=\"T_ad3700e4_1b2a_11ea_9a77_f01898ee72bcrow3_col2\" class=\"data row3 col2\" >2</td>\n                        <td id=\"T_ad3700e4_1b2a_11ea_9a77_f01898ee72bcrow3_col3\" class=\"data row3 col3\" >False</td>\n                        <td id=\"T_ad3700e4_1b2a_11ea_9a77_f01898ee72bcrow3_col4\" class=\"data row3 col4\" >#9f0052</td>\n                        <td id=\"T_ad3700e4_1b2a_11ea_9a77_f01898ee72bcrow3_col5\" class=\"data row3 col5\" >4</td>\n            </tr>\n            <tr>\n                        <th id=\"T_ad3700e4_1b2a_11ea_9a77_f01898ee72bclevel0_row4\" class=\"row_heading level0 row4\" >4</th>\n                        <td id=\"T_ad3700e4_1b2a_11ea_9a77_f01898ee72bcrow4_col0\" class=\"data row4 col0\" >basement</td>\n                        <td id=\"T_ad3700e4_1b2a_11ea_9a77_f01898ee72bcrow4_col1\" class=\"data row4 col1\" >Basement</td>\n                        <td id=\"T_ad3700e4_1b2a_11ea_9a77_f01898ee72bcrow4_col2\" class=\"data row4 col2\" >1</td>\n                        <td id=\"T_ad3700e4_1b2a_11ea_9a77_f01898ee72bcrow4_col3\" class=\"data row4 col3\" >True</td>\n                        <td id=\"T_ad3700e4_1b2a_11ea_9a77_f01898ee72bcrow4_col4\" class=\"data row4 col4\" >#443988</td>\n                        <td id=\"T_ad3700e4_1b2a_11ea_9a77_f01898ee72bcrow4_col5\" class=\"data row4 col5\" >5</td>\n            </tr>\n    </tbody></table>",
        "text/plain": "    surface           series  order_surfaces  isBasement    color vertices edges  id\n3      Flat      Flat_Series               1       False  #728f02      NaN   NaN   1\n2  Inclined  Inclined_Series               1       False  #ffbe00      NaN   NaN   2\n0  Basefold      Fold_Series               1       False  #015482      NaN   NaN   3\n1   Topfold      Fold_Series               2       False  #9f0052      NaN   NaN   4\n4  basement         Basement               1        True  #443988      NaN   NaN   5"
       },
       "execution_count": 5,
       "metadata": {},
       "output_type": "execute_result"
      }
     ],
     "persistentId": "2c5c3b76-8850-40d2-a1d8-57b9124f1e7c",
     "text": "gp.map_series_to_surfaces(geo_model,\n                         {\"Flat_Series\":'Flat',\n                          \"Inclined_Series\":'Inclined',\n                          \"Fold_Series\": ('Basefold', 'Topfold')})"
    },
    "executionTime": "2019-12-10T08:54:29.695Z"
   },
   {
    "cell": {
     "executionCount": 6,
     "executionEventId": "11fc0b01-12af-4863-a4d2-bbcd2750cf5a",
     "hasError": false,
     "id": "20b331f0-5470-4a7c-a43d-e691860eba60",
     "outputs": [
      {
       "data": {
        "text/plain": "<gempy.plot.visualization_2d.PlotData2D at 0x7fdcd140bcc0>"
       },
       "execution_count": 6,
       "metadata": {},
       "output_type": "execute_result"
      },
      {
       "data": {
        "image/png": "iVBORw0KGgoAAAANSUhEUgAAA0QAAAFVCAYAAADPDC85AAAABHNCSVQICAgIfAhkiAAAAAlwSFlzAAALEgAACxIB0t1+/AAAADh0RVh0U29mdHdhcmUAbWF0cGxvdGxpYiB2ZXJzaW9uMy4xLjAsIGh0dHA6Ly9tYXRwbG90bGliLm9yZy+17YcXAAAgAElEQVR4nOzdeVRU5eMG8GdQhmRxABWhxhRNURHEXXE3tyRFTEUEXDHNNNNULNevZoprKq7hioioCYS5pOWW44YbZqaVpI4LKM5MMCiLzO8Pj/ycgAFlZi7MPJ9zOCfufWfuMzAkD++97xVpNBoNiIiIiIiIzJCF0AGIiIiIiIiEwkJERERERERmi4WIiIiIiIjMFgsRERERERGZLRYiIiIiIiIyWyxERERERERktioKefDc3Fw0bdoUWVlZWtutra1x6dIlgVIREREREZG5ELQQJScnIysrC2FhYahVq1b+dgsLTlwREREREZHhCVqI/vjjD1hYWKBHjx6oVKmSkFGIiIiIiMgMCToVc/36dbz77rssQ0REREREJAhBC9GNGzcgFosxcuRINGnSBC1atMCsWbOQkZEhZCwiIiIiIjITIo1GoxHq4G3btkVGRga++OILNGjQAL/99htWrVoFd3d3bNu2DSKRqNjnaN68uc79GRkZcHFxwdGjR/UVm4iIiIiITISg1xAtX74cEokEbm5uAIAWLVqgSpUqmDJlCmQyGdq2bVvqY2g0GqSnp5f6eYiIiIiIyPQIWohatmxZYFunTp0AvFhwoSSFKDExUef+4maQiIiIiIjIfAl2DVFaWhp2796Nu3fvam1/9uwZAMDBwUGIWEREREREZEYEK0QikQizZs3C9u3btbbv378fFSpUQLNmzQRKRkRERERE5kKwU+YcHR0RGBiIyMhI2Nraonnz5rhw4QLWrVuHwMBA1KxZU6hoRERERERkJgRdZS4nJwdbtmzB999/j3v37qF69eoYOHAgQkJCYGGhn8mrl9cQFXetERERERERmR9BC5ExsBAREREREemHRqMp0a1xyhNBb8xKRERERET6NW3aNLi5uRX5IZPJ4ObmhjVr1rzW837//fcICwszUGrhCLrsNhERERER6Z+zszNWrFhR6L733nvvjZ5z3bp1JrnwGQsREREREZEeyOVy7NgRibgfYqBSqSCRSNC3jz8GDw6GVCo1ahaxWAwvLy+jHrO84ilzRERERESlJJPJ4DegOxJvbEI3f2BEaFV08wcSb2yC34DukMlkQkfU6fr16/j000/RunVruLu7o0OHDpg/fz6ysrIAAF26dMGdO3cQGxsLNzc3yOVygRPrDwsREREREVEpyOVyTPgiBJ18LdDmfQfYVxHDwkIE+ypitHnfAZ18LTDhixCjl4jc3NwCH4Wtp5aSkoLAwEBkZWUhLCwM3333HXr16oVt27Zh27ZtAIDw8HA4OzujY8eOiImJgZOTk1FfiyGxEBERERERlcKOHZFwbZiDt9+1LnT/2+9ao1aDbOyI3m60THfu3IG7u3uBj507dxYYe+PGDTRs2BArVqxAx44d4e3tjWnTpqFevXo4f/48AKBhw4YQi8VwdHSEl5cXxGKx0V6LofEaIiIiIiKiUoj7IQbd/G10jmnYxBZxMTGYOmWaUTI5OzsjPDy8wPZ33nmnwLYOHTqgQ4cOyMnJwV9//YXbt2/j5s2bePLkCapWrWqMuIJiISIiIiIiKgWVSoXKDrqLg529JVSqNCMlerGogoeHR4nG5uXlYdmyZYiKikJmZiZcXFzg6ekJKyurQk+xMzUsREREREREpSCRSPCvIgf2VYo+jSxdmQOJRGLEVCW3YcMGbNmyBXPnzkW3bt1gZ2cHAOjfv7/AyYyD1xAREREREZVC3z7+uH5ZrXPM75cy0NfX30iJXs+FCxfg5uaGfv365ZehlJQU3Lx5E3l5efnjLCxMszqY5qsiIiIiIjKSwYODkfy7Je7fySx0//07mfjnuhiDA4KMnKxkPD098fvvv+O7777DuXPnsHv3bgQGBiI7OxtPnz7NH1e5cmX8/vvvOHfuHJ49eyZgYv3iKXNERERERKUglUqxYmkEJnwRgloNnqBhE1vY2VsiXZmD3y9l4J/rYqxYGmH0m7OW1OjRo6FQKLB161akp6fDxcUFvr6+EIlE2LBhAzIyMmBra4sxY8Zg5syZGDlyJLZu3YqmTZsKHV0vRBoTv1KqefPmAIDExESBkxARERGRKZPL5dgRvR1x8TFQqVSQSCTo6+uPwQFBZbYMEQsRERERERGZMV5DREREREREZouFiIiIiIiIzBYLERERERERmS0WIiIiIiIiMlssREREREREZLZYiIiIiIiIyGyxEBERERERkdliISIiIiIiIrPFQkRERERERGaLhYiIiIiIyISsWrUKDRs21Otzurm5Yc2aNQCAs2fPws3NDYmJiXo9RlEM8XpeVdFgz0xERERERCbH3d0dMTExeO+994SOohcsREREREREeiCXy7ErOhIHf4yBUqWCvUSCnj7+GBgQDKlUKnQ8vbG1tYWXl5fQMfSGp8wREREREZWSTCbDsIDusEqLwKYpeTi9zhGbpuTBKi0CwwK6QyaTCZJr79698PDwwMWLFzFgwAB4eHigc+fO2LRpk9a4jIwMzJs3D+3atUOTJk0wcODAIjP/95S5VatWoWfPnvj555/Ru3dvNGrUCD169EB8fLzW4xQKBWbMmIE2bdrA09MTAQEBuHDhgtaYrKwsLFiwAG3btkWTJk3w5ZdfIisrS49fkYJYiIiIiIiISkEul2NWaAiWjQU+7e8AaXUxKlQQQVpdjE/7O2DZWGBWaAjkcrkg+XJzczFp0iT07t0b3333HZo2bYqwsDCcPn0aAPD8+XOMHDkS+/btw9ixY7F69Wq4uLjg448/xu+//16iY6SkpGD+/PkYOnQoNmzYAKlUitDQUPzzzz8AXhSdYcOG4dixY5g0aRJWrlwJiUSCYcOGISkpKf95pkyZgl27dmH06NH49ttvoVKpsGXLFn1/SbTwlDkiIiIiolLYFR0Jv7ZZ8KzrUOh+z7rW6OutwK6d2zFp8jQjpwPy8vIwfvx4fPTRRwCApk2b4vDhwzh69CjatGmDEydO4PLly9iwYQM6duwIAGjZsiUGDBiAs2fPlmhBg8zMTKxduxatW7cGANSqVQudO3fG8ePHUatWLcTHx+PGjRvYvXs3PDw8AAAdOnRA//79sXz5cmzevBl//vknDh06hP/9738YNGgQAKB9+/bo3bs3kpOTDfGlAcAZIiIiIiKiUjn4Ywx829voHNO3gw0O/hhjpEQFNW3aNP+/xWIxHB0d8fTpUwDAhQsXIBaL0aFDh/wxFStWRGxsLIYPH/5Gx3B2dgaA/GOcPn0a1atXR4MGDZCbm4vc3Fzk5eWhc+fOOH/+PLKzs/NPwXv//ffzn8fCwgI9evR4g1dccpwhIiIiIiIqBaVKBZeqjjrHOFexhFKpMFKigipVqqT1uYWFBfLy8gAASqUSjo6OEIlEb/z8FSpUgFgs1np+AFrHePjwIdzd3Qt9vEKhgEqlAgA4Omp/LatVq/bGuUqChYiIiIiIqBTsJRI8eJwDaXVxkWMepuXA3l5ixFQlZ2dnB4WiYFlLSkqCWCxG/fr19XKMOnXqICwsrND9Dg4OcHB4ccrh48ePUb169fx9SqWy1MfXhafMERERERGVQk8ff8SfVOscE3dCjZ4+/kZK9HqaNWuGrKwsnDp1Kn/b8+fPMWXKFGzbtk0vx2jRogXu378PJycneHh45H/8/PPPiIyMhKWlZf71RwcPHtR67NGjR/WSoSicISIiIiIiKoWBAcEYFhCJ9o0z4VnXusD+pD8zESezwpboIAHSFa9z587w9PTE1KlT8fnnn+Ptt9/G7t27kZKSgmHDhunlGP369cP27dsxfPhwjB49GtWrV8exY8ewefNmjBs3DiKRCDVr1oS/vz+WLl2K7Oxs1K9fH3Fxcbhx44ZeMhSFhYiIiIiIqBSkUinmhkVgUmgI+nor0LeDDZyrWOJhWg7iTqgRJ7PC3LCIMntz1goVKmDjxo1YsmQJli1bhmfPnsHd3R2bN29GvXr19HIMGxsbREVFYenSpVi4cCHUajVq1KiBmTNnIijo/4vi7NmzUbVqVURGRkKlUqF9+/YYM2YMVq1apZcchRFpNBqNwZ69DGjevDkA5K9aQURERERkCHK5HLt2bsfBH2OgVKpgby9BTx9/DBwUVGbLELEQERERERGRGeOiCkREREREZLZYiIiIiIiIyGyxEBERERERkdkqU4Vo3Lhx6Natm9AxiIiIiIjITJSZQhQfH4/Dhw8LHYOIiIiIiMxImShEKSkpmD9/PpydnYWOQkREREREZqRMFKIZM2agbdu2aNOmjdBRiIiIiIjIjAheiHbv3o1r165h5syZQkchIiIiIiIzU1HIg9+7dw8LFizAggUL4Ojo+EbP8fLGq0VJT0+HnZ3dGz03lT8ajQYikUjoGGTi+D4jIiIyHYLNEGk0Gnz11Vfo2LEjevToIVQMo3r06BEePXokdAyTpVar8f333wsdg8xAZGQkNBqN0DGIiIgKFRwcDDc3N62P5s2bY8iQITh37pwgmc6dO4eePXuiUaNGGD16dIkes2rVKjRs2FDnmLNnz8LNzQ2JiYlvnE2wGaKoqCjcuHEDCQkJyM3NBYD8XzByc3NRoUKFEv0FtrgXX9wMkjEtWbIEfn5+qFatmtBRTNKRI0ewa9cu9O/fX+goZOLWrVsHd3d3NGvWTOgoREREhfLw8MCMGTMAAM+fP4dCoUBMTAxGjhyJvXv3om7dukbNs2TJEjx//hwbNmxA1apVjXrs4ghWiA4dOgSFQoF27doV2Ofu7o4FCxagX79+AiQzjNTUVISHh6NZs2Zo3bq10HFMUkJCAg4ePIjs7GyIxWKh45CJSk1NxZkzZ5CQkMBCREREWuRyOSKjdiAmNh4qpQoSewn8/XwRHDgYUqnUqFlsbW3h5eWlta1du3Zo06YN9u7di9DQUKPmUSqVaNq0Kby9vY163JIQ7JS5//3vf9izZ4/WR+fOneHs7Jz/36ZkyZIlyMzMxJ07d4SOYpLy8vKwb98+pKen48SJE0LHIRO2f/9+aDQaJCQkCB2FiIjKEJlMhu6+H2HjsavQNPVFld6fQdPUFxuPXUV3348gk8mEjggrKyu89dZb+WdhZWZmYvHixejevTsaNWqEpk2bYuTIkfjjjz/yH/PkyRN88cUXaNu2LTw9PeHr64u4uDit57137x4+//xztGjRAl5eXhg5ciT++usvAC9KopubG27fvo24uDi4ubnh7NmzAIDLly9j+PDhaNGiBVq0aIEJEyZALpfrfA07d+5Ejx494OnpiaCgINy/f7/UXxfBZohq165dYJu9vT3EYjE8PDwESGQ4qampWL16NQCwEBnIhQsXkJKSAgDYt28funbtKnAiMlX79u0DAFy8eBH37t3DO++8I3AiIiISmlwuR8j4iRB5fgAHp/+fCRLbOULs2RGZqXUQMn4ifor/3mgzRRqNRuuyFJVKhW3btuHp06f46KOPAABTp07FpUuXMGnSJNSoUQO3b9/GihUrMHnyZCQkJEAkEmHKlClIS0vD//73P9ja2iI+Ph6hoaFwcXFBq1at8OTJEwQEBMDa2hpz5syBlZUVIiIiMHjwYMTGxsLJyQkxMTGYMGEC3NzcMHbsWLz33nuQyWQICQlB27ZtERYWBrVajVWrVmHQoEGIi4sr9LS67du3Y968eRgyZAg6duyI06dP62WlakFXmTMXixYtQmZmJgAWIkN59a/1CQkJWL58OVcBI73LysrCoUOH8j//8ccf8fHHHwuYiIiIyoLIqB3IdqqnVYZeZe0khaJaXWyP2oFpoVONkunMmTNwd3cvsH3KlCmoU6cOsrKy8PTpU8ycORM9e/YEALRs2RIZGRlYuHAhFAoFHB0dce7cOXz66af5f2xu2bIl7O3tYWlpCQDYunUrVCoVdu3aBWdnZwAvTs3r1q0b1q5di6+//hpeXl4Qi8VwdHTMP41v6dKlqFOnDtavXw8LixcnrTVr1gw9evTAxo0bC5zSp9FosGbNGvj4+GD69On5x8nIyMDOnTtL9bUqU4Vo4cKFQkfQu4cPH2LNmjX5n7MQGcarhejWrVu4fv16sauSEL2u48ePIyMjI//zhIQEFiIiIkJMbDxsmvrqHGNT2xMxsfFGK0Senp6YNWsWgBdlQqFQ4ODBg1i8eDHEYjGGDBmCjRs3AgBSUlKQnJyMf/75B0ePHgUA5OTkAABatWqFVatW4ffff0f79u3RsWNHrbJy+vRpuLu7o2rVqvkzUhUrVkTbtm2LPE0wMzMT165dw4QJE/LLEAC8/fbbaN68eaEr4d26dQtpaWl4//33tbZ/8MEHplWITNHixYvx9OnT/M9ZiPTv7t27uHz5sta2hIQEFiLSu/9eN3TkyBFkZmbC2tpaoERERFQWqJQqVLGx1znG0kaCJ0qVkRIBNjY2BS5D6dixIx4+fIgVK1YgMDAQMpkM33zzDW7dugUbGxvUr18//9+0l6s/L1++HOvWrcOBAwdw6NAhWFhYwNvbG3PnzsU777wDpVKJ27dvFzob9XIW6b/S09Oh0WgKPS2uSpUqhV4XpFK9+Nr9996l+li9WbBFFczBw4cPsXbtWq1taWlpUKvVAiUyTS+v6XgVL3gnfStsIYVnz57h559/FigRERGVFRJ7CXLUSp1jctQvVp0TWoMGDZCRkYHLly/j008/RcOGDXHkyBFcvHgRO3bsKLCwmZ2dHaZMmYJffvkFBw4cwKRJk3Dx4kXMmzcPwIvV7Fq3bl1gsbQ9e/YgOjq60Ay2trYQiUR4/PhxgX2PHj2Cg4NDge0vt/33MUql7q97SbAQGVBYWJjW7NBLd+/eFSCN6SqsEJ0+fbrQHzKiN3Xt2jXcvn27wPbC3n9ERGRe/P18oU6+qnOM+lYS/P10n1ZnDFevXoVEIkFKSgqysrIwZswY1KhRI3//yZMnAbxYwffhw4fo2LEjDh48CODFomijRo2Ct7c3Hjx4AODFNUXJycmoU6cOPDw88j927dqFH3/8sdAMNjY2cHd3x/79+5GXl5e//cGDB7h48SKaNm1a4DG1atWCi4tLfpaXXp7iVxosRAby4MEDrFu3rtB9PG1Of9RqdaF/oc/Ly8OBAwcESESmqqhZx3379uWfVkBEROYpOHAwxKk3kZla+JLRmalyiB/9iaDAwUbL9HIW6OXHmTNnMH36dJw7dw4jRoyAu7s7KlasiMWLF0Mmk+Ho0aMYP348jh07BgB4+vQpnJ2d8c477+Drr7/Gnj17cO7cOWzatAnHjx9Hjx49AADDhw9HdnY2RowYgYMHD0Imk2Hq1KnYtWuXzpu/Tpw4EX/99RfGjBmDo0ePYt++fRg2bBhsbW0xbNiwAuNFIhEmT56MI0eOYNasWfj1118RHh5e5CzU6+A1RAYSFhaGZ8+eFbqPhUh/jhw5gqysrEL3JSQkIDg42MiJyFQVVYju37+Pixcv8iatRERmTCqVImLVcoSMnwhFtbqwqe0JSxsJctQqqG8lQfzoT0SsWm7Um7NevXoV/v7++Z9XqlQJrq6umDlzJgIDAyESibB06VKEh4djzJgxkEgk8PLyQmRkJIKDg5GYmIg6depg1apVWLJkCVasWAGFQgEXFxeMHz8eo0aNAgBUr14dO3fuxLJlyzBz5kzk5OSgdu3aWLZsGXx8fIrM165dO2zcuBErV67EhAkTUKlSJXh7e2Py5MlwcnIq9DEffvghLCwssGbNGsTGxqJevXqYO3cuJk2aVKqvlUhj4n/abN68OQAgMTHRaMe8f/8+ateuXeQv6jNnzsTcuXONlseUhYSE5K+Q8l92dnZ4/PgxxGKxkVORqUlNTYWzs3ORM0GzZ8/GnDlzjBuKiIjKHLlcju1ROxATGw+V8sU1Q/5+vggKHGzUMkSvh6fMGcDChQuLLEMAZ4j0JS8vT+f1G+np6Thx4oQRE5Gp2r9/v87T4riIBxERAS9miqaFTsWlM6dw64/fcOnMKUwLncoyVMaxEOnZvXv3sGHDBp1jWIj048KFC0hJSdE5hhe8kz4U9z66ePEi7t27Z6Q0REREpE8sRHpW3OwQwEKkLyX5q3xCQgIveKdSycrKwqFDh4odV9RKOlT28P8JRET0KhYiPZLL5cXODgEvlt1+dYlBejMlKUS3bt3C9evXjZCGTNXx48eRkZFR7DieNld+/PDDD0hNTRU6BhERlREsRHq0YMECZGdnFzsuOzu72FO9SLe7d+/i8uXLJRrLX1SpNEr6/jly5AgyMzMNnIb0oWLFiujRo4debuZHRETlHwuRnty9excRERElHs/T5krnda4NYiGiN6XRaEr8/nn27Fmh98SissfDwwOXL1+Gj48P1Gq10HGIiEhgLER68s0335RoduglFqLSeZ1CdPr0aTx+/NiAachUXbt2Dbdv3y7xeC7iUT7UqFEDlStXhkwmg5+fX7HXfRIRkWljIdKDO3fu5N8Lp2rVqhgyZAgkEkmxj6E3o1artf4SX9jX+tVteXl5OHDggFGykWn57+xQ5cqVC4x59b22b98+XrBfDohEIjRq1AgAcPjwYQQEBCA3N1fgVEREJBQWIj2Ij4/H5MmTIZPJ8PDhQ6xbtw7p6elaY9q0aYNWrVrlf26IQiSXy7Fo0QJ4t/OCu4crvNt5YdGiBZDL5Xo/lpCOHDmCrKwsuLi4YOXKlfj1118LjJk4cSKOHj2KTp06ATDN0+bM5fstpJfvmz59+iAxMVHrjt8v3bhxA/Pnz4ejoyPu37+PixcvGjumyTLke/xlIQKA2NhYjBw5sswsdiOXy7Fs8QJ07+SFlk1c0b2TF5Yt5s82EZGhsBDpwfjx4/HNN9+gTZs2qFChAq5fv17gH9YuXbrgxIkTmDx5MgD9FyKZTAa/Ad2ReGMTuvkDI0Krops/kHhjE/wGdIdMJtPr8YR08eJFrFy5Erdu3cL48ePx1ltvFTquU6dOOHr0KI4ePYqsrKzXOqWxrDOn77dQHj16hOrVqyMxMRHx8fFo1qxZoeMqV66Mr776CsnJyZg/fz6/9npi6Pe4h4eH1ufbtm3DhAkTBJ/hk8lkGBbQHVZpEdg0JQ+n1zli05Q8WKVFYFgAf7aJiAxBpBH6//4G1rx5cwBAYmKi0Y65detWDBs2TGtbTEwMBg4cCODF/UpWrlxZonublIRcLoffgO7o5GuBt9+1LrD//p1MHIvPQ+zun0ziTskajQYikSj/87/++gt169bVGjNnzhzMnj1b5+PKK3P7fgulsPfLxx9/jO+++05rW2ZmJipVqqTzcfR6jPEeP3bsGDp37lxg+/Tp0/H111+/0XOWllwux7CA7lg2FvCsW/B1J/2ZiUlrgC3R/NkmItInzhAZQFJSUoFtr/410sfHBzt37tTb8XbsiIRrw5xCf3EAgLfftUatBtnYEb1db8cU0pv+smkqv6Sa2/dbKOb+PhOSMd7jr54y96r58+dj8eLFb/y8pbErOhJ+bbMKLUPAi5LU1zsLu3byZ5uIijZt2jS4ubnp/AgODtbrMRcvXoyWLVvCy8sL+/fvL9FjOnTogFmzZukcM3nyZPTs2VMfEXViITKAq1evan1uZWVVYAbDwcFBb8eL+yEGDbxsdI5p2MQWcfExejsmCYffbzJ1xniPV61aFc7OzoXumzp1aolusq1vB3+MgW973a+7bwcbHPyRP9tEVLSxY8ciJiYm/6Nhw4bw8PDQ2vbfs2hK4+bNm4iIiMAHH3yA7777Dm3atNHbcxtLRaEDmKL169fj8uXLuHr1Kq5evYq8vDxUrPjiS22I02lUKhUqO1TVOcbO3hIqVZpej1tWODo6Yt68eVrbOnToIFAawzP377eQfH198e6772pte/mzTfpjrPe4h4cHHj58WOi+MWPGwM7ODgEBAaU6xutQqlRwqeqoc4xzFUsolQojJSKi1yWXyxEdGYWEmL1QqlSwl0jQ278fAoIDjXaq67vvvqv1b5WtrS0qVKgALy8vgxzv5U2ue/funX+pSnnDf8kNwNXVFa6urvDz89Pa/uuvv8LJyQn16tXT6/EkEgn+VeTAvoq4yDHpypxilwIvrxwdHTFjxgyhYxiNuX+/heTj4wMfHx+hY5g8Y73HGzVqhMOHDxe6T6PRYMiQIbCzs8OHH35YquOUlL1EggePcyCtXvTrfpiWA3t7/mwTlUUymQyTQ8bBK8sJw22awsHRBoocNc5HHMXAyBgsiQiHt7e30DHzaTQaxMXFYevWrUhOToa9vT18fHwwYcIEWFlZAXhxyppCoUCXLl2wbt06ZGRkoFWrVpg+fTpq1KiB5cuXY926dQCAwMBAvPvuuzh8+DByc3MRGRmJPXv24O7du3BycsLAgQMREhICC4vCT1BTKBRYuHAhjh49CgDw9/c32kI3PGXOiObMmWOQ5bb79vHH9cu677b++6UM9PUtuGQwlT/8fpOpM9Z7/L8rzf1Xbm4u+vfvn/+Ps6H19PFH/EndrzvuhBo9ffizTVTWyOVyTA4Zh0HwxAcOnqgqtkMFkQWqiu3wgYMnBsETk0PGlanl87/99lt89dVXaN26NVavXo2hQ4ciOjoaY8eO1SoiV65cwfr16zFlyhTMnz8fN2/exNChQ/H06VMEBATkXwc0d+5crFy5EgAQGhqKZcuWoVevXli7di169+6NFStWYM6cOYVmef78OUaOHIlTp05h2rRpWLBgAc6fP6+3BciKw0JkJCdPnsTPP/9skEI0eHAwkn+3xP07mYXuv38nE/9cF2NwQJDej03Gx+83mTpjvceLWljhVVlZWejTpw/Onj1bqmOVxMCAYMSeskLSn4W/7qQ/MxEns8LAQfzZJiproiOj4JXlBFdrp0L3u1o7oXFWNURvjzJyssI9efIEGzduRFBQEKZNm4Z27dphxIgRmDt3Ln799Vetezymp6dj9erV6NOnD3r16oXw8HDcu3cP8fHxcHZ2xnvvvQcAqFOnDho0aIA//vgD+/btwxdffE0cLRgAACAASURBVIFPP/0Ubdu2xYQJEzB+/HjExMTg77//LpDn6NGjuHbtGhYvXox+/frh/fffR0REBGxsdF9XqS8sREby8uI1QxQiqVSKFUsjcCw+D7IjT6BMy8bz5xoo07IhO/IEx+LzsGJpBJdpNRH8fpOpM9Z7vGHDhiW6pjMjIwMffPBBgQVz9E0qlWJuWAQmrQHCdysgT8lGbq4G8pRshO9WYNIaYG4Yf7aJyqKEmL1oYeOqc0xLm9pIiIk1UiLdLl++jJycnAKnBPfq1QsVK1bEuXPn8rfVqlVLa0a9YcOGqFGjRpG3tDl//jwAFHju3r17a+1/1YULF2Btba21IIOtrS3atWv3mq/szbAQGcHx48fzT7kwRCECAG9vb8Tu/gktGoTgcIwImxel4XCMCC0ahCB2909l6pxVKj1+v8nUGeM9bmNjg9q1a5dorEKhQLdu3fDXX3+V+ri6eHt7Y0v0T8iuNgojllSA9ycKjFhSAdnVRmFLNH+2icoqpUoFB0vdsxkOljZQqpRGSqSbSqUC8GLFzVdVqFAB9vb2SE9Pz9/m5FRw1qtKlSr4999/i3xuCwsLVKlSRWv7y2O9+twvKZXKQldgLuzYhsBFFYzg1fMlDVWIgBd/XZw6ZRqmTplmsGNQ2cHvN5k6Y7zHPTw8Cj19ozApKSno2rUrTp48iRo1ahgsk1QqxaTJ0zBpMn+2icoLe4kEihw1qortihyjyFHDXmJvxFRFq1y5MgDg8ePHeOedd/K35+bmQqFQaJWTl6vIverx48dF/kGpcuXKyMvLQ1pamlbhSk1NBVD4rWccHBzw5MmTAtsLO7YhcIbIwI4dO4Zjx47lf27IQkRERK+nuOuIKlasiGHDhmH48OEYPnw4unTpgujoaKOtfERE5UNv/344r07WOeac+hZ6+/vpHGMsTZo0gaWlJfbt26e1/cCBA3j+/DmaNWuWv+3WrVu4e/du/ufXrl2DXC5Hq1atCn3uli1bAkCB5/7xxx8BQOu5X2rTpg2ePn2q9TtzVlYWTp069Xov7A1xhsiANBpNgRtf3blzxyD3IiIiotdX0pXmuNw6EekSEByIgZExqJ+ZWujCCsmZqbhi9QjTgwIFSFeQo6Mjhg8fjoiICFSoUAHt27fHn3/+iRUrVqB169Zap+c+f/4cY8aMwYQJE5CdnY2lS5fCzc2tyP8v1q9fHz4+Pli6dCkyMzPRuHFjXLx4EevXr0e/fv3g6lrwWqt27dqhTZs2CA0NxaRJk1C9enVs3boVKpUK1tbWBvs6vMRCZEDHjh3DiRMntLZlZWXh0aNHRjsnkoiIivbfGaLKlSsXOC9+zpw56NWrF/+QRURFkkqlWBIRjskh49BYUQ0tbWrDwfLFfYjOqW/hitUjLIkIL1OLokyaNAlVq1bFjh07sH37dlSrVg2BgYEYN26c1r2CatWqhQEDBmD27NnIzc1F586d8eWXX8LS0rLI5w4LC0PNmjWxZ88erFmzBu+88w4+++wzjBw5stDxIpEIa9aswaJFi7B8+XJkZ2fDx8cHtWvXNsoskUhj4vP+L++YW9RKGIai0WjQsWNHnDx5ssC+8+fPl9s7+RIRmZKcnBzY2toiOzsbtra2OHPmDHx8fHD79m2tcfv27eMsEREVSy6XI3p7FBJiYqFUKWEvsUdvfz8EBAWWqTJUUpMnT8Zvv/2GgwcPCh3FoHgNkYH88ssvhZYhgNcRERGVFZaWlqhfvz4AYMOGDXB3d8f06dMLjJszZw6vGyKiYkmlUkyZFooTl84g6dYfOHHpDKZMCy2XZcicsBAZQGHXDr2KhYiIqOzw8PDA6NGjERAQAAAYOnQoatasqTUmMTHRKDdnJSIi42MhMoAjR47oPN+RhYiIqOwICAjA8uXL8z8Xi8Vas0S9evXC2bNn0bp1ayHiEREJZsmSJSZ/uhzARRX0TqPRaN13qDAsREREZUdh1wYNHToUMpkMn3zySf4SskREZJpYiPTs8OHDkMlkOsewEBERlW1isRibN28WOgYRERkBT5nTo+KuHXqJhYiIiIiIqGxgIdKjQ4cO4cyZM8WOS0lJwbNnz4yQiIiIiIiIdGEh0pOSXDv0KrlcbrgwRERERERUIixEenLw4MHXWpL1vzf9IyIiIiIi42Mh0oOSXjv0Kl5HREREREQkPBYiPdi/fz/Onz+PRo0aYdq0afj1119RpUoVrTEVK2ov6MdCREREREQkPEGX3dZoNNi6dSuio6Px4MED1KpVC6NGjULv3r2FjPXabGxscOvWLbi6ugJ4sWhCWlqa1pigoCC0bt0aEyZMQFZWFgsREVEx5HI5dkVH4uCPMVCqVLCXSNDTxx8DA4IhlUqFjkdERCZC0Bmi9evXY9GiRejbty/Wr1+Ptm3bYvLkydi/f7+QsV5bp06d8ssQAFy9erXAGA8PD4wePRpnz56Fm5sbCxERkQ4ymQzDArrDKi0Cm6bk4fQ6R2yakgertAgMC+he7P3eiIiISkqwGaKcnBxs2rQJAQEB+OSTTwAAbdq0wW+//Ybt27ejV69eQkUrtcIKkaenJwCgcePGSExMxLfffmvsWERE5YJcLses0BAsGwt41nXI3y6tLsan/cVo3zgTk0JDsCX6J84UERFRqQk2Q1ShQgVERkbi448/1tpuaWmJrKwsgVLpR1JSUoFtHh4e+f9ta2uLGTNmGDMSEVG5sSs6En5ts+BZ17rQ/Z51rdHXOwu7dm43cjIiIjJFgs0QWVhYwM3NDcCLa4nS0tKwd+9eyGQyzJ07t8TP07x5c53709PTYWdnV6qsr6tSpUqoWrUqHj9+DACoVq0aqlevbtQMRETl1cEfY7Bpio3OMX072GDEkhhMmjzNSKmIiMhUCbqowks//fQTPvvsMwAvrsfp06ePwIlKZ82aNVi9ejVSUlKQlJQEpVIpdCQionJDqVLBpaqjzjHOVSyhVCqMlIiIiExZmShEDRs2xPbt23Hjxg2sWLECH3/8MbZt21aixyYmJurcX9wMkqGIRCI4OzvD2dlZkOMTEZVX9hIJHjzOgbS6uMgxD9NyYG8vMWIqIiIyVWXiPkQ1atRAixYtEBQUhOnTp+Ps2bO4dOmS0LGIiEgAPX38EX9SrXNM3Ak1evr4GykRERGZMsEKkVKpRFxcHFJSUrS2N2zYEAAKbCciIvMwMCAYsaeskPRnZqH7k/7MRJzMCgMHBRk5GRERmSLBClFeXh6mTZuGmJgYre2nTp0CANSrV0+IWEREJDCpVIq5YRGYtAYI362APCUbubkayFOyEb5bgUlrgLlhEVxym4iI9EKwa4gcHR0xePBgbNiwAW+99RY8PDxw4cIFrF+/HgMGDEDt2rWFikYCun37NhwcHFC5cmWhoxCRgLy9vbEl+ifs2rkdI5bEQKlUwN5egp4+o7AlOohliIiI9Eak0Wg0Qh08JycHW7ZswZ49e3D//n04OztjwIABCAkJgYWFfiavXi6qUNziCyS82NhYLF26FCdPnoRIJBI6DhERERGZAUFXmbO0tMSoUaMwatQoIWOQwJ49e4bJkydj9erVWLhwIcsQERERERlNmVh2m/RDLpcjMmoHYmLjoVKqILGXwN/PF8GBg8vs6SU3b96Ev78/Ll++DJFIhMDAwNd+DrlcjujIKCTE7IVSpYK9RILe/v0QEBxYZl83EREREZUNgp4yZwzmcsqcTCZDyPiJyHaqBxtXD1ja2CNHrYQ6+SrEqTcRsWo5vL29hY6pJTIyEp988gnU6hfL63bt2hWHDx9+reeQyWSYHDIOXllOaGHjCgdLGyhy1DivTsZlq1QsiQgvc6+biIiIiMoOFiITIJfL0d33I4g8P4C1U8EZkcxUOTRJB/BT/PdlYsYkIyMD48aNw9atW7W2b9u2DcHBwSV+HrlcjoHd+2AQPOFq7VRgf3JmKnYiCbt++qFMvG4iIiIiKnvKxI1ZqXQio3Yg26leoWUIAKydpMiuVhfbo3YYOVlBSUlJaN68eYEyZGNjAz8/v9d6rujIKHhlORVahgDA1doJjbOqIXp71BvnJSIiIiLTxkJkAmJi42Hj6qFzjE1tT8TExhspUUEajQZr165Fy5YtcePGjQL7P/roI9ja2r7WcybE7EULG1edY1ra1EZCTOxrPS8RERERmQ8uqmACVEoVqtjY6xxjaSPBE6XKSIm0KZVKhISE4Pvvvy9yzNChQ1//eVUqODja6BzjYGkDpUL52s9NREREROaBM0QmQGIvQY5a9y/9OeoXq84Z29mzZ9GkSROdZahGjRro1KnTaz+3vUQCRY5a5xhFjhr2Et1lkYiIiIjMFwuRCfD384U6+arOMepbSfD38zVSIiAvLw+LFy9Gu3bt8M8//+gcGxQU9EY34u3t3w/n1ck6x5xT30Jv/9e7NomIiIiIzAcLkQkIDhwMcepNZKbKC92fmSqH+NGfCAocbJQ8qamp8PHxwdSpU5Gbm1vs+NdZWe5VAcGBuGyViuTM1EL3J2em4orVIwQEvf69jYiIiIjIPLAQmQCpVIqIVcuhSToAxZVjyE5/Ak3ec2SnP4HiyjFokg4gYtVyoyw9/csvv8DLywsHDx4s0fgWLVqgQYMGb3QsqVSKJRHh2Ikk7FdcwePsdDzX5OFxdjr2K65gJ5KwJCKcS24TERERUZF4HyITIpfLsT1qB2Ji46FSvrhmyN/PF0GBgw1eCnJzczF37lx8/fXXeJ231KpVqzBu3LhSHVsulyN6exQSYmKhVClhL7FHb38/BAQFlpsypFarYW1tDZFIJHQUIiIiIrPCQkSllpWVhcDAQJ0LJxSmYsWKePDgAapWrWqgZOXDlStXsGbNGqxfv17oKERERERmh6fMUalZWVlh9+7duH//Pg4ePIiwsDD07Nmz2Mf5+PiYdRnSaDRYs2YNWrVqhZYtWwodh4iIiMgs8T5EpBcikQguLi5wcXFB165dcfjw4WIfM2TIECMkK5uUSiVGjhyJvXv34q233kL//v2FjkRERERklliISO8WLFiAI0eO6Bzj4OAAHx8fIyUqW86cOYNBgwbh9u3bAIC+fftCIjH+PaKIiIiIqJhT5uLi4nDx4sUSP9mNGzcQHh5e6lBUfh07dgyzZ88usL1+/fpanw8aNAhWVlbGilUm5OXlYdGiRWjfvn1+GQLMe6aMiIiISGg6C9G0adMQFBSEhQsXIjs7u9gnu3HjBlavXq23cFS+pKSkICAgAHl5eVrbW7RogbNnz8LFxSV/m7mVgNTUVPTq1QuhoaFa92aqXr06unXrJmAyIiIiIvNW7KIKdnZ22LJlCwYMGIA///zTGJmonEpKSsK///6rtc3e3h4xMTGoXLkyvvzySwBAvXr10KpVKyEiCuKXX35B48aNcejQoQL7AgMDUbEiz1wlIiIiEkqxhWjatGkYPnw4bt68if79+yMyMtIYuagc6tatGxITE+Hu7p6/bfPmzXB1dQUAjBo1Ci4uLhgyZIhZ3G8nNzcXM2fORNeuXfHw4cNCx5jbTBkRERFRWVNsIapYsSJCQ0OxceNGVK5cGd988w1CQkLw6NEjY+SjcqZBgwY4d+4cRowYgc8//xx9+/bN3/fWW2/hq6++QlBQkIAJjUMul6NLly46b1Tr6emJxo0bGzkZEREREb2qxPch8vb2xr59+9C9e3f8+uuv8PX1xc8//2zIbFROWVtbY+PGjVi6dGmBfWPHjkXNmjUFSGU8CQkJaNy4MU6ePKlzHGeHiIiIiIT3WjdmlUgkWLFiBRYsWIDs7GyMGzcOs2bNwrNnzwyVj8oxC4uCb6/CtpmK7OxsTJw4EX369MGTJ090jrWwsMDgwYONlIyIiIiIivJGv536+fkhLi4OTZo0wa5du+Dn54dr167pOxtRufH333/D29sb3377bYnGd+/eXWvVPSIiIiISxhv/uV4qlSIqKgqff/457t69i0GDBiE+Pl6f2YjKhZ07d6JJkya4cOFCiR/D0+WIiIiIygadhejtt9+GtbV1kftFIhHGjBmDnTt3QiqV4tSpU3oPSFRWZWZmYtSoUQgICEB6enqJH2dnZwdfX18DJiMiIiKiktJ5A5RffvmlRE/SqFEjxMXFYe3atUhJSdFLMKKyLi8vD4GBgfDw8MCVK1eQlJSE3377rdhr6gYMGKDzDw1EREREZDwiTVFrApuI5s2bAwASExMFTkKmTqPRoG/fvvjhhx90jjt27Bg6duxopFREREREpIvpLvlFZGTLly8vtgzVrFkT7du3N1IiIiIiIioOCxGRHpw5cwahoaEFtovFYq3Pg4ODTXrpcSIiIqLyhr+ZEZXSkydP4O/vj9zcXK3tnp6e+P7777W2BQcHGzMaERERERWDhYiolBYtWoQ7d+5obbO1tcWuXbvg4+ODdu3aAQBat26NevXqCRGRiIiIiIrAQkRUSnPnzsWkSZO0tq1fvx5ubm4QiUSYM2cOAN57iIiIiKgsYiEiKiWxWIylS5ciLi4O9vb2GDVqFAYPHpy/v0uXLujSpQv8/f0FTElEREREheGy20R6dPv2bTg5OaFSpUpa2x89eoRq1aoJlIqIiIiIiqLzxqxE9Hpq1qxZ6HaWISIiIqKyiafMERERERGR2WIhIiIiIiIis8VCREREREREZouFiIiIiIiIzBYLERERERERmS1BV5nLy8tDTEwMduzYAblcjipVquD999/H+PHjYWtrK2Q0Kkfkcjkio3YgJjYeKqUKEnsJ/P18ERw4GFKpVOh4BiOXyxEdGYWEmL1QqlSwl0jQ278fAoIDTfp1ExEREemToPch2rBhA7799luMHDkSbdq0QXJyMlauXIlGjRph48aNejkG70Nk2mQyGULGT0S2Uz3YuHrA0sYeOWol1MlXIU69iYhVy+Ht7S10TL2TyWSYHDIOXllOaGHjCgdLGyhy1DivTsZlq1QsiQg3yddNREREpG+CFSKNRoNWrVrBx8cHs2fPzt++f/9+TJw4EXFxcWjQoEGpj8NCZLrkcjm6+34EkecHsHYqOCOSmSqHJukAfor/3qRmTORyOQZ274NB8ISrtVOB/cmZqdiJJOz66QeTet1EREREhiDYNURqtRp9+vTBhx9+qLW9du3aAIA7d+4IEYvKkcioHch2qldoGQIAaycpsqvVxfaoHUZOZljRkVHwynIqtAwBgKu1ExpnVUP09igjJyMiIiIqfwQ9Za4w4eHhWLVqFfbv3486deoUO/7lDFBR0tPTYWdnxxkiE+TVui00TX0htnMsckx2+hNYXIzHpTOnjJjMsDp4tcLwvKaoKrYrcszj7HRsrnAJJy6dMWIyIiIiovKnTK0yd+XKFWzYsAFdu3YtURki86ZSqmBpY69zjKWNBCqlykiJjEOpUsHB0kbnGAdLGyhVSiMlIiIiIiq/BF1l7lUXLlzAmDFjIJVK8fXXX5f4ccXN/BQ3g0Tll8Reghy1UucMUY76xapzpsReIoEiR61zhkiRo4a9RHdZJCIiIqIyMkO0f/9+DB8+HC4uLtiyZQscHByEjkTlgL+fL9TJV3WOUd9Kgr+fr5ESGUdv/344r07WOeac+hZ6+/sZKRERERFR+SV4Idq8eTMmTZoELy8vREVFwcmp8AvFif4rOHAwxKk3kZkqL3R/Zqoc4kd/IihwsJGTGVZAcCAuW6UiOTO10P3Jmam4YvUIAUGBRk5GREREVP4IWoh2796NhQsX4oMPPkBERATs7Io+BYjov6RSKSJWLYcm6QAUV44hO/0JNHnPkZ3+BIorx6BJOoCIVctNbulpqVSKJRHh2Ikk7FdcwePsdDzX5OFxdjr2K65gJ5KwJCLc5F43ERERkSEItspcWloa3n//fTg6OmLRokWoWFH7cqZ3330Xjo5FXxtSUrwPkemTy+XYHrUDMbHxUClfXDPk7+eLoMDBJl0K5HI5ordHISEmFkqVEvYSe/T290NAUKBJv24iIiIifRKsEMXFxSE0NLTI/YsWLYKvb+mv/WAhIiIiIiKiopS5+xDpGwsREREREREVRfBFFYjo/yUlJWHTpk1CxzC6w4cP48cffxQ6BhEREZkhFiKiMuD27dsYOnQomjdvjrZt2wodx2guXLiAbt26ITg4GJ06dRI6DhEREZmhMnNjViJzlJaWhm+++Qbh4eHIzs7G6NGj4ebmJnQsg/v7778xY8YM7Ny5EwCwdu1a2NjYCJyKiIiIzBGvISISgFqtxooVKxAWFoZ///0XAGBtbY2//voLLi4uAqcznJSUFHz99ddYt24dcnNzAQB169bFtWvXYGlpKXA6IiIiMkecISIyotzcXGzatAlz5szBgwcPtPZNnDjRZMtQeno6li5diiVLlkCtVmvtmz9/PssQERERCYaFiMgINBoNYmNj8dVXX+HGjRsF9lepUgVTpkwRIJlhZWdnY8OGDZg7dy4ePXpUYH+LFi3Qv39/AZIRERERvcBCRGRgx48fR2hoKM6ePVvkmOnTp0MikRgxlWHl5eVh165dmD59Om7dulXkuLCwMIhEIiMmIyIiItLGQkRkIElJSfjyyy+xf/9+neNq1qyJsWPHGimV4R05cgShoaG4ePGiznE9e/ZE586djZSKiIiIqHBcdptIz14uoe3l5VVsGQKAefPmwcrKygjJDOvixYvo3r07unXrVmwZEolEWLhwoZGSERERERWNM0REevLfJbRLwtPTE4MHDzZwMsP67xLaJREYGIjGjRsbMBURERFRybAQEZVSZmYmVqxYgYULF+YvoV1SCxcuRIUKFQyUzLBSU1Mxb948rSW0S8LS0hJz5841YDIiIiKikmMhIiqFtLQ0+Pn54eTJk6/92E6dOqFnz54GSGV4169fx4cffqhzwYSijB07Fq6urgZIRURERPT6eGNWolLSaDS4dOkSdu/ejV27dpW4JJw9exYtW7Y0cDrDyc3NxYkTJ7B7927s3bsXqampxT7Gzs4Of//9N6pVq2aEhERERETFYyEi0qOMjAy0atUKv//+u85xH330Efbs2WOkVIaXnJyMpk2bQqlU6hw3b948zJgxw0ipiIiIiIrHVeaI9CQjIwO9evUqtgxVqFAB8+fPN1Iqw7t9+zbef//9YstQ9erVMXHiRCOlIiIiIioZFiIiPXhZhkpyLVFISAjc3NyMkMrwbt++jc6dOyM5ObnYsXPmzIGNjY0RUhERERGVHAsRUSnpKkOenp5an1tbW2P27NnGimZQusrQf1933bp1MXLkSGNFIyIiIioxFiKiUjpz5gxkMlmB7d26dcPp06dRs2bN/G0TJ06Ei4uLMeMZTHx8fKFlaPz48Thy5IjWcuLz58+HpaWlMeMRERERlQgLEVEpde3aFTt37tQqAN26dUN8fDysra0xYMAAAECVKlUwZcoUoWLq3WeffYY5c+ZobRs/fjxWrFiBatWqoXPnzgCAFi1aoH///gIkJCIiIioeCxGRHvTv3z+/FL0sQ5UqVQKA/EI0Y8YMSCQSIWPq3ezZs/NL0csyJBKJAAADBw4EAISFheVvIyIiIipruOw2kR4dPXoUrVu3zi9DwIv7FHXp0gUHDx6ElZWVgOkM5+DBg+jRo4dW8Xn8+DGGDx+OhIQEAZMRERER6cZCRGQECoUCDg4OQscwOnN93URERFR+8JQ5IiMw11Jgrq+biIiIyg8WIiIiIiIiMlssREREREREZLZYiIiIiIiIyGyxEBERERERkdliISIiIiIiIrPFQkRERERERGaLhYiIiIiIiMwWCxEREREREZktFiIiIiIiIjJbLERERERERGS2WIiIiIiIiMhssRAREREREZHZYiEiIiIiIiKzxUJERERERERmi4WIiIiIiIjMFgsRERERERGZLRYiIiIiIiIyW2WmEF2/fh3u7u54+PCh0FGIygW5XI4FYYvg1botXOs3glfrtlgQtghyuVzoaAYll8uxeEEYOni1gqdrfXTwaoXFC8JM/nUTERGRYYg0Go1G6BC3bt3CsGHDkJKSguPHj8PZ2Vlvz928eXMAQGJiot6ek0hoMpkMIeMnItupHmxcPWBpY48ctRLq5KsQp95ExKrl8Pb2Fjqm3slkMkwOGQevLCe0sHGFg6UNFDlqnFcn47JVKpZEhJvk6yYiIiLDEbQQ5ebmIiYmBkuXLoWlpSWUSiULEVEx5HI5uvt+BJHnB7B2khbYn5kqhybpAH6K/x5SacH95ZVcLsfA7n0wCJ5wtXYqsD85MxU7kYRdP/1gUq+biIiIDEvQU+YuXLiAJUuWYMSIEZg8ebKQUYjKjcioHch2qldoGQIAaycpsqvVxfaoHUZOZljRkVHwynIqtAwBgKu1ExpnVUP09igjJyMiIqLyTNAZosePH0MkEqFKlSrYu3cvvvzyy9eeIXo5A1SU9PR02NnZcYaITIZX67bQNPWF2M6xyDHZ6U9gcTEel86cMmIyw+rg1QrD85qiqtiuyDGPs9OxucIlnLh0xojJiIiIqDyrKOTBq1atKuThicollVKFKjb2OsdY2kjwRKkyUiLjUKpUcHC00TnGwdIGSoXSSImIiIjIFAhaiPShuJmf4maQiMobib0EOWqlzhmiHLUKEnuJEVMZnr1EAkWOWucMkSJHDXuJ7rJIRERE9Koys+w2EZWMv58v1MlXdY5R30qCv5+vkRIZR2//fjivTtY55pz6Fnr7+xkpEREREZkCFiKiciY4cDDEqTeRmVr4fXcyU+UQP/oTQYGDjZzMsAKCA3HZKhXJmamF7k/OTMUVq0cICAo0cjIiIiIqz1iIiMoZqVSKiFXLoUk6AMWVY8hOfwJN3nNkpz+B4soxaJIOIGLVcpNbeloqlWJJRDh2Ign7FVfwODsdzzV5eJydjv2KK9iJJCyJCDe5101ERESGVe6vISIyR97e3vgp/ntsj9qBmNh4PFG+uGYoxM8XQYELTbYUeHt7Y9dPPyB6exQ2sqTkPAAADddJREFUx8RCqVDCXmKP3qP8MD0o0GRfNxERERmOoMtuv+pNl90uDm/MSkRERERERSkzhchQWIiIiIiIiKgovIaIiIiIiIjMFgsRERERERGZLRYiIiIiIiIyWyxERERERERktliIiIiIiIjIbLEQERERERGR2WIhIiIiIiIis8VCREREREREZouFiIiIiIiIzBYLERERERERmS0WIiIiIiIiMlssREREREREZLZYiIiIiIiIyGyxEBERERERkdliISIiIiIiIrPFQkRERERERGaLhYiIiIiIiMwWCxEREREREZktFiIiIiIiIjJbLERERERERGS2WIiIiIiIiMhssRAREREREZHZYiEiIiIiIiKzxUJERERERERmi4WIiIiIiIjMFgsRERERERGZLRYiIiIiIiIyWyxERERERERktliIiIiIiIjIbLEQERERERGR2WIhIiIiIiIis8VCREREREREZouFiOj/2rv/mKrKB47jH/yBOWSYpZmAoNQfigqmu0U4o8aPIaGJbeHIEsqQ4ebVKNTRrKxUotEkZGuKTmJOaHVRxlVzWNNaS0NZ9gO3cN47mv3QLCATWPf7R7vM+7VWW1weuOf92tzgeZD72Y7g8znPOecCAADAsihEAAAAACyLQgQAAADAsihEAAAAACyLQgQAAADAsihEAAAAACyLQgQAAADAsihEAAAAACzLeCFqbGxURkaG5syZo/T0dDkcDtORAAAAAFiE0ULkdDpVVFSkxMREVVZWymazqbi4WIcPHzYZCwAAAIBFBHk8Ho+pF09JSdGsWbNUXl7eP2a329XW1ian0zkgrzF//nxJ0unTpwfk+wEAAAAIHMZ2iNxut1wul1JTU33G09LS1N7eLrfbbSgZAAAAAKswVoja29slSdOmTfMZj4qKkiRduHBh0DMBAAAAsJZRpl64s7NTkjRu3Dif8ZCQEElSV1fXv/o+3kvi/ul1/unrAAAAMPhCQ0N1/Phx0zFgYcYKkffWpaCgoL8cHzHC+APwMMx4y29oaKjhJBgMHG/r4FhbC8fbWjo7O//1SXDAX4wVIu8vuv//Ieju7vaZ/yf/9LAEHqpgHRxra+F4WwfH2lo43tbCFTwYCoxtw3jvHXK5XD7jFy9e9JkHAAAAAH8xVoiioqIUERFx03sOHT16VNHR0ZoyZYqhZAAAAACswtglc5JUWFiojRs3KiwsTElJSWpubpbT6fR5XyIAAAAA8BejhSgrK0s9PT2qrq5WfX29IiMjtX37di1atMhkLAAAAAAWYbQQSVJ2drays7NNxwAAAABgQTzbGgAAAIBlUYgAAAAAWFaQx/tOqAAAAABgMewQAQAAALAsChEAAAAAy6IQAQAAALAsChEAAAAAy6IQAQAAALAsChEAAAAAy6IQAQAAALAsChEAAAAAywroQtTY2KiMjAzNmTNH6enpcjgcpiPBD/744w/t379fmZmZmjt3rpKTk7V161Z1dXWZjgY/W7NmjVJSUkzHgB+dOnVKy5cvV1xcnBYsWKAtW7aou7vbdCz4yf79+5Wenq74+HhlZmbq4MGDpiNhgH399deKjY3VpUuXfMZPnjypZcuWKS4uTg899JCqq6sNJYQVBWwhcjqdKioqUmJioiorK2Wz2VRcXKzDhw+bjoYBtmvXLm3ZskVJSUmqrKxUbm6uHA6H1q5dazoa/KihoUEffPCB6Rjwo7Nnzyo3N1cTJ05UVVWVCgsLdfDgQZWUlJiOBj84cOCAXnzxRSUlJWnnzp26//779dxzz8npdJqOhgHS3t6u/Px89fX1+Yy3tLRo9erVmj59uioqKpSZmanS0lLt3r3bUFJYTZDH4/GYDuEPKSkpmjVrlsrLy/vH7Ha72tra+OUaQDwej+69915lZGRo8+bN/eNNTU1at26dHA6HZsyYYTAh/OH7779XZmamxo4dq+DgYIpRgHr88cclSTU1NQoKCpIk1dbWas+ePTp06JDGjh1rMh4GWHZ2toKDg7Vv377+sZycHI0YMUI1NTUGk+G/6uvr04EDB/TGG29o9OjRunr1qj766CNNnjxZkrRy5Ur99ttvqqur6/87r7/+uurq6vTxxx8rODjYVHRYREDuELndbrlcLqWmpvqMp6Wlqb29XW6321AyDLTu7m4tXrxYDz/8sM/49OnTJUkul8tELPhZSUmJEhMTlZCQYDoK/OTKlSs6ffq0li9f3l+GpD8XyMeOHaMMBaDr168rJCTEZ2z8+PG6evWqoUQYKJ9//rnKysqUl5enoqIin7nr16/r9OnTf7lm+/XXX9XS0jKYUWFRAVmI2tvbJUnTpk3zGY+KipIkXbhwYdAzwT/GjRunkpISzZs3z2f82LFjkqS77rrLRCz4UX19vb788ku98MILpqPAj86fPy+Px6OwsDDZ7XbFx8dr3rx52rx5s37//XfT8eAHTzzxhE6cOCGn06muri4dPnxYH374oZYsWWI6Gv6jmJgYHTt2TGvWrNHIkSN95txut3p7e1mzwahRpgP4Q2dnp6Q/F8s38p554mb7wNba2qq3335bycnJiomJMR0HA6ijo0Nbt27V1q1bNWHCBNNx4EdXrlyRJG3YsEEpKSmqqqpSW1ub3nzzTV2/fl3btm0znBADLSMjQ59++qnsdnv/2NKlS/X0008bTIWBcPvtt//tHGs2DAUBWYi8t0XdeJnFjeMjRgTkxhj057b86tWrFRERoVdeecV0HAwgj8ejTZs26YEHHlBaWprpOPCz3t5eSdI999zTf39gQkKCPB6Ptm/frsLCQkVGRpqMiAFWUFCgM2fOaOPGjZo5c6ZaW1u1c+fO/isBEJj+bs3mxZoNgyEg/5WFhoZKuvmsgvdRrd55BJampibl5ubqzjvv1N69e3XrrbeajoQBVFtbq7a2Nm3atEl9fX3q6+vr/4/0xo8RGLxnhxcuXOgzvmDBAnk8HrW1tZmIBT9paWnRyZMnVVJSopUrV8pms2nVqlXasGGDampqON4B7O/WbN7PWbNhMARkIfJeh/r/N9RfvHjRZx6BY8+ePVq/fr3i4+NVW1urSZMmmY6EAXbkyBH9/PPPWrBggWJjYxUbGyuHwyGXy6XY2Fi9//77piNiAEVHR0uSenp6fMa9O0d/dzYZw9N3330n6c8dwRvNnz9fkvTtt98OeiYMjqlTp2rkyJE3rdm8n7Nmw2AIyEIUFRWliIiIm95z6OjRo4qOjtaUKVMMJYM/1NfXa9u2bUpPT9euXbs4mxSgXnrpJb377rs+fx588EFNnjy5/2MEjpiYGIWHh6upqcln/Pjx4xo1apTmzp1rKBn8wbvoPXXqlM/42bNnJUnh4eGDngmDY8yYMZo/f76OHj3qs9N/5MgRhYaGatasWQbTwSoC8h4iSSosLNTGjRsVFhampKQkNTc3y+l0+rwvEYa/y5cv69VXX1V4eLhycnL01Vdf+cxPnTqVm+8DhPdR6jcaP368goODNXv2bAOJ4E9BQUEqKirS+vXrVVRUpKysLJ07d05VVVVasWIFP9cBJjY2VsnJyXrttdfU3d2tGTNm6Ny5c6qsrNTChQsVFxdnOiL8qKCgQLm5uVq3bp2WLl2qM2fOaPfu3Xr22Wd5xD4GRcAWoqysLPX09Ki6ulr19fWKjIzU9u3btWjRItPRMIBOnDiha9euqaOjQzk5OTfNl5aW8shWYJhatGiRgoODVVlZqfz8fN12220qLCxUfn6+6Wjwg/Lycr311lvau3evLl++rPDwcOXl5emZZ54xHQ1+lpCQoIqKCu3YsUOFhYW644479PzzzysvL890NFhEkIc7kQEAAABYVEDeQwQAAAAA/waFCAAAAIBlUYgAAAAAWBaFCAAAAIBlUYgAAAAAWBaFCAAAAIBlUYgAYIi6cuWK7rvvPtlsNv30009/+TV2u10zZ85Ua2vrIKcDACAwUIgAYIiaMGGCSkpK9Msvv+jll1++ad7hcMjpdGrVqlWKi4szkBAAgOGPN2YFgCGuoKBAzc3NqqioUGpqqiSpo6NDixcv1tSpU1VXV6fRo0cbTgkAwPBEIQKAIe6HH35QRkaGxowZo6amJoWGhmrFihVqbW3Ve++9p7vvvtt0RAAAhi0umQOAIW7SpEkqLi7Wjz/+qLKyMu3fv1+nTp2S3W6nDAEA8B+xQwQAw8RTTz2lTz75RLfccotmzpypmpoajRjBeS0AAP4LChEADBNut1spKSnyeDxyOByaMWOG6UgAAAx7nFoEgGGisbFR3nNY77zzjuE0AAAEBnaIAGAY+Oabb/Too4/KZrOpt7dXn332maqrq5WYmGg6GgAAwxqFCACGuJ6eHi1btkxut1sNDQ3q6+vTI488ookTJ+rQoUMKCQkxHREAgGGLS+YAYIjbsWOHzp8/L7vdrqioKMXExKigoEAdHR0qKyszHQ8AgGGNHSIAGMJaWlqUk5Oj+Ph41dbW9j9Vrre3V8uWLdP58+e1b98+2Ww2w0kBABieKEQAMERdu3ZNS5Ys0aVLl9TQ0KBp06b5zH/xxRd67LHHFB4eroMHD2rs2LGGkgIAMHxxyRwADFGlpaW6ePGi1q5de1MZkqTZs2frySeflMvlUnl5uYGEAAAMf+wQAQAAALAsdogAAAAAWBaFCAAAAIBlUYgAAAAAWBaFCAAAAIBlUYgAAAAAWBaFCAAAAIBlUYgAAAAAWBaFCAAAAIBlUYgAAAAAWBaFCAAAAIBl/Q+x9aGkALDWjAAAAABJRU5ErkJggg==\n",
        "text/plain": "<Figure size 720x360 with 1 Axes>"
       },
       "metadata": {},
       "output_type": "display_data"
      }
     ],
     "persistentId": "af820031-ee31-482c-a2ea-e357b1aaf7f4",
     "text": "gp.plot.plot_data(geo_model, direction='y')"
    },
    "executionTime": "2019-12-10T08:54:31.975Z"
   },
   {
    "cell": {
     "executionCount": 7,
     "executionEventId": "7e1a89c3-bb9b-47b5-8096-913785af2aaa",
     "hasError": false,
     "id": "8238c9a8-ceed-4977-afd1-3b42ddfac376",
     "outputs": [
      {
       "data": {
        "text/html": "<table border=\"1\" class=\"dataframe\">\n  <thead>\n    <tr style=\"text-align: right;\">\n      <th></th>\n      <th>order_series</th>\n      <th>BottomRelation</th>\n    </tr>\n  </thead>\n  <tbody>\n    <tr>\n      <th>Flat_Series</th>\n      <td>1</td>\n      <td>Erosion</td>\n    </tr>\n    <tr>\n      <th>Inclined_Series</th>\n      <td>2</td>\n      <td>Erosion</td>\n    </tr>\n    <tr>\n      <th>Fold_Series</th>\n      <td>3</td>\n      <td>Erosion</td>\n    </tr>\n    <tr>\n      <th>Basement</th>\n      <td>4</td>\n      <td>Erosion</td>\n    </tr>\n  </tbody>\n</table>",
        "text/plain": "                 order_series BottomRelation\nFlat_Series                 1        Erosion\nInclined_Series             2        Erosion\nFold_Series                 3        Erosion\nBasement                    4        Erosion"
       },
       "execution_count": 7,
       "metadata": {},
       "output_type": "execute_result"
      }
     ],
     "persistentId": "c55765fd-ae36-4ae1-8b26-62396d1e262e",
     "text": "geo_model.series"
    },
    "executionTime": "2019-12-10T08:54:36.543Z"
   },
   {
    "cell": {
     "executionCount": 8,
     "executionEventId": "65e21319-6c4e-4dc4-bc56-ecc7e8d76a21",
     "hasError": false,
     "id": "768d76cf-3372-42de-9028-31cbf0f0f0ab",
     "outputs": [
      {
       "name": "stdout",
       "output_type": "stream",
       "text": "Compiling theano function...\nCompilation Done!\n"
      },
      {
       "data": {
        "text/plain": "<gempy.core.interpolator.InterpolatorModel at 0x7fdcc1338e10>"
       },
       "execution_count": 8,
       "metadata": {},
       "output_type": "execute_result"
      }
     ],
     "persistentId": "958935b1-fd45-47c2-a35a-9eafc3670cb2",
     "text": "# Create the theano model\ngp.set_interpolation_data(geo_model,\n                         compile_theano=True,\n                         theano_optimizer='fast_compile',\n                         verbose=[])"
    },
    "executionTime": "2019-12-10T08:55:00.796Z"
   },
   {
    "cell": {
     "executionCount": 9,
     "executionEventId": "7c72557f-2924-4980-89f3-b937de1f9b6b",
     "hasError": false,
     "id": "6d1262fd-b821-4e15-8b4e-8a627f37bc41",
     "outputs": [],
     "persistentId": "ffeeac72-536e-4b3a-9aa8-e88ddce9a059",
     "text": "# Compute the model\nsol = gp.compute_model(geo_model, compute_mesh=False)"
    },
    "executionTime": "2019-12-10T08:55:01.056Z"
   },
   {
    "cell": {
     "executionCount": 10,
     "executionEventId": "670e0a96-7930-45b3-be5b-4852e99de463",
     "hasError": false,
     "id": "34418926-e9bd-48e0-90ac-de7fbd9a7211",
     "outputs": [
      {
       "data": {
        "text/plain": "<gempy.plot.visualization_2d.PlotData2D at 0x7fdd12245ba8>"
       },
       "execution_count": 10,
       "metadata": {},
       "output_type": "execute_result"
      },
      {
       "data": {
        "image/png": "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\n",
        "text/plain": "<Figure size 748.8x514.8 with 1 Axes>"
       },
       "metadata": {},
       "output_type": "display_data"
      }
     ],
     "persistentId": "4c10355c-9288-4cce-96f0-7914b3fcf6f7",
     "text": "gp.plot.plot_section(geo_model, cell_number=2, direction='y')"
    },
    "executionTime": "2019-12-10T08:55:01.279Z"
   },
   {
    "cell": {
     "executionCount": 11,
     "executionEventId": "eb2e0473-1396-4f5f-8dad-67fb08677277",
     "hasError": false,
     "id": "0bef1154-abd4-4c18-81e3-8ce2264bfb86",
     "outputs": [
      {
       "data": {
        "text/html": "<table border=\"1\" class=\"dataframe\">\n  <thead>\n    <tr style=\"text-align: right;\">\n      <th></th>\n      <th>order_series</th>\n      <th>BottomRelation</th>\n    </tr>\n  </thead>\n  <tbody>\n    <tr>\n      <th>Flat_Series</th>\n      <td>1</td>\n      <td>Erosion</td>\n    </tr>\n    <tr>\n      <th>Inclined_Series</th>\n      <td>2</td>\n      <td>Onlap</td>\n    </tr>\n    <tr>\n      <th>Fold_Series</th>\n      <td>3</td>\n      <td>Erosion</td>\n    </tr>\n    <tr>\n      <th>Basement</th>\n      <td>4</td>\n      <td>Erosion</td>\n    </tr>\n  </tbody>\n</table>",
        "text/plain": "                 order_series BottomRelation\nFlat_Series                 1        Erosion\nInclined_Series             2          Onlap\nFold_Series                 3        Erosion\nBasement                    4        Erosion"
       },
       "execution_count": 11,
       "metadata": {},
       "output_type": "execute_result"
      }
     ],
     "persistentId": "48a0c626-e069-4eee-9214-915ae778531d",
     "text": "# so let's set the Pregraben_Series to Onlap\ngeo_model.series.set_bottom_relation('Inclined_Series', bottom_relation='Onlap')"
    },
    "executionTime": "2019-12-10T08:55:15.991Z"
   },
   {
    "cell": {
     "executionCount": 12,
     "executionEventId": "0876789a-ebad-4647-b4db-4293678204fb",
     "hasError": false,
     "id": "bb5c7a8d-9dca-4e7a-a813-54c97e42453c",
     "outputs": [
      {
       "name": "stdout",
       "output_type": "stream",
       "text": "Compiling theano function...\nCompilation Done!\n"
      }
     ],
     "persistentId": "d037182e-5ba9-435b-9aff-c032ce7611eb",
     "text": "# Create the theano model\ngp.set_interpolation_data(geo_model,\n                         compile_theano=True,\n                         theano_optimizer='fast_compile',\n                         verbose=[])\n# Compute the model\nsol = gp.compute_model(geo_model, compute_mesh=False)"
    },
    "executionTime": "2019-12-10T08:55:20.247Z"
   },
   {
    "cell": {
     "executionCount": 13,
     "executionEventId": "3433b6a7-3e26-468c-b564-c3a199b4e5b5",
     "hasError": false,
     "id": "87eec17d-809b-4d76-862e-341096291802",
     "outputs": [
      {
       "data": {
        "text/plain": "<gempy.plot.visualization_2d.PlotData2D at 0x7fdd015f8fd0>"
       },
       "execution_count": 13,
       "metadata": {},
       "output_type": "execute_result"
      },
      {
       "data": {
        "image/png": "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\n",
        "text/plain": "<Figure size 748.8x514.8 with 1 Axes>"
       },
       "metadata": {},
       "output_type": "display_data"
      }
     ],
     "persistentId": "6eee44a7-88d0-45f0-8a54-828f3d9c0323",
     "text": "gp.plot.plot_section(geo_model, cell_number=2, direction='y')"
    },
    "executionTime": "2019-12-10T08:55:20.455Z"
   },
   {
    "cell": {
     "executionCount": 14,
     "executionEventId": "324ff05b-56f6-402f-8c9d-ef1167114468",
     "hasError": false,
     "id": "34418926-e9bd-48e0-90ac-de7fbd9a7211",
     "outputs": [
      {
       "data": {
        "text/plain": "<gempy.plot.visualization_2d.PlotData2D at 0x7fdcf1fec908>"
       },
       "execution_count": 14,
       "metadata": {},
       "output_type": "execute_result"
      },
      {
       "data": {
        "image/png": "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\n",
        "text/plain": "<Figure size 748.8x514.8 with 1 Axes>"
       },
       "metadata": {},
       "output_type": "display_data"
      }
     ],
     "persistentId": "4c10355c-9288-4cce-96f0-7914b3fcf6f7",
     "text": "gp.plot.plot_section(geo_model, cell_number=2, direction='y')"
    },
    "executionTime": "2019-12-10T08:55:35.544Z"
   },
   {
    "cell": {
     "executionCount": 1,
     "executionEventId": "3007128d-2ec8-46de-9964-6dc8ab4f54a4",
     "hasError": true,
     "id": "afdd5911-2a91-431a-8f52-07f081190877",
     "outputs": [
      {
       "ename": "NameError",
       "evalue": "name 'gp' is not defined",
       "output_type": "error",
       "traceback": [
        "\u001b[0;31m---------------------------------------------------------------------------\u001b[0m",
        "\u001b[0;31mNameError\u001b[0m                                 Traceback (most recent call last)",
        "\u001b[0;32m<ipython-input-1-f836dfa217e1>\u001b[0m in \u001b[0;36m<module>\u001b[0;34m\u001b[0m\n\u001b[0;32m----> 1\u001b[0;31m \u001b[0mgeo_model\u001b[0m \u001b[0;34m=\u001b[0m \u001b[0mgp\u001b[0m\u001b[0;34m.\u001b[0m\u001b[0mcreate_model\u001b[0m\u001b[0;34m(\u001b[0m\u001b[0;34m'Simple_model'\u001b[0m\u001b[0;34m)\u001b[0m\u001b[0;34m\u001b[0m\u001b[0;34m\u001b[0m\u001b[0m\n\u001b[0m",
        "\u001b[0;31mNameError\u001b[0m: name 'gp' is not defined"
       ]
      }
     ],
     "persistentId": "8085cd16-511e-4ed4-9fe3-f922e3cda9f0",
     "text": "geo_model = gp.create_model('Simple_model')"
    },
    "executionTime": "2019-12-10T10:21:30.232Z"
   },
   {
    "cell": {
     "executionCount": 2,
     "executionEventId": "6933bda9-7455-4af8-a1c3-66e5dc7cb763",
     "hasError": false,
     "id": "44b61156-79c0-443b-ac43-c048134ff12e",
     "outputs": [],
     "persistentId": "2adee47a-2aad-4a4e-8e39-d5af93d160a2",
     "text": "import gempy as gp\n%matplotlib inline"
    },
    "executionTime": "2019-12-10T10:21:36.954Z"
   },
   {
    "cell": {
     "executionCount": 3,
     "executionEventId": "e5e5b885-c12c-4e20-90b6-ae67082673b0",
     "hasError": false,
     "id": "afdd5911-2a91-431a-8f52-07f081190877",
     "outputs": [],
     "persistentId": "8085cd16-511e-4ed4-9fe3-f922e3cda9f0",
     "text": "geo_model = gp.create_model('Simple_model')"
    },
    "executionTime": "2019-12-10T10:21:37.315Z"
   },
   {
    "cell": {
     "executionCount": 4,
     "executionEventId": "dee9c917-8572-4e7e-9aff-417d34061a12",
     "hasError": true,
     "id": "5c4147fd-d1e4-445c-97ed-83b45e067536",
     "outputs": [
      {
       "name": "stdout",
       "output_type": "stream",
       "text": "Active grids: ['regular']\n"
      },
      {
       "ename": "KeyError",
       "evalue": "'formation'",
       "output_type": "error",
       "traceback": [
        "\u001b[0;31m---------------------------------------------------------------------------\u001b[0m",
        "\u001b[0;31mKeyError\u001b[0m                                  Traceback (most recent call last)",
        "\u001b[0;32m/anaconda3/lib/python3.6/site-packages/pandas/core/indexes/base.py\u001b[0m in \u001b[0;36mget_loc\u001b[0;34m(self, key, method, tolerance)\u001b[0m\n\u001b[1;32m   2656\u001b[0m             \u001b[0;32mtry\u001b[0m\u001b[0;34m:\u001b[0m\u001b[0;34m\u001b[0m\u001b[0;34m\u001b[0m\u001b[0m\n\u001b[0;32m-> 2657\u001b[0;31m                 \u001b[0;32mreturn\u001b[0m \u001b[0mself\u001b[0m\u001b[0;34m.\u001b[0m\u001b[0m_engine\u001b[0m\u001b[0;34m.\u001b[0m\u001b[0mget_loc\u001b[0m\u001b[0;34m(\u001b[0m\u001b[0mkey\u001b[0m\u001b[0;34m)\u001b[0m\u001b[0;34m\u001b[0m\u001b[0;34m\u001b[0m\u001b[0m\n\u001b[0m\u001b[1;32m   2658\u001b[0m             \u001b[0;32mexcept\u001b[0m \u001b[0mKeyError\u001b[0m\u001b[0;34m:\u001b[0m\u001b[0;34m\u001b[0m\u001b[0;34m\u001b[0m\u001b[0m\n",
        "\u001b[0;32mpandas/_libs/index.pyx\u001b[0m in \u001b[0;36mpandas._libs.index.IndexEngine.get_loc\u001b[0;34m()\u001b[0m\n",
        "\u001b[0;32mpandas/_libs/index.pyx\u001b[0m in \u001b[0;36mpandas._libs.index.IndexEngine.get_loc\u001b[0;34m()\u001b[0m\n",
        "\u001b[0;32mpandas/_libs/hashtable_class_helper.pxi\u001b[0m in \u001b[0;36mpandas._libs.hashtable.PyObjectHashTable.get_item\u001b[0;34m()\u001b[0m\n",
        "\u001b[0;32mpandas/_libs/hashtable_class_helper.pxi\u001b[0m in \u001b[0;36mpandas._libs.hashtable.PyObjectHashTable.get_item\u001b[0;34m()\u001b[0m\n",
        "\u001b[0;31mKeyError\u001b[0m: 'formation'",
        "\nDuring handling of the above exception, another exception occurred:\n",
        "\u001b[0;31mKeyError\u001b[0m                                  Traceback (most recent call last)",
        "\u001b[0;32m<ipython-input-4-e1c2179f23fb>\u001b[0m in \u001b[0;36m<module>\u001b[0;34m\u001b[0m\n\u001b[1;32m      1\u001b[0m gp.init_data(geo_model, [0., 10., 0., 10., -10., 0.], [100, 4, 100],\n\u001b[1;32m      2\u001b[0m             \u001b[0mpath_i\u001b[0m \u001b[0;34m=\u001b[0m \u001b[0;34m'../data/1Layer_simple_model_interfaces.csv'\u001b[0m\u001b[0;34m,\u001b[0m\u001b[0;34m\u001b[0m\u001b[0;34m\u001b[0m\u001b[0m\n\u001b[0;32m----> 3\u001b[0;31m             path_o = '../data/2Layer_simple_model_orientation.csv', separator=';')\n\u001b[0m",
        "\u001b[0;32m/anaconda3/lib/python3.6/site-packages/gempy/core/gempy_api.py\u001b[0m in \u001b[0;36minit_data\u001b[0;34m(geo_model, extent, resolution, **kwargs)\u001b[0m\n\u001b[1;32m    417\u001b[0m \u001b[0;34m\u001b[0m\u001b[0m\n\u001b[1;32m    418\u001b[0m     \u001b[0;32mif\u001b[0m \u001b[0;34m'path_i'\u001b[0m \u001b[0;32min\u001b[0m \u001b[0mkwargs\u001b[0m \u001b[0;32mor\u001b[0m \u001b[0;34m'path_o'\u001b[0m \u001b[0;32min\u001b[0m \u001b[0mkwargs\u001b[0m\u001b[0;34m:\u001b[0m\u001b[0;34m\u001b[0m\u001b[0;34m\u001b[0m\u001b[0m\n\u001b[0;32m--> 419\u001b[0;31m         \u001b[0mread_csv\u001b[0m\u001b[0;34m(\u001b[0m\u001b[0mgeo_model\u001b[0m\u001b[0;34m,\u001b[0m \u001b[0;34m**\u001b[0m\u001b[0mkwargs\u001b[0m\u001b[0;34m)\u001b[0m\u001b[0;34m\u001b[0m\u001b[0;34m\u001b[0m\u001b[0m\n\u001b[0m\u001b[1;32m    420\u001b[0m \u001b[0;34m\u001b[0m\u001b[0m\n\u001b[1;32m    421\u001b[0m     \u001b[0;32mif\u001b[0m \u001b[0;34m'surface_points_df'\u001b[0m \u001b[0;32min\u001b[0m \u001b[0mkwargs\u001b[0m\u001b[0;34m:\u001b[0m\u001b[0;34m\u001b[0m\u001b[0;34m\u001b[0m\u001b[0m\n",
        "\u001b[0;32m/anaconda3/lib/python3.6/site-packages/gempy/core/gempy_api.py\u001b[0m in \u001b[0;36mread_csv\u001b[0;34m(geo_model, path_i, path_o, **kwargs)\u001b[0m\n\u001b[1;32m     81\u001b[0m \u001b[0;32mdef\u001b[0m \u001b[0mread_csv\u001b[0m\u001b[0;34m(\u001b[0m\u001b[0mgeo_model\u001b[0m\u001b[0;34m:\u001b[0m \u001b[0mModel\u001b[0m\u001b[0;34m,\u001b[0m \u001b[0mpath_i\u001b[0m\u001b[0;34m=\u001b[0m\u001b[0;32mNone\u001b[0m\u001b[0;34m,\u001b[0m \u001b[0mpath_o\u001b[0m\u001b[0;34m=\u001b[0m\u001b[0;32mNone\u001b[0m\u001b[0;34m,\u001b[0m \u001b[0;34m**\u001b[0m\u001b[0mkwargs\u001b[0m\u001b[0;34m)\u001b[0m\u001b[0;34m:\u001b[0m\u001b[0;34m\u001b[0m\u001b[0;34m\u001b[0m\u001b[0m\n\u001b[1;32m     82\u001b[0m     \u001b[0;32mif\u001b[0m \u001b[0mpath_i\u001b[0m \u001b[0;32mis\u001b[0m \u001b[0;32mnot\u001b[0m \u001b[0;32mNone\u001b[0m \u001b[0;32mor\u001b[0m \u001b[0mpath_o\u001b[0m \u001b[0;32mis\u001b[0m \u001b[0;32mnot\u001b[0m \u001b[0;32mNone\u001b[0m\u001b[0;34m:\u001b[0m\u001b[0;34m\u001b[0m\u001b[0;34m\u001b[0m\u001b[0m\n\u001b[0;32m---> 83\u001b[0;31m         \u001b[0mgeo_model\u001b[0m\u001b[0;34m.\u001b[0m\u001b[0mread_data\u001b[0m\u001b[0;34m(\u001b[0m\u001b[0mpath_i\u001b[0m\u001b[0;34m,\u001b[0m \u001b[0mpath_o\u001b[0m\u001b[0;34m,\u001b[0m \u001b[0;34m**\u001b[0m\u001b[0mkwargs\u001b[0m\u001b[0;34m)\u001b[0m\u001b[0;34m\u001b[0m\u001b[0;34m\u001b[0m\u001b[0m\n\u001b[0m\u001b[1;32m     84\u001b[0m     \u001b[0;32mreturn\u001b[0m \u001b[0;32mTrue\u001b[0m\u001b[0;34m\u001b[0m\u001b[0;34m\u001b[0m\u001b[0m\n\u001b[1;32m     85\u001b[0m \u001b[0;34m\u001b[0m\u001b[0m\n",
        "\u001b[0;32m/anaconda3/lib/python3.6/site-packages/gempy/core/model.py\u001b[0m in \u001b[0;36mread_data\u001b[0;34m(self, path_i, path_o, add_basement, **kwargs)\u001b[0m\n\u001b[1;32m   1091\u001b[0m \u001b[0;34m\u001b[0m\u001b[0m\n\u001b[1;32m   1092\u001b[0m         \u001b[0;32mif\u001b[0m \u001b[0mpath_i\u001b[0m\u001b[0;34m:\u001b[0m\u001b[0;34m\u001b[0m\u001b[0;34m\u001b[0m\u001b[0m\n\u001b[0;32m-> 1093\u001b[0;31m             \u001b[0mself\u001b[0m\u001b[0;34m.\u001b[0m\u001b[0msurface_points\u001b[0m\u001b[0;34m.\u001b[0m\u001b[0mread_surface_points\u001b[0m\u001b[0;34m(\u001b[0m\u001b[0mpath_i\u001b[0m\u001b[0;34m,\u001b[0m \u001b[0minplace\u001b[0m\u001b[0;34m=\u001b[0m\u001b[0;32mTrue\u001b[0m\u001b[0;34m,\u001b[0m \u001b[0;34m**\u001b[0m\u001b[0mkwargs\u001b[0m\u001b[0;34m)\u001b[0m\u001b[0;34m\u001b[0m\u001b[0;34m\u001b[0m\u001b[0m\n\u001b[0m\u001b[1;32m   1094\u001b[0m         \u001b[0;32mif\u001b[0m \u001b[0mpath_o\u001b[0m\u001b[0;34m:\u001b[0m\u001b[0;34m\u001b[0m\u001b[0;34m\u001b[0m\u001b[0m\n\u001b[1;32m   1095\u001b[0m             \u001b[0mself\u001b[0m\u001b[0;34m.\u001b[0m\u001b[0morientations\u001b[0m\u001b[0;34m.\u001b[0m\u001b[0mread_orientations\u001b[0m\u001b[0;34m(\u001b[0m\u001b[0mpath_o\u001b[0m\u001b[0;34m,\u001b[0m \u001b[0minplace\u001b[0m\u001b[0;34m=\u001b[0m\u001b[0;32mTrue\u001b[0m\u001b[0;34m,\u001b[0m \u001b[0;34m**\u001b[0m\u001b[0mkwargs\u001b[0m\u001b[0;34m)\u001b[0m\u001b[0;34m\u001b[0m\u001b[0;34m\u001b[0m\u001b[0m\n",
        "\u001b[0;32m/anaconda3/lib/python3.6/site-packages/gempy/core/data.py\u001b[0m in \u001b[0;36mread_surface_points\u001b[0;34m(self, file_path, debug, inplace, kwargs_pandas, **kwargs)\u001b[0m\n\u001b[1;32m   1510\u001b[0m         \u001b[0;32mif\u001b[0m \u001b[0;34m'update_surfaces'\u001b[0m \u001b[0;32min\u001b[0m \u001b[0mkwargs\u001b[0m\u001b[0;34m:\u001b[0m\u001b[0;34m\u001b[0m\u001b[0;34m\u001b[0m\u001b[0m\n\u001b[1;32m   1511\u001b[0m             \u001b[0;32mif\u001b[0m \u001b[0mkwargs\u001b[0m\u001b[0;34m[\u001b[0m\u001b[0;34m'update_surfaces'\u001b[0m\u001b[0;34m]\u001b[0m \u001b[0;32mis\u001b[0m \u001b[0;32mTrue\u001b[0m\u001b[0;34m:\u001b[0m\u001b[0;34m\u001b[0m\u001b[0;34m\u001b[0m\u001b[0m\n\u001b[0;32m-> 1512\u001b[0;31m                 \u001b[0mself\u001b[0m\u001b[0;34m.\u001b[0m\u001b[0msurfaces\u001b[0m\u001b[0;34m.\u001b[0m\u001b[0madd_surface\u001b[0m\u001b[0;34m(\u001b[0m\u001b[0mtable\u001b[0m\u001b[0;34m[\u001b[0m\u001b[0msurface_name\u001b[0m\u001b[0;34m]\u001b[0m\u001b[0;34m.\u001b[0m\u001b[0munique\u001b[0m\u001b[0;34m(\u001b[0m\u001b[0;34m)\u001b[0m\u001b[0;34m)\u001b[0m\u001b[0;34m\u001b[0m\u001b[0;34m\u001b[0m\u001b[0m\n\u001b[0m\u001b[1;32m   1513\u001b[0m \u001b[0;34m\u001b[0m\u001b[0m\n\u001b[1;32m   1514\u001b[0m         \u001b[0;32mif\u001b[0m \u001b[0mdebug\u001b[0m \u001b[0;32mis\u001b[0m \u001b[0;32mTrue\u001b[0m\u001b[0;34m:\u001b[0m\u001b[0;34m\u001b[0m\u001b[0;34m\u001b[0m\u001b[0m\n",
        "\u001b[0;32m/anaconda3/lib/python3.6/site-packages/pandas/core/frame.py\u001b[0m in \u001b[0;36m__getitem__\u001b[0;34m(self, key)\u001b[0m\n\u001b[1;32m   2925\u001b[0m             \u001b[0;32mif\u001b[0m \u001b[0mself\u001b[0m\u001b[0;34m.\u001b[0m\u001b[0mcolumns\u001b[0m\u001b[0;34m.\u001b[0m\u001b[0mnlevels\u001b[0m \u001b[0;34m>\u001b[0m \u001b[0;36m1\u001b[0m\u001b[0;34m:\u001b[0m\u001b[0;34m\u001b[0m\u001b[0;34m\u001b[0m\u001b[0m\n\u001b[1;32m   2926\u001b[0m                 \u001b[0;32mreturn\u001b[0m \u001b[0mself\u001b[0m\u001b[0;34m.\u001b[0m\u001b[0m_getitem_multilevel\u001b[0m\u001b[0;34m(\u001b[0m\u001b[0mkey\u001b[0m\u001b[0;34m)\u001b[0m\u001b[0;34m\u001b[0m\u001b[0;34m\u001b[0m\u001b[0m\n\u001b[0;32m-> 2927\u001b[0;31m             \u001b[0mindexer\u001b[0m \u001b[0;34m=\u001b[0m \u001b[0mself\u001b[0m\u001b[0;34m.\u001b[0m\u001b[0mcolumns\u001b[0m\u001b[0;34m.\u001b[0m\u001b[0mget_loc\u001b[0m\u001b[0;34m(\u001b[0m\u001b[0mkey\u001b[0m\u001b[0;34m)\u001b[0m\u001b[0;34m\u001b[0m\u001b[0;34m\u001b[0m\u001b[0m\n\u001b[0m\u001b[1;32m   2928\u001b[0m             \u001b[0;32mif\u001b[0m \u001b[0mis_integer\u001b[0m\u001b[0;34m(\u001b[0m\u001b[0mindexer\u001b[0m\u001b[0;34m)\u001b[0m\u001b[0;34m:\u001b[0m\u001b[0;34m\u001b[0m\u001b[0;34m\u001b[0m\u001b[0m\n\u001b[1;32m   2929\u001b[0m                 \u001b[0mindexer\u001b[0m \u001b[0;34m=\u001b[0m \u001b[0;34m[\u001b[0m\u001b[0mindexer\u001b[0m\u001b[0;34m]\u001b[0m\u001b[0;34m\u001b[0m\u001b[0;34m\u001b[0m\u001b[0m\n",
        "\u001b[0;32m/anaconda3/lib/python3.6/site-packages/pandas/core/indexes/base.py\u001b[0m in \u001b[0;36mget_loc\u001b[0;34m(self, key, method, tolerance)\u001b[0m\n\u001b[1;32m   2657\u001b[0m                 \u001b[0;32mreturn\u001b[0m \u001b[0mself\u001b[0m\u001b[0;34m.\u001b[0m\u001b[0m_engine\u001b[0m\u001b[0;34m.\u001b[0m\u001b[0mget_loc\u001b[0m\u001b[0;34m(\u001b[0m\u001b[0mkey\u001b[0m\u001b[0;34m)\u001b[0m\u001b[0;34m\u001b[0m\u001b[0;34m\u001b[0m\u001b[0m\n\u001b[1;32m   2658\u001b[0m             \u001b[0;32mexcept\u001b[0m \u001b[0mKeyError\u001b[0m\u001b[0;34m:\u001b[0m\u001b[0;34m\u001b[0m\u001b[0;34m\u001b[0m\u001b[0m\n\u001b[0;32m-> 2659\u001b[0;31m                 \u001b[0;32mreturn\u001b[0m \u001b[0mself\u001b[0m\u001b[0;34m.\u001b[0m\u001b[0m_engine\u001b[0m\u001b[0;34m.\u001b[0m\u001b[0mget_loc\u001b[0m\u001b[0;34m(\u001b[0m\u001b[0mself\u001b[0m\u001b[0;34m.\u001b[0m\u001b[0m_maybe_cast_indexer\u001b[0m\u001b[0;34m(\u001b[0m\u001b[0mkey\u001b[0m\u001b[0;34m)\u001b[0m\u001b[0;34m)\u001b[0m\u001b[0;34m\u001b[0m\u001b[0;34m\u001b[0m\u001b[0m\n\u001b[0m\u001b[1;32m   2660\u001b[0m         \u001b[0mindexer\u001b[0m \u001b[0;34m=\u001b[0m \u001b[0mself\u001b[0m\u001b[0;34m.\u001b[0m\u001b[0mget_indexer\u001b[0m\u001b[0;34m(\u001b[0m\u001b[0;34m[\u001b[0m\u001b[0mkey\u001b[0m\u001b[0;34m]\u001b[0m\u001b[0;34m,\u001b[0m \u001b[0mmethod\u001b[0m\u001b[0;34m=\u001b[0m\u001b[0mmethod\u001b[0m\u001b[0;34m,\u001b[0m \u001b[0mtolerance\u001b[0m\u001b[0;34m=\u001b[0m\u001b[0mtolerance\u001b[0m\u001b[0;34m)\u001b[0m\u001b[0;34m\u001b[0m\u001b[0;34m\u001b[0m\u001b[0m\n\u001b[1;32m   2661\u001b[0m         \u001b[0;32mif\u001b[0m \u001b[0mindexer\u001b[0m\u001b[0;34m.\u001b[0m\u001b[0mndim\u001b[0m \u001b[0;34m>\u001b[0m \u001b[0;36m1\u001b[0m \u001b[0;32mor\u001b[0m \u001b[0mindexer\u001b[0m\u001b[0;34m.\u001b[0m\u001b[0msize\u001b[0m \u001b[0;34m>\u001b[0m \u001b[0;36m1\u001b[0m\u001b[0;34m:\u001b[0m\u001b[0;34m\u001b[0m\u001b[0;34m\u001b[0m\u001b[0m\n",
        "\u001b[0;32mpandas/_libs/index.pyx\u001b[0m in \u001b[0;36mpandas._libs.index.IndexEngine.get_loc\u001b[0;34m()\u001b[0m\n",
        "\u001b[0;32mpandas/_libs/index.pyx\u001b[0m in \u001b[0;36mpandas._libs.index.IndexEngine.get_loc\u001b[0;34m()\u001b[0m\n",
        "\u001b[0;32mpandas/_libs/hashtable_class_helper.pxi\u001b[0m in \u001b[0;36mpandas._libs.hashtable.PyObjectHashTable.get_item\u001b[0;34m()\u001b[0m\n",
        "\u001b[0;32mpandas/_libs/hashtable_class_helper.pxi\u001b[0m in \u001b[0;36mpandas._libs.hashtable.PyObjectHashTable.get_item\u001b[0;34m()\u001b[0m\n",
        "\u001b[0;31mKeyError\u001b[0m: 'formation'"
       ]
      }
     ],
     "persistentId": "1de91be5-79ab-4517-86e5-f7e2d7546830",
     "text": "gp.init_data(geo_model, [0., 10., 0., 10., -10., 0.], [100, 4, 100],\n            path_i = '../data/1Layer_simple_model_interfaces.csv',\n            path_o = '../data/2Layer_simple_model_orientation.csv', separator=';')"
    },
    "executionTime": "2019-12-10T10:24:04.579Z"
   },
   {
    "cell": {
     "executionCount": 5,
     "executionEventId": "beec5fd6-fb95-47a6-86cd-b2f49c39536f",
     "hasError": false,
     "id": "5c4147fd-d1e4-445c-97ed-83b45e067536",
     "outputs": [
      {
       "name": "stdout",
       "output_type": "stream",
       "text": "Active grids: ['regular']\n"
      },
      {
       "data": {
        "text/plain": "Simple_model  2019-12-10 11:21"
       },
       "execution_count": 5,
       "metadata": {},
       "output_type": "execute_result"
      }
     ],
     "persistentId": "1de91be5-79ab-4517-86e5-f7e2d7546830",
     "text": "gp.init_data(geo_model, [0., 10., 0., 10., -10., 0.], [100, 4, 100],\n            path_i = '../data/1Layer_simple_model_interfaces.csv',\n            path_o = '../data/2Layer_simple_model_orientation.csv', separator=';')"
    },
    "executionTime": "2019-12-10T10:24:53.370Z"
   },
   {
    "cell": {
     "executionCount": 1,
     "executionEventId": "7951b712-9520-42fd-9ead-417737790510",
     "hasError": false,
     "id": "aabd5303-fc46-4d6a-a606-d3e85444a179",
     "outputs": [],
     "persistentId": "2adee47a-2aad-4a4e-8e39-d5af93d160a2",
     "text": "import gempy as gp\n%matplotlib inline"
    },
    "executionTime": "2019-12-10T10:46:10.731Z"
   },
   {
    "cell": {
     "executionCount": 2,
     "executionEventId": "9b4cbb55-7eee-44dd-b65a-3cc2f053e5d7",
     "hasError": false,
     "id": "cb54a41a-afcd-455d-83b8-afb3d0e20d24",
     "outputs": [],
     "persistentId": "8085cd16-511e-4ed4-9fe3-f922e3cda9f0",
     "text": "geo_model = gp.create_model('Simple_model')"
    },
    "executionTime": "2019-12-10T10:46:11.064Z"
   },
   {
    "cell": {
     "executionCount": 3,
     "executionEventId": "752cbde3-5dbd-4f74-9b4e-2ee758b5c5a7",
     "hasError": false,
     "id": "64a953ad-6ab4-4a58-8b5e-11cc505800f7",
     "outputs": [
      {
       "name": "stdout",
       "output_type": "stream",
       "text": "Active grids: ['regular']\n"
      }
     ],
     "persistentId": "1de91be5-79ab-4517-86e5-f7e2d7546830",
     "text": "gp.init_data(geo_model, [0., 10., 0., 10., -10., 0.], [100, 4, 100],\n            path_i = '../data/1Layer_simple_model_interfaces.csv',\n            path_o = '../data/2Layer_simple_model_orientation.csv');"
    },
    "executionTime": "2019-12-10T10:46:11.290Z"
   },
   {
    "cell": {
     "executionCount": 4,
     "executionEventId": "40286aa6-6b52-4524-8a72-6f725bb6bbab",
     "hasError": false,
     "id": "6405639b-f139-4e0f-921d-7e441dca309d",
     "outputs": [
      {
       "data": {
        "text/html": "<style  type=\"text/css\" >\n    #T_4ef3b882_1b3a_11ea_a51d_f01898ee72bcrow0_col4 {\n            background-color:  #015482;\n        }    #T_4ef3b882_1b3a_11ea_a51d_f01898ee72bcrow1_col4 {\n            background-color:  #9f0052;\n        }</style><table id=\"T_4ef3b882_1b3a_11ea_a51d_f01898ee72bc\" ><thead>    <tr>        <th class=\"blank level0\" ></th>        <th class=\"col_heading level0 col0\" >surface</th>        <th class=\"col_heading level0 col1\" >series</th>        <th class=\"col_heading level0 col2\" >order_surfaces</th>        <th class=\"col_heading level0 col3\" >isBasement</th>        <th class=\"col_heading level0 col4\" >color</th>        <th class=\"col_heading level0 col5\" >id</th>    </tr></thead><tbody>\n                <tr>\n                        <th id=\"T_4ef3b882_1b3a_11ea_a51d_f01898ee72bclevel0_row0\" class=\"row_heading level0 row0\" >0</th>\n                        <td id=\"T_4ef3b882_1b3a_11ea_a51d_f01898ee72bcrow0_col0\" class=\"data row0 col0\" >surface_2</td>\n                        <td id=\"T_4ef3b882_1b3a_11ea_a51d_f01898ee72bcrow0_col1\" class=\"data row0 col1\" >Default series</td>\n                        <td id=\"T_4ef3b882_1b3a_11ea_a51d_f01898ee72bcrow0_col2\" class=\"data row0 col2\" >1</td>\n                        <td id=\"T_4ef3b882_1b3a_11ea_a51d_f01898ee72bcrow0_col3\" class=\"data row0 col3\" >False</td>\n                        <td id=\"T_4ef3b882_1b3a_11ea_a51d_f01898ee72bcrow0_col4\" class=\"data row0 col4\" >#015482</td>\n                        <td id=\"T_4ef3b882_1b3a_11ea_a51d_f01898ee72bcrow0_col5\" class=\"data row0 col5\" >1</td>\n            </tr>\n            <tr>\n                        <th id=\"T_4ef3b882_1b3a_11ea_a51d_f01898ee72bclevel0_row1\" class=\"row_heading level0 row1\" >1</th>\n                        <td id=\"T_4ef3b882_1b3a_11ea_a51d_f01898ee72bcrow1_col0\" class=\"data row1 col0\" >basement</td>\n                        <td id=\"T_4ef3b882_1b3a_11ea_a51d_f01898ee72bcrow1_col1\" class=\"data row1 col1\" >Basement</td>\n                        <td id=\"T_4ef3b882_1b3a_11ea_a51d_f01898ee72bcrow1_col2\" class=\"data row1 col2\" >1</td>\n                        <td id=\"T_4ef3b882_1b3a_11ea_a51d_f01898ee72bcrow1_col3\" class=\"data row1 col3\" >True</td>\n                        <td id=\"T_4ef3b882_1b3a_11ea_a51d_f01898ee72bcrow1_col4\" class=\"data row1 col4\" >#9f0052</td>\n                        <td id=\"T_4ef3b882_1b3a_11ea_a51d_f01898ee72bcrow1_col5\" class=\"data row1 col5\" >2</td>\n            </tr>\n    </tbody></table>",
        "text/plain": "     surface          series  order_surfaces  isBasement    color vertices edges  id\n0  surface_2  Default series               1       False  #015482      NaN   NaN   1\n1   basement        Basement               1        True  #9f0052      NaN   NaN   2"
       },
       "execution_count": 4,
       "metadata": {},
       "output_type": "execute_result"
      }
     ],
     "persistentId": "c03906ba-4aef-4552-afa9-393f86a04e4e",
     "text": "geo_model.surfaces"
    },
    "executionTime": "2019-12-10T10:46:23.519Z"
   },
   {
    "cell": {
     "executionCount": 5,
     "executionEventId": "3ea90a6e-2182-41bd-9c69-bebca04361e9",
     "hasError": false,
     "id": "e8a746eb-4139-444f-87ab-1eba5d923754",
     "outputs": [
      {
       "name": "stdout",
       "output_type": "stream",
       "text": "Compiling theano function...\nCompilation Done!\n"
      },
      {
       "data": {
        "text/plain": "<gempy.core.interpolator.InterpolatorModel at 0x7f8dc01879e8>"
       },
       "execution_count": 5,
       "metadata": {},
       "output_type": "execute_result"
      }
     ],
     "persistentId": "958935b1-fd45-47c2-a35a-9eafc3670cb2",
     "text": "# Create the theano model\ngp.set_interpolation_data(geo_model,\n                         compile_theano=True,\n                         theano_optimizer='fast_compile',\n                         verbose=[])"
    },
    "executionTime": "2019-12-10T10:51:36.697Z"
   },
   {
    "cell": {
     "executionCount": 6,
     "executionEventId": "08c3a772-93a0-48f5-88d5-d442b08e23dc",
     "hasError": false,
     "id": "822d4a09-3e07-44f7-a4b3-bb370a1810d0",
     "outputs": [],
     "persistentId": "ffeeac72-536e-4b3a-9aa8-e88ddce9a059",
     "text": "# Compute the model\nsol = gp.compute_model(geo_model, compute_mesh=False)"
    },
    "executionTime": "2019-12-10T10:51:36.778Z"
   },
   {
    "cell": {
     "executionCount": 7,
     "executionEventId": "18cbca0a-15e6-4748-8f79-85eab192a9a7",
     "hasError": false,
     "id": "3142db37-ab14-4258-96e6-a21e5661737d",
     "outputs": [
      {
       "data": {
        "text/plain": "<gempy.plot.visualization_2d.PlotData2D at 0x7f8dc03c7fd0>"
       },
       "execution_count": 7,
       "metadata": {},
       "output_type": "execute_result"
      },
      {
       "data": {
        "image/png": "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\n",
        "text/plain": "<Figure size 748.8x514.8 with 1 Axes>"
       },
       "metadata": {},
       "output_type": "display_data"
      }
     ],
     "persistentId": "4c10355c-9288-4cce-96f0-7914b3fcf6f7",
     "text": "gp.plot.plot_section(geo_model, cell_number=2, direction='y')"
    },
    "executionTime": "2019-12-10T10:51:44.730Z"
   },
   {
    "cell": {
     "executionCount": 8,
     "executionEventId": "82075ab9-40c8-49e3-aedd-3bdc3b597299",
     "hasError": false,
     "id": "11007042-29a8-41c7-80d5-441ecdec873c",
     "outputs": [
      {
       "data": {
        "text/plain": "<gempy.plot.visualization_2d.PlotData2D at 0x7f8dc060bcf8>"
       },
       "execution_count": 8,
       "metadata": {},
       "output_type": "execute_result"
      },
      {
       "data": {
        "image/png": "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\n",
        "text/plain": "<Figure size 748.8x514.8 with 1 Axes>"
       },
       "metadata": {},
       "output_type": "display_data"
      }
     ],
     "persistentId": "6eee44a7-88d0-45f0-8a54-828f3d9c0323",
     "text": "gp.plot.plot_section(geo_model, cell_number=2, direction='y')"
    },
    "executionTime": "2019-12-10T10:52:02.289Z"
   },
   {
    "cell": {
     "executionCount": 9,
     "executionEventId": "6fcff6ae-09d2-4e1f-bd4a-9dce3500ae18",
     "hasError": false,
     "id": "70b48069-3f40-4e30-a971-d990c205b78a",
     "outputs": [
      {
       "data": {
        "text/plain": "\u001b[0;31mSignature:\u001b[0m\n\u001b[0mgp\u001b[0m\u001b[0;34m.\u001b[0m\u001b[0mplot\u001b[0m\u001b[0;34m.\u001b[0m\u001b[0mplot_section\u001b[0m\u001b[0;34m(\u001b[0m\u001b[0;34m\u001b[0m\n\u001b[0;34m\u001b[0m    \u001b[0mmodel\u001b[0m\u001b[0;34m,\u001b[0m\u001b[0;34m\u001b[0m\n\u001b[0;34m\u001b[0m    \u001b[0mcell_number\u001b[0m\u001b[0;34m=\u001b[0m\u001b[0;36m13\u001b[0m\u001b[0;34m,\u001b[0m\u001b[0;34m\u001b[0m\n\u001b[0;34m\u001b[0m    \u001b[0mblock\u001b[0m\u001b[0;34m=\u001b[0m\u001b[0;32mNone\u001b[0m\u001b[0;34m,\u001b[0m\u001b[0;34m\u001b[0m\n\u001b[0;34m\u001b[0m    \u001b[0mdirection\u001b[0m\u001b[0;34m=\u001b[0m\u001b[0;34m'y'\u001b[0m\u001b[0;34m,\u001b[0m\u001b[0;34m\u001b[0m\n\u001b[0;34m\u001b[0m    \u001b[0minterpolation\u001b[0m\u001b[0;34m=\u001b[0m\u001b[0;34m'none'\u001b[0m\u001b[0;34m,\u001b[0m\u001b[0;34m\u001b[0m\n\u001b[0;34m\u001b[0m    \u001b[0mshow_data\u001b[0m\u001b[0;34m=\u001b[0m\u001b[0;32mFalse\u001b[0m\u001b[0;34m,\u001b[0m\u001b[0;34m\u001b[0m\n\u001b[0;34m\u001b[0m    \u001b[0mshow_faults\u001b[0m\u001b[0;34m=\u001b[0m\u001b[0;32mTrue\u001b[0m\u001b[0;34m,\u001b[0m\u001b[0;34m\u001b[0m\n\u001b[0;34m\u001b[0m    \u001b[0mshow_topo\u001b[0m\u001b[0;34m=\u001b[0m\u001b[0;32mFalse\u001b[0m\u001b[0;34m,\u001b[0m\u001b[0;34m\u001b[0m\n\u001b[0;34m\u001b[0m    \u001b[0mshow_legend\u001b[0m\u001b[0;34m=\u001b[0m\u001b[0;32mTrue\u001b[0m\u001b[0;34m,\u001b[0m\u001b[0;34m\u001b[0m\n\u001b[0;34m\u001b[0m    \u001b[0mblock_type\u001b[0m\u001b[0;34m=\u001b[0m\u001b[0;32mNone\u001b[0m\u001b[0;34m,\u001b[0m\u001b[0;34m\u001b[0m\n\u001b[0;34m\u001b[0m    \u001b[0mve\u001b[0m\u001b[0;34m=\u001b[0m\u001b[0;36m1\u001b[0m\u001b[0;34m,\u001b[0m\u001b[0;34m\u001b[0m\n\u001b[0;34m\u001b[0m    \u001b[0;34m**\u001b[0m\u001b[0mkwargs\u001b[0m\u001b[0;34m,\u001b[0m\u001b[0;34m\u001b[0m\n\u001b[0;34m\u001b[0m\u001b[0;34m)\u001b[0m\u001b[0;34m\u001b[0m\u001b[0;34m\u001b[0m\u001b[0m\n\u001b[0;31mDocstring:\u001b[0m\nPlot a section of the block model\n\nArgs:\n    cell_number(int): position of the array to plot\n    direction(str): xyz. Caartesian direction to be plotted\n    interpolation(str): Type of interpolation of plt.imshow. Default 'none'.  Acceptable values are 'none'\n    ,'nearest', 'bilinear', 'bicubic',\n    'spline16', 'spline36', 'hanning', 'hamming', 'hermite', 'kaiser',\n    'quadric', 'catrom', 'gaussian', 'bessel', 'mitchell', 'sinc',\n    'lanczos'\n    ve(float): Vertical exageration\n    **kwargs: imshow keywargs\n\nReturns:\n    None\n\u001b[0;31mFile:\u001b[0m      /anaconda3/lib/python3.6/site-packages/gempy/plot/plot.py\n\u001b[0;31mType:\u001b[0m      function\n"
       },
       "metadata": {},
       "output_type": "display_data"
      }
     ],
     "persistentId": "c51e0b84-6391-4570-b79e-14efb3b2ab2e",
     "text": "gp.plot.plot_section?"
    },
    "executionTime": "2019-12-10T10:52:37.608Z"
   },
   {
    "cell": {
     "executionCount": 10,
     "executionEventId": "d8dc70c3-8941-4f0b-8ab5-b29bd4b32fa3",
     "hasError": false,
     "id": "11007042-29a8-41c7-80d5-441ecdec873c",
     "outputs": [
      {
       "data": {
        "text/plain": "<gempy.plot.visualization_2d.PlotData2D at 0x7f8db3c46208>"
       },
       "execution_count": 10,
       "metadata": {},
       "output_type": "execute_result"
      },
      {
       "data": {
        "image/png": "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\n",
        "text/plain": "<Figure size 360x360 with 1 Axes>"
       },
       "metadata": {},
       "output_type": "display_data"
      }
     ],
     "persistentId": "6eee44a7-88d0-45f0-8a54-828f3d9c0323",
     "text": "gp.plot.plot_section(geo_model, cell_number=2, direction='y', show_data=True)"
    },
    "executionTime": "2019-12-10T10:52:48.362Z"
   },
   {
    "cell": {
     "executionCount": 11,
     "executionEventId": "4c78f513-3a1d-4fdb-93ea-b94b990300d3",
     "hasError": false,
     "id": "ad5c6fce-b564-4bb2-baab-d45661be33a6",
     "outputs": [
      {
       "name": "stdout",
       "output_type": "stream",
       "text": "Active grids: ['regular']\n"
      }
     ],
     "persistentId": "1de91be5-79ab-4517-86e5-f7e2d7546830",
     "text": "gp.init_data(geo_model, [0., 10., 0., 10., -10., 0.], [100, 4, 100],\n            path_i = '../data/2Layer_simple_model_interfaces.csv',\n            path_o = '../data/2Layer_simple_model_orientation.csv');"
    },
    "executionTime": "2019-12-10T10:57:42.346Z"
   },
   {
    "cell": {
     "executionCount": 12,
     "executionEventId": "84b57d74-a88a-4dd1-84d2-cfbc2ea6aa05",
     "hasError": false,
     "id": "6a26d7ec-00ea-4d6f-a403-1616ff0d31f0",
     "outputs": [
      {
       "data": {
        "text/html": "<style  type=\"text/css\" >\n    #T_e43a7e52_1b3b_11ea_bd96_f01898ee72bcrow0_col4 {\n            background-color:  #015482;\n        }    #T_e43a7e52_1b3b_11ea_bd96_f01898ee72bcrow1_col4 {\n            background-color:  #9f0052;\n        }    #T_e43a7e52_1b3b_11ea_bd96_f01898ee72bcrow2_col4 {\n            background-color:  #ffbe00;\n        }</style><table id=\"T_e43a7e52_1b3b_11ea_bd96_f01898ee72bc\" ><thead>    <tr>        <th class=\"blank level0\" ></th>        <th class=\"col_heading level0 col0\" >surface</th>        <th class=\"col_heading level0 col1\" >series</th>        <th class=\"col_heading level0 col2\" >order_surfaces</th>        <th class=\"col_heading level0 col3\" >isBasement</th>        <th class=\"col_heading level0 col4\" >color</th>        <th class=\"col_heading level0 col5\" >id</th>    </tr></thead><tbody>\n                <tr>\n                        <th id=\"T_e43a7e52_1b3b_11ea_bd96_f01898ee72bclevel0_row0\" class=\"row_heading level0 row0\" >0</th>\n                        <td id=\"T_e43a7e52_1b3b_11ea_bd96_f01898ee72bcrow0_col0\" class=\"data row0 col0\" >surface_2</td>\n                        <td id=\"T_e43a7e52_1b3b_11ea_bd96_f01898ee72bcrow0_col1\" class=\"data row0 col1\" >Default series</td>\n                        <td id=\"T_e43a7e52_1b3b_11ea_bd96_f01898ee72bcrow0_col2\" class=\"data row0 col2\" >1</td>\n                        <td id=\"T_e43a7e52_1b3b_11ea_bd96_f01898ee72bcrow0_col3\" class=\"data row0 col3\" >False</td>\n                        <td id=\"T_e43a7e52_1b3b_11ea_bd96_f01898ee72bcrow0_col4\" class=\"data row0 col4\" >#015482</td>\n                        <td id=\"T_e43a7e52_1b3b_11ea_bd96_f01898ee72bcrow0_col5\" class=\"data row0 col5\" >1</td>\n            </tr>\n            <tr>\n                        <th id=\"T_e43a7e52_1b3b_11ea_bd96_f01898ee72bclevel0_row1\" class=\"row_heading level0 row1\" >1</th>\n                        <td id=\"T_e43a7e52_1b3b_11ea_bd96_f01898ee72bcrow1_col0\" class=\"data row1 col0\" >basement</td>\n                        <td id=\"T_e43a7e52_1b3b_11ea_bd96_f01898ee72bcrow1_col1\" class=\"data row1 col1\" >Basement</td>\n                        <td id=\"T_e43a7e52_1b3b_11ea_bd96_f01898ee72bcrow1_col2\" class=\"data row1 col2\" >1</td>\n                        <td id=\"T_e43a7e52_1b3b_11ea_bd96_f01898ee72bcrow1_col3\" class=\"data row1 col3\" >False</td>\n                        <td id=\"T_e43a7e52_1b3b_11ea_bd96_f01898ee72bcrow1_col4\" class=\"data row1 col4\" >#9f0052</td>\n                        <td id=\"T_e43a7e52_1b3b_11ea_bd96_f01898ee72bcrow1_col5\" class=\"data row1 col5\" >2</td>\n            </tr>\n            <tr>\n                        <th id=\"T_e43a7e52_1b3b_11ea_bd96_f01898ee72bclevel0_row2\" class=\"row_heading level0 row2\" >2</th>\n                        <td id=\"T_e43a7e52_1b3b_11ea_bd96_f01898ee72bcrow2_col0\" class=\"data row2 col0\" >surface_1</td>\n                        <td id=\"T_e43a7e52_1b3b_11ea_bd96_f01898ee72bcrow2_col1\" class=\"data row2 col1\" >Basement</td>\n                        <td id=\"T_e43a7e52_1b3b_11ea_bd96_f01898ee72bcrow2_col2\" class=\"data row2 col2\" >2</td>\n                        <td id=\"T_e43a7e52_1b3b_11ea_bd96_f01898ee72bcrow2_col3\" class=\"data row2 col3\" >True</td>\n                        <td id=\"T_e43a7e52_1b3b_11ea_bd96_f01898ee72bcrow2_col4\" class=\"data row2 col4\" >#ffbe00</td>\n                        <td id=\"T_e43a7e52_1b3b_11ea_bd96_f01898ee72bcrow2_col5\" class=\"data row2 col5\" >3</td>\n            </tr>\n    </tbody></table>",
        "text/plain": "     surface          series  order_surfaces  isBasement    color vertices edges  id\n0  surface_2  Default series               1       False  #015482      NaN   NaN   1\n1   basement        Basement               1       False  #9f0052      NaN   NaN   2\n2  surface_1        Basement               2        True  #ffbe00      NaN   NaN   3"
       },
       "execution_count": 12,
       "metadata": {},
       "output_type": "execute_result"
      }
     ],
     "persistentId": "c03906ba-4aef-4552-afa9-393f86a04e4e",
     "text": "geo_model.surfaces"
    },
    "executionTime": "2019-12-10T10:57:43.439Z"
   },
   {
    "cell": {
     "executionCount": 13,
     "executionEventId": "2e5018a2-86ad-473e-a490-9385f69d1dec",
     "hasError": false,
     "id": "02dc20fc-c5f1-42fc-96f3-bfd98c0a7a73",
     "outputs": [],
     "persistentId": "8085cd16-511e-4ed4-9fe3-f922e3cda9f0",
     "text": "geo_model = gp.create_model('Simple_model')"
    },
    "executionTime": "2019-12-10T10:57:55.659Z"
   },
   {
    "cell": {
     "executionCount": 14,
     "executionEventId": "6d51a735-fc51-4407-bcbe-92b8f3404a6d",
     "hasError": false,
     "id": "02dc20fc-c5f1-42fc-96f3-bfd98c0a7a73",
     "outputs": [],
     "persistentId": "8085cd16-511e-4ed4-9fe3-f922e3cda9f0",
     "text": "geo_model = gp.create_model('2Layer_model')"
    },
    "executionTime": "2019-12-10T10:58:05.801Z"
   },
   {
    "cell": {
     "executionCount": 15,
     "executionEventId": "c530164f-914a-4835-9c60-5ced90e6a3fb",
     "hasError": false,
     "id": "ad5c6fce-b564-4bb2-baab-d45661be33a6",
     "outputs": [
      {
       "name": "stdout",
       "output_type": "stream",
       "text": "Active grids: ['regular']\n"
      }
     ],
     "persistentId": "1de91be5-79ab-4517-86e5-f7e2d7546830",
     "text": "gp.init_data(geo_model, [0., 10., 0., 10., -10., 0.], [100, 4, 100],\n            path_i = '../data/2Layer_simple_model_interfaces.csv',\n            path_o = '../data/2Layer_simple_model_orientation.csv');"
    },
    "executionTime": "2019-12-10T10:58:06.605Z"
   },
   {
    "cell": {
     "executionCount": 16,
     "executionEventId": "8b928e59-50b9-4c13-9a66-8c15b8a79318",
     "hasError": false,
     "id": "6a26d7ec-00ea-4d6f-a403-1616ff0d31f0",
     "outputs": [
      {
       "data": {
        "text/html": "<style  type=\"text/css\" >\n    #T_f2824db4_1b3b_11ea_960f_f01898ee72bcrow0_col4 {\n            background-color:  #015482;\n        }    #T_f2824db4_1b3b_11ea_960f_f01898ee72bcrow1_col4 {\n            background-color:  #9f0052;\n        }    #T_f2824db4_1b3b_11ea_960f_f01898ee72bcrow2_col4 {\n            background-color:  #ffbe00;\n        }</style><table id=\"T_f2824db4_1b3b_11ea_960f_f01898ee72bc\" ><thead>    <tr>        <th class=\"blank level0\" ></th>        <th class=\"col_heading level0 col0\" >surface</th>        <th class=\"col_heading level0 col1\" >series</th>        <th class=\"col_heading level0 col2\" >order_surfaces</th>        <th class=\"col_heading level0 col3\" >isBasement</th>        <th class=\"col_heading level0 col4\" >color</th>        <th class=\"col_heading level0 col5\" >id</th>    </tr></thead><tbody>\n                <tr>\n                        <th id=\"T_f2824db4_1b3b_11ea_960f_f01898ee72bclevel0_row0\" class=\"row_heading level0 row0\" >0</th>\n                        <td id=\"T_f2824db4_1b3b_11ea_960f_f01898ee72bcrow0_col0\" class=\"data row0 col0\" >surface_1</td>\n                        <td id=\"T_f2824db4_1b3b_11ea_960f_f01898ee72bcrow0_col1\" class=\"data row0 col1\" >Default series</td>\n                        <td id=\"T_f2824db4_1b3b_11ea_960f_f01898ee72bcrow0_col2\" class=\"data row0 col2\" >1</td>\n                        <td id=\"T_f2824db4_1b3b_11ea_960f_f01898ee72bcrow0_col3\" class=\"data row0 col3\" >False</td>\n                        <td id=\"T_f2824db4_1b3b_11ea_960f_f01898ee72bcrow0_col4\" class=\"data row0 col4\" >#015482</td>\n                        <td id=\"T_f2824db4_1b3b_11ea_960f_f01898ee72bcrow0_col5\" class=\"data row0 col5\" >1</td>\n            </tr>\n            <tr>\n                        <th id=\"T_f2824db4_1b3b_11ea_960f_f01898ee72bclevel0_row1\" class=\"row_heading level0 row1\" >1</th>\n                        <td id=\"T_f2824db4_1b3b_11ea_960f_f01898ee72bcrow1_col0\" class=\"data row1 col0\" >surface_2</td>\n                        <td id=\"T_f2824db4_1b3b_11ea_960f_f01898ee72bcrow1_col1\" class=\"data row1 col1\" >Default series</td>\n                        <td id=\"T_f2824db4_1b3b_11ea_960f_f01898ee72bcrow1_col2\" class=\"data row1 col2\" >2</td>\n                        <td id=\"T_f2824db4_1b3b_11ea_960f_f01898ee72bcrow1_col3\" class=\"data row1 col3\" >False</td>\n                        <td id=\"T_f2824db4_1b3b_11ea_960f_f01898ee72bcrow1_col4\" class=\"data row1 col4\" >#9f0052</td>\n                        <td id=\"T_f2824db4_1b3b_11ea_960f_f01898ee72bcrow1_col5\" class=\"data row1 col5\" >2</td>\n            </tr>\n            <tr>\n                        <th id=\"T_f2824db4_1b3b_11ea_960f_f01898ee72bclevel0_row2\" class=\"row_heading level0 row2\" >2</th>\n                        <td id=\"T_f2824db4_1b3b_11ea_960f_f01898ee72bcrow2_col0\" class=\"data row2 col0\" >basement</td>\n                        <td id=\"T_f2824db4_1b3b_11ea_960f_f01898ee72bcrow2_col1\" class=\"data row2 col1\" >Basement</td>\n                        <td id=\"T_f2824db4_1b3b_11ea_960f_f01898ee72bcrow2_col2\" class=\"data row2 col2\" >1</td>\n                        <td id=\"T_f2824db4_1b3b_11ea_960f_f01898ee72bcrow2_col3\" class=\"data row2 col3\" >True</td>\n                        <td id=\"T_f2824db4_1b3b_11ea_960f_f01898ee72bcrow2_col4\" class=\"data row2 col4\" >#ffbe00</td>\n                        <td id=\"T_f2824db4_1b3b_11ea_960f_f01898ee72bcrow2_col5\" class=\"data row2 col5\" >3</td>\n            </tr>\n    </tbody></table>",
        "text/plain": "     surface          series  order_surfaces  isBasement    color vertices edges  id\n0  surface_1  Default series               1       False  #015482      NaN   NaN   1\n1  surface_2  Default series               2       False  #9f0052      NaN   NaN   2\n2   basement        Basement               1        True  #ffbe00      NaN   NaN   3"
       },
       "execution_count": 16,
       "metadata": {},
       "output_type": "execute_result"
      }
     ],
     "persistentId": "c03906ba-4aef-4552-afa9-393f86a04e4e",
     "text": "geo_model.surfaces"
    },
    "executionTime": "2019-12-10T10:58:07.411Z"
   },
   {
    "cell": {
     "executionCount": 17,
     "executionEventId": "6b74db81-55cc-4c6a-a0be-2c5aaea7e867",
     "hasError": false,
     "id": "42aa6a28-a2b8-40a3-9d88-384a45e85aee",
     "outputs": [
      {
       "name": "stdout",
       "output_type": "stream",
       "text": "Compiling theano function...\nCompilation Done!\n"
      },
      {
       "data": {
        "text/plain": "<gempy.core.interpolator.InterpolatorModel at 0x7f8dba050978>"
       },
       "execution_count": 17,
       "metadata": {},
       "output_type": "execute_result"
      }
     ],
     "persistentId": "958935b1-fd45-47c2-a35a-9eafc3670cb2",
     "text": "# Create the theano model\ngp.set_interpolation_data(geo_model,\n                         compile_theano=True,\n                         theano_optimizer='fast_compile',\n                         verbose=[])"
    },
    "executionTime": "2019-12-10T10:58:16.704Z"
   },
   {
    "cell": {
     "executionCount": 18,
     "executionEventId": "2882dd2f-48b6-482c-af00-2f5882ca5888",
     "hasError": false,
     "id": "f8c66c5b-aa6c-4c37-825d-4dfd1e3b35e0",
     "outputs": [],
     "persistentId": "ffeeac72-536e-4b3a-9aa8-e88ddce9a059",
     "text": "# Compute the model\nsol = gp.compute_model(geo_model, compute_mesh=False)"
    },
    "executionTime": "2019-12-10T10:58:17.014Z"
   },
   {
    "cell": {
     "executionCount": 19,
     "executionEventId": "bdc4fae0-1620-4e6d-91f3-f3201a7b51ab",
     "hasError": false,
     "id": "e88d0498-9c44-438b-a81b-5b7ead3902e5",
     "outputs": [
      {
       "data": {
        "text/plain": "<gempy.plot.visualization_2d.PlotData2D at 0x7f8de168cc18>"
       },
       "execution_count": 19,
       "metadata": {},
       "output_type": "execute_result"
      },
      {
       "data": {
        "image/png": "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\n",
        "text/plain": "<Figure size 360x360 with 1 Axes>"
       },
       "metadata": {},
       "output_type": "display_data"
      }
     ],
     "persistentId": "6eee44a7-88d0-45f0-8a54-828f3d9c0323",
     "text": "gp.plot.plot_section(geo_model, cell_number=2, direction='y', show_data=True)"
    },
    "executionTime": "2019-12-10T10:58:18.101Z"
   },
   {
    "cell": {
     "executionCount": 20,
     "executionEventId": "cd30579f-0ef2-4e11-9266-079e24215e4f",
     "hasError": false,
     "id": "a773329c-7992-4936-a553-0d598e065faf",
     "outputs": [
      {
       "data": {
        "text/html": "<style  type=\"text/css\" >\n    #T_7196a730_1b3c_11ea_ba5f_f01898ee72bcrow0_col4 {\n            background-color:  #015482;\n        }    #T_7196a730_1b3c_11ea_ba5f_f01898ee72bcrow1_col4 {\n            background-color:  #9f0052;\n        }    #T_7196a730_1b3c_11ea_ba5f_f01898ee72bcrow2_col4 {\n            background-color:  #ffbe00;\n        }</style><table id=\"T_7196a730_1b3c_11ea_ba5f_f01898ee72bc\" ><thead>    <tr>        <th class=\"blank level0\" ></th>        <th class=\"col_heading level0 col0\" >surface</th>        <th class=\"col_heading level0 col1\" >series</th>        <th class=\"col_heading level0 col2\" >order_surfaces</th>        <th class=\"col_heading level0 col3\" >isBasement</th>        <th class=\"col_heading level0 col4\" >color</th>        <th class=\"col_heading level0 col5\" >id</th>    </tr></thead><tbody>\n                <tr>\n                        <th id=\"T_7196a730_1b3c_11ea_ba5f_f01898ee72bclevel0_row0\" class=\"row_heading level0 row0\" >0</th>\n                        <td id=\"T_7196a730_1b3c_11ea_ba5f_f01898ee72bcrow0_col0\" class=\"data row0 col0\" >surface_1</td>\n                        <td id=\"T_7196a730_1b3c_11ea_ba5f_f01898ee72bcrow0_col1\" class=\"data row0 col1\" >Series_1</td>\n                        <td id=\"T_7196a730_1b3c_11ea_ba5f_f01898ee72bcrow0_col2\" class=\"data row0 col2\" >1</td>\n                        <td id=\"T_7196a730_1b3c_11ea_ba5f_f01898ee72bcrow0_col3\" class=\"data row0 col3\" >False</td>\n                        <td id=\"T_7196a730_1b3c_11ea_ba5f_f01898ee72bcrow0_col4\" class=\"data row0 col4\" >#015482</td>\n                        <td id=\"T_7196a730_1b3c_11ea_ba5f_f01898ee72bcrow0_col5\" class=\"data row0 col5\" >1</td>\n            </tr>\n            <tr>\n                        <th id=\"T_7196a730_1b3c_11ea_ba5f_f01898ee72bclevel0_row1\" class=\"row_heading level0 row1\" >1</th>\n                        <td id=\"T_7196a730_1b3c_11ea_ba5f_f01898ee72bcrow1_col0\" class=\"data row1 col0\" >surface_2</td>\n                        <td id=\"T_7196a730_1b3c_11ea_ba5f_f01898ee72bcrow1_col1\" class=\"data row1 col1\" >Series_2</td>\n                        <td id=\"T_7196a730_1b3c_11ea_ba5f_f01898ee72bcrow1_col2\" class=\"data row1 col2\" >1</td>\n                        <td id=\"T_7196a730_1b3c_11ea_ba5f_f01898ee72bcrow1_col3\" class=\"data row1 col3\" >False</td>\n                        <td id=\"T_7196a730_1b3c_11ea_ba5f_f01898ee72bcrow1_col4\" class=\"data row1 col4\" >#9f0052</td>\n                        <td id=\"T_7196a730_1b3c_11ea_ba5f_f01898ee72bcrow1_col5\" class=\"data row1 col5\" >2</td>\n            </tr>\n            <tr>\n                        <th id=\"T_7196a730_1b3c_11ea_ba5f_f01898ee72bclevel0_row2\" class=\"row_heading level0 row2\" >2</th>\n                        <td id=\"T_7196a730_1b3c_11ea_ba5f_f01898ee72bcrow2_col0\" class=\"data row2 col0\" >basement</td>\n                        <td id=\"T_7196a730_1b3c_11ea_ba5f_f01898ee72bcrow2_col1\" class=\"data row2 col1\" >Basement</td>\n                        <td id=\"T_7196a730_1b3c_11ea_ba5f_f01898ee72bcrow2_col2\" class=\"data row2 col2\" >1</td>\n                        <td id=\"T_7196a730_1b3c_11ea_ba5f_f01898ee72bcrow2_col3\" class=\"data row2 col3\" >True</td>\n                        <td id=\"T_7196a730_1b3c_11ea_ba5f_f01898ee72bcrow2_col4\" class=\"data row2 col4\" >#ffbe00</td>\n                        <td id=\"T_7196a730_1b3c_11ea_ba5f_f01898ee72bcrow2_col5\" class=\"data row2 col5\" >3</td>\n            </tr>\n    </tbody></table>",
        "text/plain": "     surface    series  order_surfaces  isBasement    color vertices edges  id\n0  surface_1  Series_1               1       False  #015482      NaN   NaN   1\n1  surface_2  Series_2               1       False  #9f0052      NaN   NaN   2\n2   basement  Basement               1        True  #ffbe00      NaN   NaN   3"
       },
       "execution_count": 20,
       "metadata": {},
       "output_type": "execute_result"
      }
     ],
     "persistentId": "214fa5e0-ddbb-47a9-b305-0d62e6aa4970",
     "text": "gp.map_series_to_surfaces(geo_model,\n                         {\"Series_1\": 'surface_1',\n                         \"Series_2\": 'surface_2'})"
    },
    "executionTime": "2019-12-10T11:01:40.600Z"
   },
   {
    "cell": {
     "executionCount": 21,
     "executionEventId": "dad15188-4f90-456b-b34d-8d75c2f42291",
     "hasError": true,
     "id": "016dc0f5-1c64-43a2-b32a-4d5178fcb015",
     "outputs": [
      {
       "ename": "ValueError",
       "evalue": "Empty data passed with indices specified.",
       "output_type": "error",
       "traceback": [
        "\u001b[0;31m---------------------------------------------------------------------------\u001b[0m",
        "\u001b[0;31mValueError\u001b[0m                                Traceback (most recent call last)",
        "\u001b[0;32m/anaconda3/lib/python3.6/site-packages/pandas/core/internals/managers.py\u001b[0m in \u001b[0;36mcreate_block_manager_from_blocks\u001b[0;34m(blocks, axes)\u001b[0m\n\u001b[1;32m   1652\u001b[0m \u001b[0;34m\u001b[0m\u001b[0m\n\u001b[0;32m-> 1653\u001b[0;31m         \u001b[0mmgr\u001b[0m \u001b[0;34m=\u001b[0m \u001b[0mBlockManager\u001b[0m\u001b[0;34m(\u001b[0m\u001b[0mblocks\u001b[0m\u001b[0;34m,\u001b[0m \u001b[0maxes\u001b[0m\u001b[0;34m)\u001b[0m\u001b[0;34m\u001b[0m\u001b[0;34m\u001b[0m\u001b[0m\n\u001b[0m\u001b[1;32m   1654\u001b[0m         \u001b[0mmgr\u001b[0m\u001b[0;34m.\u001b[0m\u001b[0m_consolidate_inplace\u001b[0m\u001b[0;34m(\u001b[0m\u001b[0;34m)\u001b[0m\u001b[0;34m\u001b[0m\u001b[0;34m\u001b[0m\u001b[0m\n",
        "\u001b[0;32m/anaconda3/lib/python3.6/site-packages/pandas/core/internals/managers.py\u001b[0m in \u001b[0;36m__init__\u001b[0;34m(self, blocks, axes, do_integrity_check)\u001b[0m\n\u001b[1;32m    113\u001b[0m         \u001b[0;32mif\u001b[0m \u001b[0mdo_integrity_check\u001b[0m\u001b[0;34m:\u001b[0m\u001b[0;34m\u001b[0m\u001b[0;34m\u001b[0m\u001b[0m\n\u001b[0;32m--> 114\u001b[0;31m             \u001b[0mself\u001b[0m\u001b[0;34m.\u001b[0m\u001b[0m_verify_integrity\u001b[0m\u001b[0;34m(\u001b[0m\u001b[0;34m)\u001b[0m\u001b[0;34m\u001b[0m\u001b[0;34m\u001b[0m\u001b[0m\n\u001b[0m\u001b[1;32m    115\u001b[0m \u001b[0;34m\u001b[0m\u001b[0m\n",
        "\u001b[0;32m/anaconda3/lib/python3.6/site-packages/pandas/core/internals/managers.py\u001b[0m in \u001b[0;36m_verify_integrity\u001b[0;34m(self)\u001b[0m\n\u001b[1;32m    310\u001b[0m             \u001b[0;32mif\u001b[0m \u001b[0mblock\u001b[0m\u001b[0;34m.\u001b[0m\u001b[0m_verify_integrity\u001b[0m \u001b[0;32mand\u001b[0m \u001b[0mblock\u001b[0m\u001b[0;34m.\u001b[0m\u001b[0mshape\u001b[0m\u001b[0;34m[\u001b[0m\u001b[0;36m1\u001b[0m\u001b[0;34m:\u001b[0m\u001b[0;34m]\u001b[0m \u001b[0;34m!=\u001b[0m \u001b[0mmgr_shape\u001b[0m\u001b[0;34m[\u001b[0m\u001b[0;36m1\u001b[0m\u001b[0;34m:\u001b[0m\u001b[0;34m]\u001b[0m\u001b[0;34m:\u001b[0m\u001b[0;34m\u001b[0m\u001b[0;34m\u001b[0m\u001b[0m\n\u001b[0;32m--> 311\u001b[0;31m                 \u001b[0mconstruction_error\u001b[0m\u001b[0;34m(\u001b[0m\u001b[0mtot_items\u001b[0m\u001b[0;34m,\u001b[0m \u001b[0mblock\u001b[0m\u001b[0;34m.\u001b[0m\u001b[0mshape\u001b[0m\u001b[0;34m[\u001b[0m\u001b[0;36m1\u001b[0m\u001b[0;34m:\u001b[0m\u001b[0;34m]\u001b[0m\u001b[0;34m,\u001b[0m \u001b[0mself\u001b[0m\u001b[0;34m.\u001b[0m\u001b[0maxes\u001b[0m\u001b[0;34m)\u001b[0m\u001b[0;34m\u001b[0m\u001b[0;34m\u001b[0m\u001b[0m\n\u001b[0m\u001b[1;32m    312\u001b[0m         \u001b[0;32mif\u001b[0m \u001b[0mlen\u001b[0m\u001b[0;34m(\u001b[0m\u001b[0mself\u001b[0m\u001b[0;34m.\u001b[0m\u001b[0mitems\u001b[0m\u001b[0;34m)\u001b[0m \u001b[0;34m!=\u001b[0m \u001b[0mtot_items\u001b[0m\u001b[0;34m:\u001b[0m\u001b[0;34m\u001b[0m\u001b[0;34m\u001b[0m\u001b[0m\n",
        "\u001b[0;32m/anaconda3/lib/python3.6/site-packages/pandas/core/internals/managers.py\u001b[0m in \u001b[0;36mconstruction_error\u001b[0;34m(tot_items, block_shape, axes, e)\u001b[0m\n\u001b[1;32m   1688\u001b[0m     \u001b[0;32mif\u001b[0m \u001b[0mblock_shape\u001b[0m\u001b[0;34m[\u001b[0m\u001b[0;36m0\u001b[0m\u001b[0;34m]\u001b[0m \u001b[0;34m==\u001b[0m \u001b[0;36m0\u001b[0m\u001b[0;34m:\u001b[0m\u001b[0;34m\u001b[0m\u001b[0;34m\u001b[0m\u001b[0m\n\u001b[0;32m-> 1689\u001b[0;31m         \u001b[0;32mraise\u001b[0m \u001b[0mValueError\u001b[0m\u001b[0;34m(\u001b[0m\u001b[0;34m\"Empty data passed with indices specified.\"\u001b[0m\u001b[0;34m)\u001b[0m\u001b[0;34m\u001b[0m\u001b[0;34m\u001b[0m\u001b[0m\n\u001b[0m\u001b[1;32m   1690\u001b[0m     raise ValueError(\"Shape of passed values is {0}, indices imply {1}\".format(\n",
        "\u001b[0;31mValueError\u001b[0m: Empty data passed with indices specified.",
        "\nDuring handling of the above exception, another exception occurred:\n",
        "\u001b[0;31mValueError\u001b[0m                                Traceback (most recent call last)",
        "\u001b[0;32m<ipython-input-21-7b213cf1a86d>\u001b[0m in \u001b[0;36m<module>\u001b[0;34m\u001b[0m\n\u001b[1;32m      1\u001b[0m \u001b[0;31m# Compute the model\u001b[0m\u001b[0;34m\u001b[0m\u001b[0;34m\u001b[0m\u001b[0;34m\u001b[0m\u001b[0m\n\u001b[0;32m----> 2\u001b[0;31m \u001b[0msol\u001b[0m \u001b[0;34m=\u001b[0m \u001b[0mgp\u001b[0m\u001b[0;34m.\u001b[0m\u001b[0mcompute_model\u001b[0m\u001b[0;34m(\u001b[0m\u001b[0mgeo_model\u001b[0m\u001b[0;34m,\u001b[0m \u001b[0mcompute_mesh\u001b[0m\u001b[0;34m=\u001b[0m\u001b[0;32mFalse\u001b[0m\u001b[0;34m)\u001b[0m\u001b[0;34m\u001b[0m\u001b[0;34m\u001b[0m\u001b[0m\n\u001b[0m",
        "\u001b[0;32m/anaconda3/lib/python3.6/site-packages/gempy/core/gempy_api.py\u001b[0m in \u001b[0;36mcompute_model\u001b[0;34m(model, output, compute_mesh, reset_weights, reset_scalar, reset_block, sort_surfaces, debug, set_solutions)\u001b[0m\n\u001b[1;32m    279\u001b[0m             \u001b[0mmodel\u001b[0m\u001b[0;34m.\u001b[0m\u001b[0msolutions\u001b[0m\u001b[0;34m.\u001b[0m\u001b[0msections_scalfield\u001b[0m \u001b[0;34m=\u001b[0m \u001b[0msol\u001b[0m\u001b[0;34m[\u001b[0m\u001b[0;36m3\u001b[0m\u001b[0;34m]\u001b[0m\u001b[0;34m[\u001b[0m\u001b[0;34m:\u001b[0m\u001b[0;34m,\u001b[0m \u001b[0ml0\u001b[0m\u001b[0;34m:\u001b[0m \u001b[0ml1\u001b[0m\u001b[0;34m]\u001b[0m\u001b[0;34m.\u001b[0m\u001b[0mastype\u001b[0m\u001b[0;34m(\u001b[0m\u001b[0mfloat\u001b[0m\u001b[0;34m)\u001b[0m\u001b[0;34m\u001b[0m\u001b[0;34m\u001b[0m\u001b[0m\n\u001b[1;32m    280\u001b[0m         \u001b[0;32mif\u001b[0m \u001b[0msort_surfaces\u001b[0m\u001b[0;34m:\u001b[0m\u001b[0;34m\u001b[0m\u001b[0;34m\u001b[0m\u001b[0m\n\u001b[0;32m--> 281\u001b[0;31m             \u001b[0mmodel\u001b[0m\u001b[0;34m.\u001b[0m\u001b[0mset_surface_order_from_solution\u001b[0m\u001b[0;34m(\u001b[0m\u001b[0;34m)\u001b[0m\u001b[0;34m\u001b[0m\u001b[0;34m\u001b[0m\u001b[0m\n\u001b[0m\u001b[1;32m    282\u001b[0m         \u001b[0;32mreturn\u001b[0m \u001b[0mmodel\u001b[0m\u001b[0;34m.\u001b[0m\u001b[0msolutions\u001b[0m\u001b[0;34m\u001b[0m\u001b[0;34m\u001b[0m\u001b[0m\n\u001b[1;32m    283\u001b[0m \u001b[0;34m\u001b[0m\u001b[0m\n",
        "\u001b[0;32m/anaconda3/lib/python3.6/site-packages/gempy/core/model.py\u001b[0m in \u001b[0;36mset_surface_order_from_solution\u001b[0;34m(self)\u001b[0m\n\u001b[1;32m    945\u001b[0m \u001b[0;34m\u001b[0m\u001b[0m\n\u001b[1;32m    946\u001b[0m                 self.surfaces.df.loc[idx, 'order_surfaces'] = self.surfaces.df.loc[idx, 'surface'].map(\n\u001b[0;32m--> 947\u001b[0;31m                     pn.DataFrame(sfai_order, index=surface_names)[0])\n\u001b[0m\u001b[1;32m    948\u001b[0m \u001b[0;34m\u001b[0m\u001b[0m\n\u001b[1;32m    949\u001b[0m             \u001b[0;32mexcept\u001b[0m \u001b[0mIndexError\u001b[0m\u001b[0;34m:\u001b[0m\u001b[0;34m\u001b[0m\u001b[0;34m\u001b[0m\u001b[0m\n",
        "\u001b[0;32m/anaconda3/lib/python3.6/site-packages/pandas/core/frame.py\u001b[0m in \u001b[0;36m__init__\u001b[0;34m(self, data, index, columns, dtype, copy)\u001b[0m\n\u001b[1;32m    422\u001b[0m             \u001b[0;32melse\u001b[0m\u001b[0;34m:\u001b[0m\u001b[0;34m\u001b[0m\u001b[0;34m\u001b[0m\u001b[0m\n\u001b[1;32m    423\u001b[0m                 mgr = init_ndarray(data, index, columns, dtype=dtype,\n\u001b[0;32m--> 424\u001b[0;31m                                    copy=copy)\n\u001b[0m\u001b[1;32m    425\u001b[0m \u001b[0;34m\u001b[0m\u001b[0m\n\u001b[1;32m    426\u001b[0m         \u001b[0;31m# For data is list-like, or Iterable (will consume into list)\u001b[0m\u001b[0;34m\u001b[0m\u001b[0;34m\u001b[0m\u001b[0;34m\u001b[0m\u001b[0m\n",
        "\u001b[0;32m/anaconda3/lib/python3.6/site-packages/pandas/core/internals/construction.py\u001b[0m in \u001b[0;36minit_ndarray\u001b[0;34m(values, index, columns, dtype, copy)\u001b[0m\n\u001b[1;32m    165\u001b[0m         \u001b[0mvalues\u001b[0m \u001b[0;34m=\u001b[0m \u001b[0mmaybe_infer_to_datetimelike\u001b[0m\u001b[0;34m(\u001b[0m\u001b[0mvalues\u001b[0m\u001b[0;34m)\u001b[0m\u001b[0;34m\u001b[0m\u001b[0;34m\u001b[0m\u001b[0m\n\u001b[1;32m    166\u001b[0m \u001b[0;34m\u001b[0m\u001b[0m\n\u001b[0;32m--> 167\u001b[0;31m     \u001b[0;32mreturn\u001b[0m \u001b[0mcreate_block_manager_from_blocks\u001b[0m\u001b[0;34m(\u001b[0m\u001b[0;34m[\u001b[0m\u001b[0mvalues\u001b[0m\u001b[0;34m]\u001b[0m\u001b[0;34m,\u001b[0m \u001b[0;34m[\u001b[0m\u001b[0mcolumns\u001b[0m\u001b[0;34m,\u001b[0m \u001b[0mindex\u001b[0m\u001b[0;34m]\u001b[0m\u001b[0;34m)\u001b[0m\u001b[0;34m\u001b[0m\u001b[0;34m\u001b[0m\u001b[0m\n\u001b[0m\u001b[1;32m    168\u001b[0m \u001b[0;34m\u001b[0m\u001b[0m\n\u001b[1;32m    169\u001b[0m \u001b[0;34m\u001b[0m\u001b[0m\n",
        "\u001b[0;32m/anaconda3/lib/python3.6/site-packages/pandas/core/internals/managers.py\u001b[0m in \u001b[0;36mcreate_block_manager_from_blocks\u001b[0;34m(blocks, axes)\u001b[0m\n\u001b[1;32m   1658\u001b[0m         \u001b[0mblocks\u001b[0m \u001b[0;34m=\u001b[0m \u001b[0;34m[\u001b[0m\u001b[0mgetattr\u001b[0m\u001b[0;34m(\u001b[0m\u001b[0mb\u001b[0m\u001b[0;34m,\u001b[0m \u001b[0;34m'values'\u001b[0m\u001b[0;34m,\u001b[0m \u001b[0mb\u001b[0m\u001b[0;34m)\u001b[0m \u001b[0;32mfor\u001b[0m \u001b[0mb\u001b[0m \u001b[0;32min\u001b[0m \u001b[0mblocks\u001b[0m\u001b[0;34m]\u001b[0m\u001b[0;34m\u001b[0m\u001b[0;34m\u001b[0m\u001b[0m\n\u001b[1;32m   1659\u001b[0m         \u001b[0mtot_items\u001b[0m \u001b[0;34m=\u001b[0m \u001b[0msum\u001b[0m\u001b[0;34m(\u001b[0m\u001b[0mb\u001b[0m\u001b[0;34m.\u001b[0m\u001b[0mshape\u001b[0m\u001b[0;34m[\u001b[0m\u001b[0;36m0\u001b[0m\u001b[0;34m]\u001b[0m \u001b[0;32mfor\u001b[0m \u001b[0mb\u001b[0m \u001b[0;32min\u001b[0m \u001b[0mblocks\u001b[0m\u001b[0;34m)\u001b[0m\u001b[0;34m\u001b[0m\u001b[0;34m\u001b[0m\u001b[0m\n\u001b[0;32m-> 1660\u001b[0;31m         \u001b[0mconstruction_error\u001b[0m\u001b[0;34m(\u001b[0m\u001b[0mtot_items\u001b[0m\u001b[0;34m,\u001b[0m \u001b[0mblocks\u001b[0m\u001b[0;34m[\u001b[0m\u001b[0;36m0\u001b[0m\u001b[0;34m]\u001b[0m\u001b[0;34m.\u001b[0m\u001b[0mshape\u001b[0m\u001b[0;34m[\u001b[0m\u001b[0;36m1\u001b[0m\u001b[0;34m:\u001b[0m\u001b[0;34m]\u001b[0m\u001b[0;34m,\u001b[0m \u001b[0maxes\u001b[0m\u001b[0;34m,\u001b[0m \u001b[0me\u001b[0m\u001b[0;34m)\u001b[0m\u001b[0;34m\u001b[0m\u001b[0;34m\u001b[0m\u001b[0m\n\u001b[0m\u001b[1;32m   1661\u001b[0m \u001b[0;34m\u001b[0m\u001b[0m\n\u001b[1;32m   1662\u001b[0m \u001b[0;34m\u001b[0m\u001b[0m\n",
        "\u001b[0;32m/anaconda3/lib/python3.6/site-packages/pandas/core/internals/managers.py\u001b[0m in \u001b[0;36mconstruction_error\u001b[0;34m(tot_items, block_shape, axes, e)\u001b[0m\n\u001b[1;32m   1687\u001b[0m         \u001b[0;32mraise\u001b[0m \u001b[0me\u001b[0m\u001b[0;34m\u001b[0m\u001b[0;34m\u001b[0m\u001b[0m\n\u001b[1;32m   1688\u001b[0m     \u001b[0;32mif\u001b[0m \u001b[0mblock_shape\u001b[0m\u001b[0;34m[\u001b[0m\u001b[0;36m0\u001b[0m\u001b[0;34m]\u001b[0m \u001b[0;34m==\u001b[0m \u001b[0;36m0\u001b[0m\u001b[0;34m:\u001b[0m\u001b[0;34m\u001b[0m\u001b[0;34m\u001b[0m\u001b[0m\n\u001b[0;32m-> 1689\u001b[0;31m         \u001b[0;32mraise\u001b[0m \u001b[0mValueError\u001b[0m\u001b[0;34m(\u001b[0m\u001b[0;34m\"Empty data passed with indices specified.\"\u001b[0m\u001b[0;34m)\u001b[0m\u001b[0;34m\u001b[0m\u001b[0;34m\u001b[0m\u001b[0m\n\u001b[0m\u001b[1;32m   1690\u001b[0m     raise ValueError(\"Shape of passed values is {0}, indices imply {1}\".format(\n\u001b[1;32m   1691\u001b[0m         passed, implied))\n",
        "\u001b[0;31mValueError\u001b[0m: Empty data passed with indices specified."
       ]
      }
     ],
     "persistentId": "ffeeac72-536e-4b3a-9aa8-e88ddce9a059",
     "text": "# Compute the model\nsol = gp.compute_model(geo_model, compute_mesh=False)"
    },
    "executionTime": "2019-12-10T11:01:52.558Z"
   },
   {
    "cell": {
     "executionCount": 22,
     "executionEventId": "ed8b5790-0584-428d-b4e9-46fbfaa5de6a",
     "hasError": false,
     "id": "8be7dcd4-c2dc-415f-a706-f2a0622e1e2a",
     "outputs": [
      {
       "name": "stdout",
       "output_type": "stream",
       "text": "Compiling theano function...\nCompilation Done!\n"
      },
      {
       "data": {
        "text/plain": "<gempy.core.interpolator.InterpolatorModel at 0x7f8dba050978>"
       },
       "execution_count": 22,
       "metadata": {},
       "output_type": "execute_result"
      }
     ],
     "persistentId": "958935b1-fd45-47c2-a35a-9eafc3670cb2",
     "text": "# Create the theano model\ngp.set_interpolation_data(geo_model,\n                         compile_theano=True,\n                         theano_optimizer='fast_compile',\n                         verbose=[])"
    },
    "executionTime": "2019-12-10T11:02:15.127Z"
   },
   {
    "cell": {
     "executionCount": 23,
     "executionEventId": "a7d60aa0-3ea6-4338-bd33-ce83e0da111c",
     "hasError": true,
     "id": "016dc0f5-1c64-43a2-b32a-4d5178fcb015",
     "outputs": [
      {
       "ename": "ValueError",
       "evalue": "Empty data passed with indices specified.",
       "output_type": "error",
       "traceback": [
        "\u001b[0;31m---------------------------------------------------------------------------\u001b[0m",
        "\u001b[0;31mValueError\u001b[0m                                Traceback (most recent call last)",
        "\u001b[0;32m/anaconda3/lib/python3.6/site-packages/pandas/core/internals/managers.py\u001b[0m in \u001b[0;36mcreate_block_manager_from_blocks\u001b[0;34m(blocks, axes)\u001b[0m\n\u001b[1;32m   1652\u001b[0m \u001b[0;34m\u001b[0m\u001b[0m\n\u001b[0;32m-> 1653\u001b[0;31m         \u001b[0mmgr\u001b[0m \u001b[0;34m=\u001b[0m \u001b[0mBlockManager\u001b[0m\u001b[0;34m(\u001b[0m\u001b[0mblocks\u001b[0m\u001b[0;34m,\u001b[0m \u001b[0maxes\u001b[0m\u001b[0;34m)\u001b[0m\u001b[0;34m\u001b[0m\u001b[0;34m\u001b[0m\u001b[0m\n\u001b[0m\u001b[1;32m   1654\u001b[0m         \u001b[0mmgr\u001b[0m\u001b[0;34m.\u001b[0m\u001b[0m_consolidate_inplace\u001b[0m\u001b[0;34m(\u001b[0m\u001b[0;34m)\u001b[0m\u001b[0;34m\u001b[0m\u001b[0;34m\u001b[0m\u001b[0m\n",
        "\u001b[0;32m/anaconda3/lib/python3.6/site-packages/pandas/core/internals/managers.py\u001b[0m in \u001b[0;36m__init__\u001b[0;34m(self, blocks, axes, do_integrity_check)\u001b[0m\n\u001b[1;32m    113\u001b[0m         \u001b[0;32mif\u001b[0m \u001b[0mdo_integrity_check\u001b[0m\u001b[0;34m:\u001b[0m\u001b[0;34m\u001b[0m\u001b[0;34m\u001b[0m\u001b[0m\n\u001b[0;32m--> 114\u001b[0;31m             \u001b[0mself\u001b[0m\u001b[0;34m.\u001b[0m\u001b[0m_verify_integrity\u001b[0m\u001b[0;34m(\u001b[0m\u001b[0;34m)\u001b[0m\u001b[0;34m\u001b[0m\u001b[0;34m\u001b[0m\u001b[0m\n\u001b[0m\u001b[1;32m    115\u001b[0m \u001b[0;34m\u001b[0m\u001b[0m\n",
        "\u001b[0;32m/anaconda3/lib/python3.6/site-packages/pandas/core/internals/managers.py\u001b[0m in \u001b[0;36m_verify_integrity\u001b[0;34m(self)\u001b[0m\n\u001b[1;32m    310\u001b[0m             \u001b[0;32mif\u001b[0m \u001b[0mblock\u001b[0m\u001b[0;34m.\u001b[0m\u001b[0m_verify_integrity\u001b[0m \u001b[0;32mand\u001b[0m \u001b[0mblock\u001b[0m\u001b[0;34m.\u001b[0m\u001b[0mshape\u001b[0m\u001b[0;34m[\u001b[0m\u001b[0;36m1\u001b[0m\u001b[0;34m:\u001b[0m\u001b[0;34m]\u001b[0m \u001b[0;34m!=\u001b[0m \u001b[0mmgr_shape\u001b[0m\u001b[0;34m[\u001b[0m\u001b[0;36m1\u001b[0m\u001b[0;34m:\u001b[0m\u001b[0;34m]\u001b[0m\u001b[0;34m:\u001b[0m\u001b[0;34m\u001b[0m\u001b[0;34m\u001b[0m\u001b[0m\n\u001b[0;32m--> 311\u001b[0;31m                 \u001b[0mconstruction_error\u001b[0m\u001b[0;34m(\u001b[0m\u001b[0mtot_items\u001b[0m\u001b[0;34m,\u001b[0m \u001b[0mblock\u001b[0m\u001b[0;34m.\u001b[0m\u001b[0mshape\u001b[0m\u001b[0;34m[\u001b[0m\u001b[0;36m1\u001b[0m\u001b[0;34m:\u001b[0m\u001b[0;34m]\u001b[0m\u001b[0;34m,\u001b[0m \u001b[0mself\u001b[0m\u001b[0;34m.\u001b[0m\u001b[0maxes\u001b[0m\u001b[0;34m)\u001b[0m\u001b[0;34m\u001b[0m\u001b[0;34m\u001b[0m\u001b[0m\n\u001b[0m\u001b[1;32m    312\u001b[0m         \u001b[0;32mif\u001b[0m \u001b[0mlen\u001b[0m\u001b[0;34m(\u001b[0m\u001b[0mself\u001b[0m\u001b[0;34m.\u001b[0m\u001b[0mitems\u001b[0m\u001b[0;34m)\u001b[0m \u001b[0;34m!=\u001b[0m \u001b[0mtot_items\u001b[0m\u001b[0;34m:\u001b[0m\u001b[0;34m\u001b[0m\u001b[0;34m\u001b[0m\u001b[0m\n",
        "\u001b[0;32m/anaconda3/lib/python3.6/site-packages/pandas/core/internals/managers.py\u001b[0m in \u001b[0;36mconstruction_error\u001b[0;34m(tot_items, block_shape, axes, e)\u001b[0m\n\u001b[1;32m   1688\u001b[0m     \u001b[0;32mif\u001b[0m \u001b[0mblock_shape\u001b[0m\u001b[0;34m[\u001b[0m\u001b[0;36m0\u001b[0m\u001b[0;34m]\u001b[0m \u001b[0;34m==\u001b[0m \u001b[0;36m0\u001b[0m\u001b[0;34m:\u001b[0m\u001b[0;34m\u001b[0m\u001b[0;34m\u001b[0m\u001b[0m\n\u001b[0;32m-> 1689\u001b[0;31m         \u001b[0;32mraise\u001b[0m \u001b[0mValueError\u001b[0m\u001b[0;34m(\u001b[0m\u001b[0;34m\"Empty data passed with indices specified.\"\u001b[0m\u001b[0;34m)\u001b[0m\u001b[0;34m\u001b[0m\u001b[0;34m\u001b[0m\u001b[0m\n\u001b[0m\u001b[1;32m   1690\u001b[0m     raise ValueError(\"Shape of passed values is {0}, indices imply {1}\".format(\n",
        "\u001b[0;31mValueError\u001b[0m: Empty data passed with indices specified.",
        "\nDuring handling of the above exception, another exception occurred:\n",
        "\u001b[0;31mValueError\u001b[0m                                Traceback (most recent call last)",
        "\u001b[0;32m<ipython-input-23-7b213cf1a86d>\u001b[0m in \u001b[0;36m<module>\u001b[0;34m\u001b[0m\n\u001b[1;32m      1\u001b[0m \u001b[0;31m# Compute the model\u001b[0m\u001b[0;34m\u001b[0m\u001b[0;34m\u001b[0m\u001b[0;34m\u001b[0m\u001b[0m\n\u001b[0;32m----> 2\u001b[0;31m \u001b[0msol\u001b[0m \u001b[0;34m=\u001b[0m \u001b[0mgp\u001b[0m\u001b[0;34m.\u001b[0m\u001b[0mcompute_model\u001b[0m\u001b[0;34m(\u001b[0m\u001b[0mgeo_model\u001b[0m\u001b[0;34m,\u001b[0m \u001b[0mcompute_mesh\u001b[0m\u001b[0;34m=\u001b[0m\u001b[0;32mFalse\u001b[0m\u001b[0;34m)\u001b[0m\u001b[0;34m\u001b[0m\u001b[0;34m\u001b[0m\u001b[0m\n\u001b[0m",
        "\u001b[0;32m/anaconda3/lib/python3.6/site-packages/gempy/core/gempy_api.py\u001b[0m in \u001b[0;36mcompute_model\u001b[0;34m(model, output, compute_mesh, reset_weights, reset_scalar, reset_block, sort_surfaces, debug, set_solutions)\u001b[0m\n\u001b[1;32m    279\u001b[0m             \u001b[0mmodel\u001b[0m\u001b[0;34m.\u001b[0m\u001b[0msolutions\u001b[0m\u001b[0;34m.\u001b[0m\u001b[0msections_scalfield\u001b[0m \u001b[0;34m=\u001b[0m \u001b[0msol\u001b[0m\u001b[0;34m[\u001b[0m\u001b[0;36m3\u001b[0m\u001b[0;34m]\u001b[0m\u001b[0;34m[\u001b[0m\u001b[0;34m:\u001b[0m\u001b[0;34m,\u001b[0m \u001b[0ml0\u001b[0m\u001b[0;34m:\u001b[0m \u001b[0ml1\u001b[0m\u001b[0;34m]\u001b[0m\u001b[0;34m.\u001b[0m\u001b[0mastype\u001b[0m\u001b[0;34m(\u001b[0m\u001b[0mfloat\u001b[0m\u001b[0;34m)\u001b[0m\u001b[0;34m\u001b[0m\u001b[0;34m\u001b[0m\u001b[0m\n\u001b[1;32m    280\u001b[0m         \u001b[0;32mif\u001b[0m \u001b[0msort_surfaces\u001b[0m\u001b[0;34m:\u001b[0m\u001b[0;34m\u001b[0m\u001b[0;34m\u001b[0m\u001b[0m\n\u001b[0;32m--> 281\u001b[0;31m             \u001b[0mmodel\u001b[0m\u001b[0;34m.\u001b[0m\u001b[0mset_surface_order_from_solution\u001b[0m\u001b[0;34m(\u001b[0m\u001b[0;34m)\u001b[0m\u001b[0;34m\u001b[0m\u001b[0;34m\u001b[0m\u001b[0m\n\u001b[0m\u001b[1;32m    282\u001b[0m         \u001b[0;32mreturn\u001b[0m \u001b[0mmodel\u001b[0m\u001b[0;34m.\u001b[0m\u001b[0msolutions\u001b[0m\u001b[0;34m\u001b[0m\u001b[0;34m\u001b[0m\u001b[0m\n\u001b[1;32m    283\u001b[0m \u001b[0;34m\u001b[0m\u001b[0m\n",
        "\u001b[0;32m/anaconda3/lib/python3.6/site-packages/gempy/core/model.py\u001b[0m in \u001b[0;36mset_surface_order_from_solution\u001b[0;34m(self)\u001b[0m\n\u001b[1;32m    945\u001b[0m \u001b[0;34m\u001b[0m\u001b[0m\n\u001b[1;32m    946\u001b[0m                 self.surfaces.df.loc[idx, 'order_surfaces'] = self.surfaces.df.loc[idx, 'surface'].map(\n\u001b[0;32m--> 947\u001b[0;31m                     pn.DataFrame(sfai_order, index=surface_names)[0])\n\u001b[0m\u001b[1;32m    948\u001b[0m \u001b[0;34m\u001b[0m\u001b[0m\n\u001b[1;32m    949\u001b[0m             \u001b[0;32mexcept\u001b[0m \u001b[0mIndexError\u001b[0m\u001b[0;34m:\u001b[0m\u001b[0;34m\u001b[0m\u001b[0;34m\u001b[0m\u001b[0m\n",
        "\u001b[0;32m/anaconda3/lib/python3.6/site-packages/pandas/core/frame.py\u001b[0m in \u001b[0;36m__init__\u001b[0;34m(self, data, index, columns, dtype, copy)\u001b[0m\n\u001b[1;32m    422\u001b[0m             \u001b[0;32melse\u001b[0m\u001b[0;34m:\u001b[0m\u001b[0;34m\u001b[0m\u001b[0;34m\u001b[0m\u001b[0m\n\u001b[1;32m    423\u001b[0m                 mgr = init_ndarray(data, index, columns, dtype=dtype,\n\u001b[0;32m--> 424\u001b[0;31m                                    copy=copy)\n\u001b[0m\u001b[1;32m    425\u001b[0m \u001b[0;34m\u001b[0m\u001b[0m\n\u001b[1;32m    426\u001b[0m         \u001b[0;31m# For data is list-like, or Iterable (will consume into list)\u001b[0m\u001b[0;34m\u001b[0m\u001b[0;34m\u001b[0m\u001b[0;34m\u001b[0m\u001b[0m\n",
        "\u001b[0;32m/anaconda3/lib/python3.6/site-packages/pandas/core/internals/construction.py\u001b[0m in \u001b[0;36minit_ndarray\u001b[0;34m(values, index, columns, dtype, copy)\u001b[0m\n\u001b[1;32m    165\u001b[0m         \u001b[0mvalues\u001b[0m \u001b[0;34m=\u001b[0m \u001b[0mmaybe_infer_to_datetimelike\u001b[0m\u001b[0;34m(\u001b[0m\u001b[0mvalues\u001b[0m\u001b[0;34m)\u001b[0m\u001b[0;34m\u001b[0m\u001b[0;34m\u001b[0m\u001b[0m\n\u001b[1;32m    166\u001b[0m \u001b[0;34m\u001b[0m\u001b[0m\n\u001b[0;32m--> 167\u001b[0;31m     \u001b[0;32mreturn\u001b[0m \u001b[0mcreate_block_manager_from_blocks\u001b[0m\u001b[0;34m(\u001b[0m\u001b[0;34m[\u001b[0m\u001b[0mvalues\u001b[0m\u001b[0;34m]\u001b[0m\u001b[0;34m,\u001b[0m \u001b[0;34m[\u001b[0m\u001b[0mcolumns\u001b[0m\u001b[0;34m,\u001b[0m \u001b[0mindex\u001b[0m\u001b[0;34m]\u001b[0m\u001b[0;34m)\u001b[0m\u001b[0;34m\u001b[0m\u001b[0;34m\u001b[0m\u001b[0m\n\u001b[0m\u001b[1;32m    168\u001b[0m \u001b[0;34m\u001b[0m\u001b[0m\n\u001b[1;32m    169\u001b[0m \u001b[0;34m\u001b[0m\u001b[0m\n",
        "\u001b[0;32m/anaconda3/lib/python3.6/site-packages/pandas/core/internals/managers.py\u001b[0m in \u001b[0;36mcreate_block_manager_from_blocks\u001b[0;34m(blocks, axes)\u001b[0m\n\u001b[1;32m   1658\u001b[0m         \u001b[0mblocks\u001b[0m \u001b[0;34m=\u001b[0m \u001b[0;34m[\u001b[0m\u001b[0mgetattr\u001b[0m\u001b[0;34m(\u001b[0m\u001b[0mb\u001b[0m\u001b[0;34m,\u001b[0m \u001b[0;34m'values'\u001b[0m\u001b[0;34m,\u001b[0m \u001b[0mb\u001b[0m\u001b[0;34m)\u001b[0m \u001b[0;32mfor\u001b[0m \u001b[0mb\u001b[0m \u001b[0;32min\u001b[0m \u001b[0mblocks\u001b[0m\u001b[0;34m]\u001b[0m\u001b[0;34m\u001b[0m\u001b[0;34m\u001b[0m\u001b[0m\n\u001b[1;32m   1659\u001b[0m         \u001b[0mtot_items\u001b[0m \u001b[0;34m=\u001b[0m \u001b[0msum\u001b[0m\u001b[0;34m(\u001b[0m\u001b[0mb\u001b[0m\u001b[0;34m.\u001b[0m\u001b[0mshape\u001b[0m\u001b[0;34m[\u001b[0m\u001b[0;36m0\u001b[0m\u001b[0;34m]\u001b[0m \u001b[0;32mfor\u001b[0m \u001b[0mb\u001b[0m \u001b[0;32min\u001b[0m \u001b[0mblocks\u001b[0m\u001b[0;34m)\u001b[0m\u001b[0;34m\u001b[0m\u001b[0;34m\u001b[0m\u001b[0m\n\u001b[0;32m-> 1660\u001b[0;31m         \u001b[0mconstruction_error\u001b[0m\u001b[0;34m(\u001b[0m\u001b[0mtot_items\u001b[0m\u001b[0;34m,\u001b[0m \u001b[0mblocks\u001b[0m\u001b[0;34m[\u001b[0m\u001b[0;36m0\u001b[0m\u001b[0;34m]\u001b[0m\u001b[0;34m.\u001b[0m\u001b[0mshape\u001b[0m\u001b[0;34m[\u001b[0m\u001b[0;36m1\u001b[0m\u001b[0;34m:\u001b[0m\u001b[0;34m]\u001b[0m\u001b[0;34m,\u001b[0m \u001b[0maxes\u001b[0m\u001b[0;34m,\u001b[0m \u001b[0me\u001b[0m\u001b[0;34m)\u001b[0m\u001b[0;34m\u001b[0m\u001b[0;34m\u001b[0m\u001b[0m\n\u001b[0m\u001b[1;32m   1661\u001b[0m \u001b[0;34m\u001b[0m\u001b[0m\n\u001b[1;32m   1662\u001b[0m \u001b[0;34m\u001b[0m\u001b[0m\n",
        "\u001b[0;32m/anaconda3/lib/python3.6/site-packages/pandas/core/internals/managers.py\u001b[0m in \u001b[0;36mconstruction_error\u001b[0;34m(tot_items, block_shape, axes, e)\u001b[0m\n\u001b[1;32m   1687\u001b[0m         \u001b[0;32mraise\u001b[0m \u001b[0me\u001b[0m\u001b[0;34m\u001b[0m\u001b[0;34m\u001b[0m\u001b[0m\n\u001b[1;32m   1688\u001b[0m     \u001b[0;32mif\u001b[0m \u001b[0mblock_shape\u001b[0m\u001b[0;34m[\u001b[0m\u001b[0;36m0\u001b[0m\u001b[0;34m]\u001b[0m \u001b[0;34m==\u001b[0m \u001b[0;36m0\u001b[0m\u001b[0;34m:\u001b[0m\u001b[0;34m\u001b[0m\u001b[0;34m\u001b[0m\u001b[0m\n\u001b[0;32m-> 1689\u001b[0;31m         \u001b[0;32mraise\u001b[0m \u001b[0mValueError\u001b[0m\u001b[0;34m(\u001b[0m\u001b[0;34m\"Empty data passed with indices specified.\"\u001b[0m\u001b[0;34m)\u001b[0m\u001b[0;34m\u001b[0m\u001b[0;34m\u001b[0m\u001b[0m\n\u001b[0m\u001b[1;32m   1690\u001b[0m     raise ValueError(\"Shape of passed values is {0}, indices imply {1}\".format(\n\u001b[1;32m   1691\u001b[0m         passed, implied))\n",
        "\u001b[0;31mValueError\u001b[0m: Empty data passed with indices specified."
       ]
      }
     ],
     "persistentId": "ffeeac72-536e-4b3a-9aa8-e88ddce9a059",
     "text": "# Compute the model\nsol = gp.compute_model(geo_model, compute_mesh=False)"
    },
    "executionTime": "2019-12-10T11:02:17.859Z"
   },
   {
    "cell": {
     "executionCount": 24,
     "executionEventId": "34e65353-a67a-4de3-b2b1-eb35819b1eee",
     "hasError": false,
     "id": "4eec0986-5cec-4728-affb-71e1d47bd88b",
     "outputs": [
      {
       "data": {
        "text/plain": "<gempy.plot.visualization_2d.PlotData2D at 0x7f8dd18089e8>"
       },
       "execution_count": 24,
       "metadata": {},
       "output_type": "execute_result"
      },
      {
       "data": {
        "image/png": "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\n",
        "text/plain": "<Figure size 360x360 with 1 Axes>"
       },
       "metadata": {},
       "output_type": "display_data"
      }
     ],
     "persistentId": "6eee44a7-88d0-45f0-8a54-828f3d9c0323",
     "text": "gp.plot.plot_section(geo_model, cell_number=2, direction='y', show_data=True)"
    },
    "executionTime": "2019-12-10T11:02:22.010Z"
   },
   {
    "cell": {
     "executionCount": 25,
     "executionEventId": "9799c27a-023d-4cee-ae8d-79bad7951538",
     "hasError": false,
     "id": "a773329c-7992-4936-a553-0d598e065faf",
     "outputs": [
      {
       "data": {
        "text/html": "<style  type=\"text/css\" >\n    #T_9d943ea6_1b3c_11ea_afb8_f01898ee72bcrow0_col4 {\n            background-color:  #015482;\n        }    #T_9d943ea6_1b3c_11ea_afb8_f01898ee72bcrow1_col4 {\n            background-color:  #9f0052;\n        }    #T_9d943ea6_1b3c_11ea_afb8_f01898ee72bcrow2_col4 {\n            background-color:  #ffbe00;\n        }</style><table id=\"T_9d943ea6_1b3c_11ea_afb8_f01898ee72bc\" ><thead>    <tr>        <th class=\"blank level0\" ></th>        <th class=\"col_heading level0 col0\" >surface</th>        <th class=\"col_heading level0 col1\" >series</th>        <th class=\"col_heading level0 col2\" >order_surfaces</th>        <th class=\"col_heading level0 col3\" >isBasement</th>        <th class=\"col_heading level0 col4\" >color</th>        <th class=\"col_heading level0 col5\" >id</th>    </tr></thead><tbody>\n                <tr>\n                        <th id=\"T_9d943ea6_1b3c_11ea_afb8_f01898ee72bclevel0_row0\" class=\"row_heading level0 row0\" >0</th>\n                        <td id=\"T_9d943ea6_1b3c_11ea_afb8_f01898ee72bcrow0_col0\" class=\"data row0 col0\" >surface_1</td>\n                        <td id=\"T_9d943ea6_1b3c_11ea_afb8_f01898ee72bcrow0_col1\" class=\"data row0 col1\" >Series_1</td>\n                        <td id=\"T_9d943ea6_1b3c_11ea_afb8_f01898ee72bcrow0_col2\" class=\"data row0 col2\" >1</td>\n                        <td id=\"T_9d943ea6_1b3c_11ea_afb8_f01898ee72bcrow0_col3\" class=\"data row0 col3\" >False</td>\n                        <td id=\"T_9d943ea6_1b3c_11ea_afb8_f01898ee72bcrow0_col4\" class=\"data row0 col4\" >#015482</td>\n                        <td id=\"T_9d943ea6_1b3c_11ea_afb8_f01898ee72bcrow0_col5\" class=\"data row0 col5\" >1</td>\n            </tr>\n            <tr>\n                        <th id=\"T_9d943ea6_1b3c_11ea_afb8_f01898ee72bclevel0_row1\" class=\"row_heading level0 row1\" >1</th>\n                        <td id=\"T_9d943ea6_1b3c_11ea_afb8_f01898ee72bcrow1_col0\" class=\"data row1 col0\" >surface_2</td>\n                        <td id=\"T_9d943ea6_1b3c_11ea_afb8_f01898ee72bcrow1_col1\" class=\"data row1 col1\" >Series_2</td>\n                        <td id=\"T_9d943ea6_1b3c_11ea_afb8_f01898ee72bcrow1_col2\" class=\"data row1 col2\" >1</td>\n                        <td id=\"T_9d943ea6_1b3c_11ea_afb8_f01898ee72bcrow1_col3\" class=\"data row1 col3\" >False</td>\n                        <td id=\"T_9d943ea6_1b3c_11ea_afb8_f01898ee72bcrow1_col4\" class=\"data row1 col4\" >#9f0052</td>\n                        <td id=\"T_9d943ea6_1b3c_11ea_afb8_f01898ee72bcrow1_col5\" class=\"data row1 col5\" >2</td>\n            </tr>\n            <tr>\n                        <th id=\"T_9d943ea6_1b3c_11ea_afb8_f01898ee72bclevel0_row2\" class=\"row_heading level0 row2\" >2</th>\n                        <td id=\"T_9d943ea6_1b3c_11ea_afb8_f01898ee72bcrow2_col0\" class=\"data row2 col0\" >basement</td>\n                        <td id=\"T_9d943ea6_1b3c_11ea_afb8_f01898ee72bcrow2_col1\" class=\"data row2 col1\" >Basement</td>\n                        <td id=\"T_9d943ea6_1b3c_11ea_afb8_f01898ee72bcrow2_col2\" class=\"data row2 col2\" >1</td>\n                        <td id=\"T_9d943ea6_1b3c_11ea_afb8_f01898ee72bcrow2_col3\" class=\"data row2 col3\" >True</td>\n                        <td id=\"T_9d943ea6_1b3c_11ea_afb8_f01898ee72bcrow2_col4\" class=\"data row2 col4\" >#ffbe00</td>\n                        <td id=\"T_9d943ea6_1b3c_11ea_afb8_f01898ee72bcrow2_col5\" class=\"data row2 col5\" >3</td>\n            </tr>\n    </tbody></table>",
        "text/plain": "     surface    series  order_surfaces  isBasement    color vertices edges  id\n0  surface_1  Series_1               1       False  #015482      NaN   NaN   1\n1  surface_2  Series_2               1       False  #9f0052      NaN   NaN   2\n2   basement  Basement               1        True  #ffbe00      NaN   NaN   3"
       },
       "execution_count": 25,
       "metadata": {},
       "output_type": "execute_result"
      }
     ],
     "persistentId": "214fa5e0-ddbb-47a9-b305-0d62e6aa4970",
     "text": "gp.map_series_to_surfaces(geo_model,\n                         {\n                         \"Series_2\": ('surfae_1','surface_2')})"
    },
    "executionTime": "2019-12-10T11:02:54.412Z"
   },
   {
    "cell": {
     "executionCount": 26,
     "executionEventId": "fcecdc13-916c-4a7f-8b94-7d494957c258",
     "hasError": false,
     "id": "a773329c-7992-4936-a553-0d598e065faf",
     "outputs": [
      {
       "data": {
        "text/html": "<style  type=\"text/css\" >\n    #T_a30f1b3a_1b3c_11ea_bd58_f01898ee72bcrow0_col4 {\n            background-color:  #015482;\n        }    #T_a30f1b3a_1b3c_11ea_bd58_f01898ee72bcrow1_col4 {\n            background-color:  #9f0052;\n        }    #T_a30f1b3a_1b3c_11ea_bd58_f01898ee72bcrow2_col4 {\n            background-color:  #ffbe00;\n        }</style><table id=\"T_a30f1b3a_1b3c_11ea_bd58_f01898ee72bc\" ><thead>    <tr>        <th class=\"blank level0\" ></th>        <th class=\"col_heading level0 col0\" >surface</th>        <th class=\"col_heading level0 col1\" >series</th>        <th class=\"col_heading level0 col2\" >order_surfaces</th>        <th class=\"col_heading level0 col3\" >isBasement</th>        <th class=\"col_heading level0 col4\" >color</th>        <th class=\"col_heading level0 col5\" >id</th>    </tr></thead><tbody>\n                <tr>\n                        <th id=\"T_a30f1b3a_1b3c_11ea_bd58_f01898ee72bclevel0_row0\" class=\"row_heading level0 row0\" >0</th>\n                        <td id=\"T_a30f1b3a_1b3c_11ea_bd58_f01898ee72bcrow0_col0\" class=\"data row0 col0\" >surface_1</td>\n                        <td id=\"T_a30f1b3a_1b3c_11ea_bd58_f01898ee72bcrow0_col1\" class=\"data row0 col1\" >Series_2</td>\n                        <td id=\"T_a30f1b3a_1b3c_11ea_bd58_f01898ee72bcrow0_col2\" class=\"data row0 col2\" >1</td>\n                        <td id=\"T_a30f1b3a_1b3c_11ea_bd58_f01898ee72bcrow0_col3\" class=\"data row0 col3\" >False</td>\n                        <td id=\"T_a30f1b3a_1b3c_11ea_bd58_f01898ee72bcrow0_col4\" class=\"data row0 col4\" >#015482</td>\n                        <td id=\"T_a30f1b3a_1b3c_11ea_bd58_f01898ee72bcrow0_col5\" class=\"data row0 col5\" >1</td>\n            </tr>\n            <tr>\n                        <th id=\"T_a30f1b3a_1b3c_11ea_bd58_f01898ee72bclevel0_row1\" class=\"row_heading level0 row1\" >1</th>\n                        <td id=\"T_a30f1b3a_1b3c_11ea_bd58_f01898ee72bcrow1_col0\" class=\"data row1 col0\" >surface_2</td>\n                        <td id=\"T_a30f1b3a_1b3c_11ea_bd58_f01898ee72bcrow1_col1\" class=\"data row1 col1\" >Series_2</td>\n                        <td id=\"T_a30f1b3a_1b3c_11ea_bd58_f01898ee72bcrow1_col2\" class=\"data row1 col2\" >2</td>\n                        <td id=\"T_a30f1b3a_1b3c_11ea_bd58_f01898ee72bcrow1_col3\" class=\"data row1 col3\" >False</td>\n                        <td id=\"T_a30f1b3a_1b3c_11ea_bd58_f01898ee72bcrow1_col4\" class=\"data row1 col4\" >#9f0052</td>\n                        <td id=\"T_a30f1b3a_1b3c_11ea_bd58_f01898ee72bcrow1_col5\" class=\"data row1 col5\" >2</td>\n            </tr>\n            <tr>\n                        <th id=\"T_a30f1b3a_1b3c_11ea_bd58_f01898ee72bclevel0_row2\" class=\"row_heading level0 row2\" >2</th>\n                        <td id=\"T_a30f1b3a_1b3c_11ea_bd58_f01898ee72bcrow2_col0\" class=\"data row2 col0\" >basement</td>\n                        <td id=\"T_a30f1b3a_1b3c_11ea_bd58_f01898ee72bcrow2_col1\" class=\"data row2 col1\" >Basement</td>\n                        <td id=\"T_a30f1b3a_1b3c_11ea_bd58_f01898ee72bcrow2_col2\" class=\"data row2 col2\" >1</td>\n                        <td id=\"T_a30f1b3a_1b3c_11ea_bd58_f01898ee72bcrow2_col3\" class=\"data row2 col3\" >True</td>\n                        <td id=\"T_a30f1b3a_1b3c_11ea_bd58_f01898ee72bcrow2_col4\" class=\"data row2 col4\" >#ffbe00</td>\n                        <td id=\"T_a30f1b3a_1b3c_11ea_bd58_f01898ee72bcrow2_col5\" class=\"data row2 col5\" >3</td>\n            </tr>\n    </tbody></table>",
        "text/plain": "     surface    series  order_surfaces  isBasement    color vertices edges  id\n0  surface_1  Series_2               1       False  #015482      NaN   NaN   1\n1  surface_2  Series_2               2       False  #9f0052      NaN   NaN   2\n2   basement  Basement               1        True  #ffbe00      NaN   NaN   3"
       },
       "execution_count": 26,
       "metadata": {},
       "output_type": "execute_result"
      }
     ],
     "persistentId": "214fa5e0-ddbb-47a9-b305-0d62e6aa4970",
     "text": "gp.map_series_to_surfaces(geo_model,\n                         {\n                         \"Series_2\": ('surface_1','surface_2')})"
    },
    "executionTime": "2019-12-10T11:03:03.595Z"
   },
   {
    "cell": {
     "executionCount": 27,
     "executionEventId": "1cbd9463-c22c-4ba2-bf96-5ec76e18793d",
     "hasError": false,
     "id": "8be7dcd4-c2dc-415f-a706-f2a0622e1e2a",
     "outputs": [
      {
       "name": "stdout",
       "output_type": "stream",
       "text": "Compiling theano function...\nCompilation Done!\n"
      },
      {
       "data": {
        "text/plain": "<gempy.core.interpolator.InterpolatorModel at 0x7f8dba050978>"
       },
       "execution_count": 27,
       "metadata": {},
       "output_type": "execute_result"
      }
     ],
     "persistentId": "958935b1-fd45-47c2-a35a-9eafc3670cb2",
     "text": "# Create the theano model\ngp.set_interpolation_data(geo_model,\n                         compile_theano=True,\n                         theano_optimizer='fast_compile',\n                         verbose=[])"
    },
    "executionTime": "2019-12-10T11:03:08.032Z"
   },
   {
    "cell": {
     "executionCount": 28,
     "executionEventId": "6b855bc0-aa2d-4ef4-b642-ef1b804b32f8",
     "hasError": false,
     "id": "016dc0f5-1c64-43a2-b32a-4d5178fcb015",
     "outputs": [],
     "persistentId": "ffeeac72-536e-4b3a-9aa8-e88ddce9a059",
     "text": "# Compute the model\nsol = gp.compute_model(geo_model, compute_mesh=False)"
    },
    "executionTime": "2019-12-10T11:03:08.107Z"
   },
   {
    "cell": {
     "executionCount": 29,
     "executionEventId": "b3ac3e78-7f04-44f9-81a3-8dff4e57fb6d",
     "hasError": false,
     "id": "4eec0986-5cec-4728-affb-71e1d47bd88b",
     "outputs": [
      {
       "data": {
        "text/plain": "<gempy.plot.visualization_2d.PlotData2D at 0x7f8d850028d0>"
       },
       "execution_count": 29,
       "metadata": {},
       "output_type": "execute_result"
      },
      {
       "data": {
        "image/png": "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\n",
        "text/plain": "<Figure size 360x360 with 1 Axes>"
       },
       "metadata": {},
       "output_type": "display_data"
      }
     ],
     "persistentId": "6eee44a7-88d0-45f0-8a54-828f3d9c0323",
     "text": "gp.plot.plot_section(geo_model, cell_number=2, direction='y', show_data=True)"
    },
    "executionTime": "2019-12-10T11:03:11.383Z"
   },
   {
    "cell": {
     "executionCount": 30,
     "executionEventId": "47edf298-9127-4244-8b4a-34378da30dfe",
     "hasError": false,
     "id": "a773329c-7992-4936-a553-0d598e065faf",
     "outputs": [
      {
       "data": {
        "text/html": "<style  type=\"text/css\" >\n    #T_ad94f0ac_1b3c_11ea_8f16_f01898ee72bcrow0_col4 {\n            background-color:  #9f0052;\n        }    #T_ad94f0ac_1b3c_11ea_8f16_f01898ee72bcrow1_col4 {\n            background-color:  #015482;\n        }    #T_ad94f0ac_1b3c_11ea_8f16_f01898ee72bcrow2_col4 {\n            background-color:  #ffbe00;\n        }</style><table id=\"T_ad94f0ac_1b3c_11ea_8f16_f01898ee72bc\" ><thead>    <tr>        <th class=\"blank level0\" ></th>        <th class=\"col_heading level0 col0\" >surface</th>        <th class=\"col_heading level0 col1\" >series</th>        <th class=\"col_heading level0 col2\" >order_surfaces</th>        <th class=\"col_heading level0 col3\" >isBasement</th>        <th class=\"col_heading level0 col4\" >color</th>        <th class=\"col_heading level0 col5\" >id</th>    </tr></thead><tbody>\n                <tr>\n                        <th id=\"T_ad94f0ac_1b3c_11ea_8f16_f01898ee72bclevel0_row0\" class=\"row_heading level0 row0\" >1</th>\n                        <td id=\"T_ad94f0ac_1b3c_11ea_8f16_f01898ee72bcrow0_col0\" class=\"data row0 col0\" >surface_2</td>\n                        <td id=\"T_ad94f0ac_1b3c_11ea_8f16_f01898ee72bcrow0_col1\" class=\"data row0 col1\" >Series_2</td>\n                        <td id=\"T_ad94f0ac_1b3c_11ea_8f16_f01898ee72bcrow0_col2\" class=\"data row0 col2\" >1</td>\n                        <td id=\"T_ad94f0ac_1b3c_11ea_8f16_f01898ee72bcrow0_col3\" class=\"data row0 col3\" >False</td>\n                        <td id=\"T_ad94f0ac_1b3c_11ea_8f16_f01898ee72bcrow0_col4\" class=\"data row0 col4\" >#9f0052</td>\n                        <td id=\"T_ad94f0ac_1b3c_11ea_8f16_f01898ee72bcrow0_col5\" class=\"data row0 col5\" >1</td>\n            </tr>\n            <tr>\n                        <th id=\"T_ad94f0ac_1b3c_11ea_8f16_f01898ee72bclevel0_row1\" class=\"row_heading level0 row1\" >0</th>\n                        <td id=\"T_ad94f0ac_1b3c_11ea_8f16_f01898ee72bcrow1_col0\" class=\"data row1 col0\" >surface_1</td>\n                        <td id=\"T_ad94f0ac_1b3c_11ea_8f16_f01898ee72bcrow1_col1\" class=\"data row1 col1\" >Series_1</td>\n                        <td id=\"T_ad94f0ac_1b3c_11ea_8f16_f01898ee72bcrow1_col2\" class=\"data row1 col2\" >1</td>\n                        <td id=\"T_ad94f0ac_1b3c_11ea_8f16_f01898ee72bcrow1_col3\" class=\"data row1 col3\" >False</td>\n                        <td id=\"T_ad94f0ac_1b3c_11ea_8f16_f01898ee72bcrow1_col4\" class=\"data row1 col4\" >#015482</td>\n                        <td id=\"T_ad94f0ac_1b3c_11ea_8f16_f01898ee72bcrow1_col5\" class=\"data row1 col5\" >2</td>\n            </tr>\n            <tr>\n                        <th id=\"T_ad94f0ac_1b3c_11ea_8f16_f01898ee72bclevel0_row2\" class=\"row_heading level0 row2\" >2</th>\n                        <td id=\"T_ad94f0ac_1b3c_11ea_8f16_f01898ee72bcrow2_col0\" class=\"data row2 col0\" >basement</td>\n                        <td id=\"T_ad94f0ac_1b3c_11ea_8f16_f01898ee72bcrow2_col1\" class=\"data row2 col1\" >Basement</td>\n                        <td id=\"T_ad94f0ac_1b3c_11ea_8f16_f01898ee72bcrow2_col2\" class=\"data row2 col2\" >1</td>\n                        <td id=\"T_ad94f0ac_1b3c_11ea_8f16_f01898ee72bcrow2_col3\" class=\"data row2 col3\" >True</td>\n                        <td id=\"T_ad94f0ac_1b3c_11ea_8f16_f01898ee72bcrow2_col4\" class=\"data row2 col4\" >#ffbe00</td>\n                        <td id=\"T_ad94f0ac_1b3c_11ea_8f16_f01898ee72bcrow2_col5\" class=\"data row2 col5\" >3</td>\n            </tr>\n    </tbody></table>",
        "text/plain": "     surface    series  order_surfaces  isBasement    color vertices edges  id\n1  surface_2  Series_2               1       False  #9f0052      NaN   NaN   1\n0  surface_1  Series_1               1       False  #015482      NaN   NaN   2\n2   basement  Basement               1        True  #ffbe00      NaN   NaN   3"
       },
       "execution_count": 30,
       "metadata": {},
       "output_type": "execute_result"
      }
     ],
     "persistentId": "214fa5e0-ddbb-47a9-b305-0d62e6aa4970",
     "text": "gp.map_series_to_surfaces(geo_model,\n                         {\"Series_1\": 'surface_1',\n                         \"Series_2\": 'surface_2'})"
    },
    "executionTime": "2019-12-10T11:03:21.250Z"
   },
   {
    "cell": {
     "executionCount": 31,
     "executionEventId": "248d365d-3f03-4b56-8675-07ea24aa00e2",
     "hasError": false,
     "id": "8be7dcd4-c2dc-415f-a706-f2a0622e1e2a",
     "outputs": [
      {
       "name": "stdout",
       "output_type": "stream",
       "text": "Compiling theano function...\nCompilation Done!\n"
      },
      {
       "data": {
        "text/plain": "<gempy.core.interpolator.InterpolatorModel at 0x7f8dba050978>"
       },
       "execution_count": 31,
       "metadata": {},
       "output_type": "execute_result"
      }
     ],
     "persistentId": "958935b1-fd45-47c2-a35a-9eafc3670cb2",
     "text": "# Create the theano model\ngp.set_interpolation_data(geo_model,\n                         compile_theano=True,\n                         theano_optimizer='fast_compile',\n                         verbose=[])"
    },
    "executionTime": "2019-12-10T11:03:26.470Z"
   },
   {
    "cell": {
     "executionCount": 32,
     "executionEventId": "8a8e3639-4018-493b-bb4a-0d5421e82838",
     "hasError": true,
     "id": "016dc0f5-1c64-43a2-b32a-4d5178fcb015",
     "outputs": [
      {
       "ename": "ValueError",
       "evalue": "Empty data passed with indices specified.",
       "output_type": "error",
       "traceback": [
        "\u001b[0;31m---------------------------------------------------------------------------\u001b[0m",
        "\u001b[0;31mValueError\u001b[0m                                Traceback (most recent call last)",
        "\u001b[0;32m/anaconda3/lib/python3.6/site-packages/pandas/core/internals/managers.py\u001b[0m in \u001b[0;36mcreate_block_manager_from_blocks\u001b[0;34m(blocks, axes)\u001b[0m\n\u001b[1;32m   1652\u001b[0m \u001b[0;34m\u001b[0m\u001b[0m\n\u001b[0;32m-> 1653\u001b[0;31m         \u001b[0mmgr\u001b[0m \u001b[0;34m=\u001b[0m \u001b[0mBlockManager\u001b[0m\u001b[0;34m(\u001b[0m\u001b[0mblocks\u001b[0m\u001b[0;34m,\u001b[0m \u001b[0maxes\u001b[0m\u001b[0;34m)\u001b[0m\u001b[0;34m\u001b[0m\u001b[0;34m\u001b[0m\u001b[0m\n\u001b[0m\u001b[1;32m   1654\u001b[0m         \u001b[0mmgr\u001b[0m\u001b[0;34m.\u001b[0m\u001b[0m_consolidate_inplace\u001b[0m\u001b[0;34m(\u001b[0m\u001b[0;34m)\u001b[0m\u001b[0;34m\u001b[0m\u001b[0;34m\u001b[0m\u001b[0m\n",
        "\u001b[0;32m/anaconda3/lib/python3.6/site-packages/pandas/core/internals/managers.py\u001b[0m in \u001b[0;36m__init__\u001b[0;34m(self, blocks, axes, do_integrity_check)\u001b[0m\n\u001b[1;32m    113\u001b[0m         \u001b[0;32mif\u001b[0m \u001b[0mdo_integrity_check\u001b[0m\u001b[0;34m:\u001b[0m\u001b[0;34m\u001b[0m\u001b[0;34m\u001b[0m\u001b[0m\n\u001b[0;32m--> 114\u001b[0;31m             \u001b[0mself\u001b[0m\u001b[0;34m.\u001b[0m\u001b[0m_verify_integrity\u001b[0m\u001b[0;34m(\u001b[0m\u001b[0;34m)\u001b[0m\u001b[0;34m\u001b[0m\u001b[0;34m\u001b[0m\u001b[0m\n\u001b[0m\u001b[1;32m    115\u001b[0m \u001b[0;34m\u001b[0m\u001b[0m\n",
        "\u001b[0;32m/anaconda3/lib/python3.6/site-packages/pandas/core/internals/managers.py\u001b[0m in \u001b[0;36m_verify_integrity\u001b[0;34m(self)\u001b[0m\n\u001b[1;32m    310\u001b[0m             \u001b[0;32mif\u001b[0m \u001b[0mblock\u001b[0m\u001b[0;34m.\u001b[0m\u001b[0m_verify_integrity\u001b[0m \u001b[0;32mand\u001b[0m \u001b[0mblock\u001b[0m\u001b[0;34m.\u001b[0m\u001b[0mshape\u001b[0m\u001b[0;34m[\u001b[0m\u001b[0;36m1\u001b[0m\u001b[0;34m:\u001b[0m\u001b[0;34m]\u001b[0m \u001b[0;34m!=\u001b[0m \u001b[0mmgr_shape\u001b[0m\u001b[0;34m[\u001b[0m\u001b[0;36m1\u001b[0m\u001b[0;34m:\u001b[0m\u001b[0;34m]\u001b[0m\u001b[0;34m:\u001b[0m\u001b[0;34m\u001b[0m\u001b[0;34m\u001b[0m\u001b[0m\n\u001b[0;32m--> 311\u001b[0;31m                 \u001b[0mconstruction_error\u001b[0m\u001b[0;34m(\u001b[0m\u001b[0mtot_items\u001b[0m\u001b[0;34m,\u001b[0m \u001b[0mblock\u001b[0m\u001b[0;34m.\u001b[0m\u001b[0mshape\u001b[0m\u001b[0;34m[\u001b[0m\u001b[0;36m1\u001b[0m\u001b[0;34m:\u001b[0m\u001b[0;34m]\u001b[0m\u001b[0;34m,\u001b[0m \u001b[0mself\u001b[0m\u001b[0;34m.\u001b[0m\u001b[0maxes\u001b[0m\u001b[0;34m)\u001b[0m\u001b[0;34m\u001b[0m\u001b[0;34m\u001b[0m\u001b[0m\n\u001b[0m\u001b[1;32m    312\u001b[0m         \u001b[0;32mif\u001b[0m \u001b[0mlen\u001b[0m\u001b[0;34m(\u001b[0m\u001b[0mself\u001b[0m\u001b[0;34m.\u001b[0m\u001b[0mitems\u001b[0m\u001b[0;34m)\u001b[0m \u001b[0;34m!=\u001b[0m \u001b[0mtot_items\u001b[0m\u001b[0;34m:\u001b[0m\u001b[0;34m\u001b[0m\u001b[0;34m\u001b[0m\u001b[0m\n",
        "\u001b[0;32m/anaconda3/lib/python3.6/site-packages/pandas/core/internals/managers.py\u001b[0m in \u001b[0;36mconstruction_error\u001b[0;34m(tot_items, block_shape, axes, e)\u001b[0m\n\u001b[1;32m   1688\u001b[0m     \u001b[0;32mif\u001b[0m \u001b[0mblock_shape\u001b[0m\u001b[0;34m[\u001b[0m\u001b[0;36m0\u001b[0m\u001b[0;34m]\u001b[0m \u001b[0;34m==\u001b[0m \u001b[0;36m0\u001b[0m\u001b[0;34m:\u001b[0m\u001b[0;34m\u001b[0m\u001b[0;34m\u001b[0m\u001b[0m\n\u001b[0;32m-> 1689\u001b[0;31m         \u001b[0;32mraise\u001b[0m \u001b[0mValueError\u001b[0m\u001b[0;34m(\u001b[0m\u001b[0;34m\"Empty data passed with indices specified.\"\u001b[0m\u001b[0;34m)\u001b[0m\u001b[0;34m\u001b[0m\u001b[0;34m\u001b[0m\u001b[0m\n\u001b[0m\u001b[1;32m   1690\u001b[0m     raise ValueError(\"Shape of passed values is {0}, indices imply {1}\".format(\n",
        "\u001b[0;31mValueError\u001b[0m: Empty data passed with indices specified.",
        "\nDuring handling of the above exception, another exception occurred:\n",
        "\u001b[0;31mValueError\u001b[0m                                Traceback (most recent call last)",
        "\u001b[0;32m<ipython-input-32-7b213cf1a86d>\u001b[0m in \u001b[0;36m<module>\u001b[0;34m\u001b[0m\n\u001b[1;32m      1\u001b[0m \u001b[0;31m# Compute the model\u001b[0m\u001b[0;34m\u001b[0m\u001b[0;34m\u001b[0m\u001b[0;34m\u001b[0m\u001b[0m\n\u001b[0;32m----> 2\u001b[0;31m \u001b[0msol\u001b[0m \u001b[0;34m=\u001b[0m \u001b[0mgp\u001b[0m\u001b[0;34m.\u001b[0m\u001b[0mcompute_model\u001b[0m\u001b[0;34m(\u001b[0m\u001b[0mgeo_model\u001b[0m\u001b[0;34m,\u001b[0m \u001b[0mcompute_mesh\u001b[0m\u001b[0;34m=\u001b[0m\u001b[0;32mFalse\u001b[0m\u001b[0;34m)\u001b[0m\u001b[0;34m\u001b[0m\u001b[0;34m\u001b[0m\u001b[0m\n\u001b[0m",
        "\u001b[0;32m/anaconda3/lib/python3.6/site-packages/gempy/core/gempy_api.py\u001b[0m in \u001b[0;36mcompute_model\u001b[0;34m(model, output, compute_mesh, reset_weights, reset_scalar, reset_block, sort_surfaces, debug, set_solutions)\u001b[0m\n\u001b[1;32m    279\u001b[0m             \u001b[0mmodel\u001b[0m\u001b[0;34m.\u001b[0m\u001b[0msolutions\u001b[0m\u001b[0;34m.\u001b[0m\u001b[0msections_scalfield\u001b[0m \u001b[0;34m=\u001b[0m \u001b[0msol\u001b[0m\u001b[0;34m[\u001b[0m\u001b[0;36m3\u001b[0m\u001b[0;34m]\u001b[0m\u001b[0;34m[\u001b[0m\u001b[0;34m:\u001b[0m\u001b[0;34m,\u001b[0m \u001b[0ml0\u001b[0m\u001b[0;34m:\u001b[0m \u001b[0ml1\u001b[0m\u001b[0;34m]\u001b[0m\u001b[0;34m.\u001b[0m\u001b[0mastype\u001b[0m\u001b[0;34m(\u001b[0m\u001b[0mfloat\u001b[0m\u001b[0;34m)\u001b[0m\u001b[0;34m\u001b[0m\u001b[0;34m\u001b[0m\u001b[0m\n\u001b[1;32m    280\u001b[0m         \u001b[0;32mif\u001b[0m \u001b[0msort_surfaces\u001b[0m\u001b[0;34m:\u001b[0m\u001b[0;34m\u001b[0m\u001b[0;34m\u001b[0m\u001b[0m\n\u001b[0;32m--> 281\u001b[0;31m             \u001b[0mmodel\u001b[0m\u001b[0;34m.\u001b[0m\u001b[0mset_surface_order_from_solution\u001b[0m\u001b[0;34m(\u001b[0m\u001b[0;34m)\u001b[0m\u001b[0;34m\u001b[0m\u001b[0;34m\u001b[0m\u001b[0m\n\u001b[0m\u001b[1;32m    282\u001b[0m         \u001b[0;32mreturn\u001b[0m \u001b[0mmodel\u001b[0m\u001b[0;34m.\u001b[0m\u001b[0msolutions\u001b[0m\u001b[0;34m\u001b[0m\u001b[0;34m\u001b[0m\u001b[0m\n\u001b[1;32m    283\u001b[0m \u001b[0;34m\u001b[0m\u001b[0m\n",
        "\u001b[0;32m/anaconda3/lib/python3.6/site-packages/gempy/core/model.py\u001b[0m in \u001b[0;36mset_surface_order_from_solution\u001b[0;34m(self)\u001b[0m\n\u001b[1;32m    945\u001b[0m \u001b[0;34m\u001b[0m\u001b[0m\n\u001b[1;32m    946\u001b[0m                 self.surfaces.df.loc[idx, 'order_surfaces'] = self.surfaces.df.loc[idx, 'surface'].map(\n\u001b[0;32m--> 947\u001b[0;31m                     pn.DataFrame(sfai_order, index=surface_names)[0])\n\u001b[0m\u001b[1;32m    948\u001b[0m \u001b[0;34m\u001b[0m\u001b[0m\n\u001b[1;32m    949\u001b[0m             \u001b[0;32mexcept\u001b[0m \u001b[0mIndexError\u001b[0m\u001b[0;34m:\u001b[0m\u001b[0;34m\u001b[0m\u001b[0;34m\u001b[0m\u001b[0m\n",
        "\u001b[0;32m/anaconda3/lib/python3.6/site-packages/pandas/core/frame.py\u001b[0m in \u001b[0;36m__init__\u001b[0;34m(self, data, index, columns, dtype, copy)\u001b[0m\n\u001b[1;32m    422\u001b[0m             \u001b[0;32melse\u001b[0m\u001b[0;34m:\u001b[0m\u001b[0;34m\u001b[0m\u001b[0;34m\u001b[0m\u001b[0m\n\u001b[1;32m    423\u001b[0m                 mgr = init_ndarray(data, index, columns, dtype=dtype,\n\u001b[0;32m--> 424\u001b[0;31m                                    copy=copy)\n\u001b[0m\u001b[1;32m    425\u001b[0m \u001b[0;34m\u001b[0m\u001b[0m\n\u001b[1;32m    426\u001b[0m         \u001b[0;31m# For data is list-like, or Iterable (will consume into list)\u001b[0m\u001b[0;34m\u001b[0m\u001b[0;34m\u001b[0m\u001b[0;34m\u001b[0m\u001b[0m\n",
        "\u001b[0;32m/anaconda3/lib/python3.6/site-packages/pandas/core/internals/construction.py\u001b[0m in \u001b[0;36minit_ndarray\u001b[0;34m(values, index, columns, dtype, copy)\u001b[0m\n\u001b[1;32m    165\u001b[0m         \u001b[0mvalues\u001b[0m \u001b[0;34m=\u001b[0m \u001b[0mmaybe_infer_to_datetimelike\u001b[0m\u001b[0;34m(\u001b[0m\u001b[0mvalues\u001b[0m\u001b[0;34m)\u001b[0m\u001b[0;34m\u001b[0m\u001b[0;34m\u001b[0m\u001b[0m\n\u001b[1;32m    166\u001b[0m \u001b[0;34m\u001b[0m\u001b[0m\n\u001b[0;32m--> 167\u001b[0;31m     \u001b[0;32mreturn\u001b[0m \u001b[0mcreate_block_manager_from_blocks\u001b[0m\u001b[0;34m(\u001b[0m\u001b[0;34m[\u001b[0m\u001b[0mvalues\u001b[0m\u001b[0;34m]\u001b[0m\u001b[0;34m,\u001b[0m \u001b[0;34m[\u001b[0m\u001b[0mcolumns\u001b[0m\u001b[0;34m,\u001b[0m \u001b[0mindex\u001b[0m\u001b[0;34m]\u001b[0m\u001b[0;34m)\u001b[0m\u001b[0;34m\u001b[0m\u001b[0;34m\u001b[0m\u001b[0m\n\u001b[0m\u001b[1;32m    168\u001b[0m \u001b[0;34m\u001b[0m\u001b[0m\n\u001b[1;32m    169\u001b[0m \u001b[0;34m\u001b[0m\u001b[0m\n",
        "\u001b[0;32m/anaconda3/lib/python3.6/site-packages/pandas/core/internals/managers.py\u001b[0m in \u001b[0;36mcreate_block_manager_from_blocks\u001b[0;34m(blocks, axes)\u001b[0m\n\u001b[1;32m   1658\u001b[0m         \u001b[0mblocks\u001b[0m \u001b[0;34m=\u001b[0m \u001b[0;34m[\u001b[0m\u001b[0mgetattr\u001b[0m\u001b[0;34m(\u001b[0m\u001b[0mb\u001b[0m\u001b[0;34m,\u001b[0m \u001b[0;34m'values'\u001b[0m\u001b[0;34m,\u001b[0m \u001b[0mb\u001b[0m\u001b[0;34m)\u001b[0m \u001b[0;32mfor\u001b[0m \u001b[0mb\u001b[0m \u001b[0;32min\u001b[0m \u001b[0mblocks\u001b[0m\u001b[0;34m]\u001b[0m\u001b[0;34m\u001b[0m\u001b[0;34m\u001b[0m\u001b[0m\n\u001b[1;32m   1659\u001b[0m         \u001b[0mtot_items\u001b[0m \u001b[0;34m=\u001b[0m \u001b[0msum\u001b[0m\u001b[0;34m(\u001b[0m\u001b[0mb\u001b[0m\u001b[0;34m.\u001b[0m\u001b[0mshape\u001b[0m\u001b[0;34m[\u001b[0m\u001b[0;36m0\u001b[0m\u001b[0;34m]\u001b[0m \u001b[0;32mfor\u001b[0m \u001b[0mb\u001b[0m \u001b[0;32min\u001b[0m \u001b[0mblocks\u001b[0m\u001b[0;34m)\u001b[0m\u001b[0;34m\u001b[0m\u001b[0;34m\u001b[0m\u001b[0m\n\u001b[0;32m-> 1660\u001b[0;31m         \u001b[0mconstruction_error\u001b[0m\u001b[0;34m(\u001b[0m\u001b[0mtot_items\u001b[0m\u001b[0;34m,\u001b[0m \u001b[0mblocks\u001b[0m\u001b[0;34m[\u001b[0m\u001b[0;36m0\u001b[0m\u001b[0;34m]\u001b[0m\u001b[0;34m.\u001b[0m\u001b[0mshape\u001b[0m\u001b[0;34m[\u001b[0m\u001b[0;36m1\u001b[0m\u001b[0;34m:\u001b[0m\u001b[0;34m]\u001b[0m\u001b[0;34m,\u001b[0m \u001b[0maxes\u001b[0m\u001b[0;34m,\u001b[0m \u001b[0me\u001b[0m\u001b[0;34m)\u001b[0m\u001b[0;34m\u001b[0m\u001b[0;34m\u001b[0m\u001b[0m\n\u001b[0m\u001b[1;32m   1661\u001b[0m \u001b[0;34m\u001b[0m\u001b[0m\n\u001b[1;32m   1662\u001b[0m \u001b[0;34m\u001b[0m\u001b[0m\n",
        "\u001b[0;32m/anaconda3/lib/python3.6/site-packages/pandas/core/internals/managers.py\u001b[0m in \u001b[0;36mconstruction_error\u001b[0;34m(tot_items, block_shape, axes, e)\u001b[0m\n\u001b[1;32m   1687\u001b[0m         \u001b[0;32mraise\u001b[0m \u001b[0me\u001b[0m\u001b[0;34m\u001b[0m\u001b[0;34m\u001b[0m\u001b[0m\n\u001b[1;32m   1688\u001b[0m     \u001b[0;32mif\u001b[0m \u001b[0mblock_shape\u001b[0m\u001b[0;34m[\u001b[0m\u001b[0;36m0\u001b[0m\u001b[0;34m]\u001b[0m \u001b[0;34m==\u001b[0m \u001b[0;36m0\u001b[0m\u001b[0;34m:\u001b[0m\u001b[0;34m\u001b[0m\u001b[0;34m\u001b[0m\u001b[0m\n\u001b[0;32m-> 1689\u001b[0;31m         \u001b[0;32mraise\u001b[0m \u001b[0mValueError\u001b[0m\u001b[0;34m(\u001b[0m\u001b[0;34m\"Empty data passed with indices specified.\"\u001b[0m\u001b[0;34m)\u001b[0m\u001b[0;34m\u001b[0m\u001b[0;34m\u001b[0m\u001b[0m\n\u001b[0m\u001b[1;32m   1690\u001b[0m     raise ValueError(\"Shape of passed values is {0}, indices imply {1}\".format(\n\u001b[1;32m   1691\u001b[0m         passed, implied))\n",
        "\u001b[0;31mValueError\u001b[0m: Empty data passed with indices specified."
       ]
      }
     ],
     "persistentId": "ffeeac72-536e-4b3a-9aa8-e88ddce9a059",
     "text": "# Compute the model\nsol = gp.compute_model(geo_model, compute_mesh=False)"
    },
    "executionTime": "2019-12-10T11:03:26.548Z"
   },
   {
    "cell": {
     "executionCount": 33,
     "executionEventId": "e7a167a5-accd-4c01-99c6-570210b80ee8",
     "hasError": false,
     "id": "02dc20fc-c5f1-42fc-96f3-bfd98c0a7a73",
     "outputs": [],
     "persistentId": "8085cd16-511e-4ed4-9fe3-f922e3cda9f0",
     "text": "geo_model = gp.create_model('2Layer_model')"
    },
    "executionTime": "2019-12-10T11:12:40.655Z"
   },
   {
    "cell": {
     "executionCount": 34,
     "executionEventId": "6451a955-5774-4585-b176-76d15f893b2e",
     "hasError": false,
     "id": "ad5c6fce-b564-4bb2-baab-d45661be33a6",
     "outputs": [
      {
       "name": "stdout",
       "output_type": "stream",
       "text": "Active grids: ['regular']\n"
      }
     ],
     "persistentId": "1de91be5-79ab-4517-86e5-f7e2d7546830",
     "text": "gp.init_data(geo_model, [0., 10., 0., 10., -10., 0.], [100, 4, 100],\n            path_i = '../data/2Layer_simple_model_interfaces.csv',\n            path_o = '../data/2Layer_simple_model_orientation2.csv');"
    },
    "executionTime": "2019-12-10T11:12:44.787Z"
   },
   {
    "cell": {
     "executionCount": 35,
     "executionEventId": "976fc23f-bca7-493a-a509-1436127b3849",
     "hasError": false,
     "id": "6a26d7ec-00ea-4d6f-a403-1616ff0d31f0",
     "outputs": [
      {
       "data": {
        "text/html": "<style  type=\"text/css\" >\n    #T_fdf3934a_1b3d_11ea_928c_f01898ee72bcrow0_col4 {\n            background-color:  #015482;\n        }    #T_fdf3934a_1b3d_11ea_928c_f01898ee72bcrow1_col4 {\n            background-color:  #9f0052;\n        }    #T_fdf3934a_1b3d_11ea_928c_f01898ee72bcrow2_col4 {\n            background-color:  #ffbe00;\n        }</style><table id=\"T_fdf3934a_1b3d_11ea_928c_f01898ee72bc\" ><thead>    <tr>        <th class=\"blank level0\" ></th>        <th class=\"col_heading level0 col0\" >surface</th>        <th class=\"col_heading level0 col1\" >series</th>        <th class=\"col_heading level0 col2\" >order_surfaces</th>        <th class=\"col_heading level0 col3\" >isBasement</th>        <th class=\"col_heading level0 col4\" >color</th>        <th class=\"col_heading level0 col5\" >id</th>    </tr></thead><tbody>\n                <tr>\n                        <th id=\"T_fdf3934a_1b3d_11ea_928c_f01898ee72bclevel0_row0\" class=\"row_heading level0 row0\" >0</th>\n                        <td id=\"T_fdf3934a_1b3d_11ea_928c_f01898ee72bcrow0_col0\" class=\"data row0 col0\" >surface_1</td>\n                        <td id=\"T_fdf3934a_1b3d_11ea_928c_f01898ee72bcrow0_col1\" class=\"data row0 col1\" >Default series</td>\n                        <td id=\"T_fdf3934a_1b3d_11ea_928c_f01898ee72bcrow0_col2\" class=\"data row0 col2\" >1</td>\n                        <td id=\"T_fdf3934a_1b3d_11ea_928c_f01898ee72bcrow0_col3\" class=\"data row0 col3\" >False</td>\n                        <td id=\"T_fdf3934a_1b3d_11ea_928c_f01898ee72bcrow0_col4\" class=\"data row0 col4\" >#015482</td>\n                        <td id=\"T_fdf3934a_1b3d_11ea_928c_f01898ee72bcrow0_col5\" class=\"data row0 col5\" >1</td>\n            </tr>\n            <tr>\n                        <th id=\"T_fdf3934a_1b3d_11ea_928c_f01898ee72bclevel0_row1\" class=\"row_heading level0 row1\" >1</th>\n                        <td id=\"T_fdf3934a_1b3d_11ea_928c_f01898ee72bcrow1_col0\" class=\"data row1 col0\" >surface_2</td>\n                        <td id=\"T_fdf3934a_1b3d_11ea_928c_f01898ee72bcrow1_col1\" class=\"data row1 col1\" >Default series</td>\n                        <td id=\"T_fdf3934a_1b3d_11ea_928c_f01898ee72bcrow1_col2\" class=\"data row1 col2\" >2</td>\n                        <td id=\"T_fdf3934a_1b3d_11ea_928c_f01898ee72bcrow1_col3\" class=\"data row1 col3\" >False</td>\n                        <td id=\"T_fdf3934a_1b3d_11ea_928c_f01898ee72bcrow1_col4\" class=\"data row1 col4\" >#9f0052</td>\n                        <td id=\"T_fdf3934a_1b3d_11ea_928c_f01898ee72bcrow1_col5\" class=\"data row1 col5\" >2</td>\n            </tr>\n            <tr>\n                        <th id=\"T_fdf3934a_1b3d_11ea_928c_f01898ee72bclevel0_row2\" class=\"row_heading level0 row2\" >2</th>\n                        <td id=\"T_fdf3934a_1b3d_11ea_928c_f01898ee72bcrow2_col0\" class=\"data row2 col0\" >basement</td>\n                        <td id=\"T_fdf3934a_1b3d_11ea_928c_f01898ee72bcrow2_col1\" class=\"data row2 col1\" >Basement</td>\n                        <td id=\"T_fdf3934a_1b3d_11ea_928c_f01898ee72bcrow2_col2\" class=\"data row2 col2\" >1</td>\n                        <td id=\"T_fdf3934a_1b3d_11ea_928c_f01898ee72bcrow2_col3\" class=\"data row2 col3\" >True</td>\n                        <td id=\"T_fdf3934a_1b3d_11ea_928c_f01898ee72bcrow2_col4\" class=\"data row2 col4\" >#ffbe00</td>\n                        <td id=\"T_fdf3934a_1b3d_11ea_928c_f01898ee72bcrow2_col5\" class=\"data row2 col5\" >3</td>\n            </tr>\n    </tbody></table>",
        "text/plain": "     surface          series  order_surfaces  isBasement    color vertices edges  id\n0  surface_1  Default series               1       False  #015482      NaN   NaN   1\n1  surface_2  Default series               2       False  #9f0052      NaN   NaN   2\n2   basement        Basement               1        True  #ffbe00      NaN   NaN   3"
       },
       "execution_count": 35,
       "metadata": {},
       "output_type": "execute_result"
      }
     ],
     "persistentId": "c03906ba-4aef-4552-afa9-393f86a04e4e",
     "text": "geo_model.surfaces"
    },
    "executionTime": "2019-12-10T11:12:45.584Z"
   },
   {
    "cell": {
     "executionCount": 36,
     "executionEventId": "f15d0b08-1e99-4cf5-a1bf-5019ab378fa1",
     "hasError": false,
     "id": "42aa6a28-a2b8-40a3-9d88-384a45e85aee",
     "outputs": [
      {
       "name": "stdout",
       "output_type": "stream",
       "text": "Compiling theano function...\nCompilation Done!\n"
      },
      {
       "data": {
        "text/plain": "<gempy.core.interpolator.InterpolatorModel at 0x7f8d85405f28>"
       },
       "execution_count": 36,
       "metadata": {},
       "output_type": "execute_result"
      }
     ],
     "persistentId": "958935b1-fd45-47c2-a35a-9eafc3670cb2",
     "text": "# Create the theano model\ngp.set_interpolation_data(geo_model,\n                         compile_theano=True,\n                         theano_optimizer='fast_compile',\n                         verbose=[])"
    },
    "executionTime": "2019-12-10T11:12:50.545Z"
   },
   {
    "cell": {
     "executionCount": 37,
     "executionEventId": "87a1affb-5c6f-4ec9-aaf3-b026a52be788",
     "hasError": false,
     "id": "f8c66c5b-aa6c-4c37-825d-4dfd1e3b35e0",
     "outputs": [],
     "persistentId": "ffeeac72-536e-4b3a-9aa8-e88ddce9a059",
     "text": "# Compute the model\nsol = gp.compute_model(geo_model, compute_mesh=False)"
    },
    "executionTime": "2019-12-10T11:12:56.826Z"
   },
   {
    "cell": {
     "executionCount": 38,
     "executionEventId": "5709c0b1-1b64-460c-a8ba-836311507dbc",
     "hasError": false,
     "id": "e88d0498-9c44-438b-a81b-5b7ead3902e5",
     "outputs": [
      {
       "data": {
        "text/plain": "<gempy.plot.visualization_2d.PlotData2D at 0x7f8d8575bf60>"
       },
       "execution_count": 38,
       "metadata": {},
       "output_type": "execute_result"
      },
      {
       "data": {
        "image/png": "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\n",
        "text/plain": "<Figure size 360x360 with 1 Axes>"
       },
       "metadata": {},
       "output_type": "display_data"
      }
     ],
     "persistentId": "6eee44a7-88d0-45f0-8a54-828f3d9c0323",
     "text": "gp.plot.plot_section(geo_model, cell_number=2, direction='y', show_data=True)"
    },
    "executionTime": "2019-12-10T11:12:58.102Z"
   },
   {
    "cell": {
     "executionCount": 39,
     "executionEventId": "6bab4a5d-00ce-4168-b45f-75f36a61eb53",
     "hasError": false,
     "id": "ad5c6fce-b564-4bb2-baab-d45661be33a6",
     "outputs": [
      {
       "name": "stdout",
       "output_type": "stream",
       "text": "Active grids: ['regular']\n"
      }
     ],
     "persistentId": "1de91be5-79ab-4517-86e5-f7e2d7546830",
     "text": "gp.init_data(geo_model, [0., 10., 0., 10., -10., 0.], [100, 4, 100],\n            path_i = '../data/2Layer_simple_model_interfaces.csv',\n            path_o = '../data/2Layer_simple_model_2orientation2.csv');"
    },
    "executionTime": "2019-12-10T11:13:31.593Z"
   },
   {
    "cell": {
     "executionCount": 40,
     "executionEventId": "e46e2f71-3b3c-4db9-92e0-7d4e55effcd7",
     "hasError": false,
     "id": "6a26d7ec-00ea-4d6f-a403-1616ff0d31f0",
     "outputs": [
      {
       "data": {
        "text/html": "<style  type=\"text/css\" >\n    #T_19d39a10_1b3e_11ea_8652_f01898ee72bcrow0_col4 {\n            background-color:  #015482;\n        }    #T_19d39a10_1b3e_11ea_8652_f01898ee72bcrow1_col4 {\n            background-color:  #9f0052;\n        }    #T_19d39a10_1b3e_11ea_8652_f01898ee72bcrow2_col4 {\n            background-color:  #ffbe00;\n        }</style><table id=\"T_19d39a10_1b3e_11ea_8652_f01898ee72bc\" ><thead>    <tr>        <th class=\"blank level0\" ></th>        <th class=\"col_heading level0 col0\" >surface</th>        <th class=\"col_heading level0 col1\" >series</th>        <th class=\"col_heading level0 col2\" >order_surfaces</th>        <th class=\"col_heading level0 col3\" >isBasement</th>        <th class=\"col_heading level0 col4\" >color</th>        <th class=\"col_heading level0 col5\" >id</th>    </tr></thead><tbody>\n                <tr>\n                        <th id=\"T_19d39a10_1b3e_11ea_8652_f01898ee72bclevel0_row0\" class=\"row_heading level0 row0\" >0</th>\n                        <td id=\"T_19d39a10_1b3e_11ea_8652_f01898ee72bcrow0_col0\" class=\"data row0 col0\" >surface_1</td>\n                        <td id=\"T_19d39a10_1b3e_11ea_8652_f01898ee72bcrow0_col1\" class=\"data row0 col1\" >Default series</td>\n                        <td id=\"T_19d39a10_1b3e_11ea_8652_f01898ee72bcrow0_col2\" class=\"data row0 col2\" >1</td>\n                        <td id=\"T_19d39a10_1b3e_11ea_8652_f01898ee72bcrow0_col3\" class=\"data row0 col3\" >False</td>\n                        <td id=\"T_19d39a10_1b3e_11ea_8652_f01898ee72bcrow0_col4\" class=\"data row0 col4\" >#015482</td>\n                        <td id=\"T_19d39a10_1b3e_11ea_8652_f01898ee72bcrow0_col5\" class=\"data row0 col5\" >1</td>\n            </tr>\n            <tr>\n                        <th id=\"T_19d39a10_1b3e_11ea_8652_f01898ee72bclevel0_row1\" class=\"row_heading level0 row1\" >1</th>\n                        <td id=\"T_19d39a10_1b3e_11ea_8652_f01898ee72bcrow1_col0\" class=\"data row1 col0\" >surface_2</td>\n                        <td id=\"T_19d39a10_1b3e_11ea_8652_f01898ee72bcrow1_col1\" class=\"data row1 col1\" >Default series</td>\n                        <td id=\"T_19d39a10_1b3e_11ea_8652_f01898ee72bcrow1_col2\" class=\"data row1 col2\" >2</td>\n                        <td id=\"T_19d39a10_1b3e_11ea_8652_f01898ee72bcrow1_col3\" class=\"data row1 col3\" >False</td>\n                        <td id=\"T_19d39a10_1b3e_11ea_8652_f01898ee72bcrow1_col4\" class=\"data row1 col4\" >#9f0052</td>\n                        <td id=\"T_19d39a10_1b3e_11ea_8652_f01898ee72bcrow1_col5\" class=\"data row1 col5\" >2</td>\n            </tr>\n            <tr>\n                        <th id=\"T_19d39a10_1b3e_11ea_8652_f01898ee72bclevel0_row2\" class=\"row_heading level0 row2\" >2</th>\n                        <td id=\"T_19d39a10_1b3e_11ea_8652_f01898ee72bcrow2_col0\" class=\"data row2 col0\" >basement</td>\n                        <td id=\"T_19d39a10_1b3e_11ea_8652_f01898ee72bcrow2_col1\" class=\"data row2 col1\" >Basement</td>\n                        <td id=\"T_19d39a10_1b3e_11ea_8652_f01898ee72bcrow2_col2\" class=\"data row2 col2\" >1</td>\n                        <td id=\"T_19d39a10_1b3e_11ea_8652_f01898ee72bcrow2_col3\" class=\"data row2 col3\" >True</td>\n                        <td id=\"T_19d39a10_1b3e_11ea_8652_f01898ee72bcrow2_col4\" class=\"data row2 col4\" >#ffbe00</td>\n                        <td id=\"T_19d39a10_1b3e_11ea_8652_f01898ee72bcrow2_col5\" class=\"data row2 col5\" >3</td>\n            </tr>\n    </tbody></table>",
        "text/plain": "     surface          series  order_surfaces  isBasement    color vertices edges  id\n0  surface_1  Default series               1       False  #015482      NaN   NaN   1\n1  surface_2  Default series               2       False  #9f0052      NaN   NaN   2\n2   basement        Basement               1        True  #ffbe00      NaN   NaN   3"
       },
       "execution_count": 40,
       "metadata": {},
       "output_type": "execute_result"
      }
     ],
     "persistentId": "c03906ba-4aef-4552-afa9-393f86a04e4e",
     "text": "geo_model.surfaces"
    },
    "executionTime": "2019-12-10T11:13:32.351Z"
   },
   {
    "cell": {
     "executionCount": 41,
     "executionEventId": "a9c02292-9b4f-458a-89b1-8f8c8c5594a5",
     "hasError": false,
     "id": "42aa6a28-a2b8-40a3-9d88-384a45e85aee",
     "outputs": [
      {
       "name": "stdout",
       "output_type": "stream",
       "text": "Compiling theano function...\nCompilation Done!\n"
      },
      {
       "data": {
        "text/plain": "<gempy.core.interpolator.InterpolatorModel at 0x7f8d85405f28>"
       },
       "execution_count": 41,
       "metadata": {},
       "output_type": "execute_result"
      }
     ],
     "persistentId": "958935b1-fd45-47c2-a35a-9eafc3670cb2",
     "text": "# Create the theano model\ngp.set_interpolation_data(geo_model,\n                         compile_theano=True,\n                         theano_optimizer='fast_compile',\n                         verbose=[])"
    },
    "executionTime": "2019-12-10T11:13:35.521Z"
   },
   {
    "cell": {
     "executionCount": 42,
     "executionEventId": "547d9958-d4c1-4e3f-b5f4-5de0fe70b442",
     "hasError": false,
     "id": "f8c66c5b-aa6c-4c37-825d-4dfd1e3b35e0",
     "outputs": [],
     "persistentId": "ffeeac72-536e-4b3a-9aa8-e88ddce9a059",
     "text": "# Compute the model\nsol = gp.compute_model(geo_model, compute_mesh=False)"
    },
    "executionTime": "2019-12-10T11:13:36.677Z"
   },
   {
    "cell": {
     "executionCount": 43,
     "executionEventId": "720172a5-a619-42bc-8ab2-df05255fd895",
     "hasError": false,
     "id": "e88d0498-9c44-438b-a81b-5b7ead3902e5",
     "outputs": [
      {
       "data": {
        "text/plain": "<gempy.plot.visualization_2d.PlotData2D at 0x7f8dba0946a0>"
       },
       "execution_count": 43,
       "metadata": {},
       "output_type": "execute_result"
      },
      {
       "data": {
        "image/png": "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\n",
        "text/plain": "<Figure size 360x360 with 1 Axes>"
       },
       "metadata": {},
       "output_type": "display_data"
      }
     ],
     "persistentId": "6eee44a7-88d0-45f0-8a54-828f3d9c0323",
     "text": "gp.plot.plot_section(geo_model, cell_number=2, direction='y', show_data=True)"
    },
    "executionTime": "2019-12-10T11:13:37.190Z"
   },
   {
    "cell": {
     "executionCount": 44,
     "executionEventId": "26819cb9-b71f-4cb6-a5ab-23730cf27a47",
     "hasError": false,
     "id": "ad5c6fce-b564-4bb2-baab-d45661be33a6",
     "outputs": [
      {
       "name": "stdout",
       "output_type": "stream",
       "text": "Active grids: ['regular']\n"
      }
     ],
     "persistentId": "1de91be5-79ab-4517-86e5-f7e2d7546830",
     "text": "gp.init_data(geo_model, [0., 10., 0., 10., -10., 0.], [100, 4, 100],\n            path_i = '../data/2Layer_simple_model_interfaces.csv',\n            path_o = '../data/2Layer_simple_model_2orientation.csv');"
    },
    "executionTime": "2019-12-10T11:15:05.569Z"
   },
   {
    "cell": {
     "executionCount": 45,
     "executionEventId": "a4e7526f-822c-4626-bb07-45dd18c98f07",
     "hasError": false,
     "id": "6a26d7ec-00ea-4d6f-a403-1616ff0d31f0",
     "outputs": [
      {
       "data": {
        "text/html": "<style  type=\"text/css\" >\n    #T_51c5be08_1b3e_11ea_9b41_f01898ee72bcrow0_col4 {\n            background-color:  #015482;\n        }    #T_51c5be08_1b3e_11ea_9b41_f01898ee72bcrow1_col4 {\n            background-color:  #9f0052;\n        }    #T_51c5be08_1b3e_11ea_9b41_f01898ee72bcrow2_col4 {\n            background-color:  #ffbe00;\n        }</style><table id=\"T_51c5be08_1b3e_11ea_9b41_f01898ee72bc\" ><thead>    <tr>        <th class=\"blank level0\" ></th>        <th class=\"col_heading level0 col0\" >surface</th>        <th class=\"col_heading level0 col1\" >series</th>        <th class=\"col_heading level0 col2\" >order_surfaces</th>        <th class=\"col_heading level0 col3\" >isBasement</th>        <th class=\"col_heading level0 col4\" >color</th>        <th class=\"col_heading level0 col5\" >id</th>    </tr></thead><tbody>\n                <tr>\n                        <th id=\"T_51c5be08_1b3e_11ea_9b41_f01898ee72bclevel0_row0\" class=\"row_heading level0 row0\" >0</th>\n                        <td id=\"T_51c5be08_1b3e_11ea_9b41_f01898ee72bcrow0_col0\" class=\"data row0 col0\" >surface_1</td>\n                        <td id=\"T_51c5be08_1b3e_11ea_9b41_f01898ee72bcrow0_col1\" class=\"data row0 col1\" >Default series</td>\n                        <td id=\"T_51c5be08_1b3e_11ea_9b41_f01898ee72bcrow0_col2\" class=\"data row0 col2\" >1</td>\n                        <td id=\"T_51c5be08_1b3e_11ea_9b41_f01898ee72bcrow0_col3\" class=\"data row0 col3\" >False</td>\n                        <td id=\"T_51c5be08_1b3e_11ea_9b41_f01898ee72bcrow0_col4\" class=\"data row0 col4\" >#015482</td>\n                        <td id=\"T_51c5be08_1b3e_11ea_9b41_f01898ee72bcrow0_col5\" class=\"data row0 col5\" >1</td>\n            </tr>\n            <tr>\n                        <th id=\"T_51c5be08_1b3e_11ea_9b41_f01898ee72bclevel0_row1\" class=\"row_heading level0 row1\" >1</th>\n                        <td id=\"T_51c5be08_1b3e_11ea_9b41_f01898ee72bcrow1_col0\" class=\"data row1 col0\" >surface_2</td>\n                        <td id=\"T_51c5be08_1b3e_11ea_9b41_f01898ee72bcrow1_col1\" class=\"data row1 col1\" >Default series</td>\n                        <td id=\"T_51c5be08_1b3e_11ea_9b41_f01898ee72bcrow1_col2\" class=\"data row1 col2\" >2</td>\n                        <td id=\"T_51c5be08_1b3e_11ea_9b41_f01898ee72bcrow1_col3\" class=\"data row1 col3\" >False</td>\n                        <td id=\"T_51c5be08_1b3e_11ea_9b41_f01898ee72bcrow1_col4\" class=\"data row1 col4\" >#9f0052</td>\n                        <td id=\"T_51c5be08_1b3e_11ea_9b41_f01898ee72bcrow1_col5\" class=\"data row1 col5\" >2</td>\n            </tr>\n            <tr>\n                        <th id=\"T_51c5be08_1b3e_11ea_9b41_f01898ee72bclevel0_row2\" class=\"row_heading level0 row2\" >2</th>\n                        <td id=\"T_51c5be08_1b3e_11ea_9b41_f01898ee72bcrow2_col0\" class=\"data row2 col0\" >basement</td>\n                        <td id=\"T_51c5be08_1b3e_11ea_9b41_f01898ee72bcrow2_col1\" class=\"data row2 col1\" >Basement</td>\n                        <td id=\"T_51c5be08_1b3e_11ea_9b41_f01898ee72bcrow2_col2\" class=\"data row2 col2\" >1</td>\n                        <td id=\"T_51c5be08_1b3e_11ea_9b41_f01898ee72bcrow2_col3\" class=\"data row2 col3\" >True</td>\n                        <td id=\"T_51c5be08_1b3e_11ea_9b41_f01898ee72bcrow2_col4\" class=\"data row2 col4\" >#ffbe00</td>\n                        <td id=\"T_51c5be08_1b3e_11ea_9b41_f01898ee72bcrow2_col5\" class=\"data row2 col5\" >3</td>\n            </tr>\n    </tbody></table>",
        "text/plain": "     surface          series  order_surfaces  isBasement    color vertices edges  id\n0  surface_1  Default series               1       False  #015482      NaN   NaN   1\n1  surface_2  Default series               2       False  #9f0052      NaN   NaN   2\n2   basement        Basement               1        True  #ffbe00      NaN   NaN   3"
       },
       "execution_count": 45,
       "metadata": {},
       "output_type": "execute_result"
      }
     ],
     "persistentId": "c03906ba-4aef-4552-afa9-393f86a04e4e",
     "text": "geo_model.surfaces"
    },
    "executionTime": "2019-12-10T11:15:06.213Z"
   },
   {
    "cell": {
     "executionCount": 46,
     "executionEventId": "9b702d9e-4cdc-4b78-a949-1b877b6ea3d8",
     "hasError": false,
     "id": "42aa6a28-a2b8-40a3-9d88-384a45e85aee",
     "outputs": [
      {
       "name": "stdout",
       "output_type": "stream",
       "text": "Compiling theano function...\nCompilation Done!\n"
      },
      {
       "data": {
        "text/plain": "<gempy.core.interpolator.InterpolatorModel at 0x7f8d85405f28>"
       },
       "execution_count": 46,
       "metadata": {},
       "output_type": "execute_result"
      }
     ],
     "persistentId": "958935b1-fd45-47c2-a35a-9eafc3670cb2",
     "text": "# Create the theano model\ngp.set_interpolation_data(geo_model,\n                         compile_theano=True,\n                         theano_optimizer='fast_compile',\n                         verbose=[])"
    },
    "executionTime": "2019-12-10T11:15:09.426Z"
   },
   {
    "cell": {
     "executionCount": 47,
     "executionEventId": "80f9303a-6429-445e-b6cd-3ce558d5bdce",
     "hasError": false,
     "id": "f8c66c5b-aa6c-4c37-825d-4dfd1e3b35e0",
     "outputs": [],
     "persistentId": "ffeeac72-536e-4b3a-9aa8-e88ddce9a059",
     "text": "# Compute the model\nsol = gp.compute_model(geo_model, compute_mesh=False)"
    },
    "executionTime": "2019-12-10T11:15:09.512Z"
   },
   {
    "cell": {
     "executionCount": 48,
     "executionEventId": "8a83f4cb-b178-46fd-8bb9-631cbae88d3d",
     "hasError": false,
     "id": "e88d0498-9c44-438b-a81b-5b7ead3902e5",
     "outputs": [
      {
       "data": {
        "text/plain": "<gempy.plot.visualization_2d.PlotData2D at 0x7f8d862790f0>"
       },
       "execution_count": 48,
       "metadata": {},
       "output_type": "execute_result"
      },
      {
       "data": {
        "image/png": "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\n",
        "text/plain": "<Figure size 360x360 with 1 Axes>"
       },
       "metadata": {},
       "output_type": "display_data"
      }
     ],
     "persistentId": "6eee44a7-88d0-45f0-8a54-828f3d9c0323",
     "text": "gp.plot.plot_section(geo_model, cell_number=2, direction='y', show_data=True)"
    },
    "executionTime": "2019-12-10T11:15:11.728Z"
   },
   {
    "cell": {
     "executionCount": 49,
     "executionEventId": "2cc73915-8cf9-40d1-ab80-94642d73fad7",
     "hasError": false,
     "id": "a773329c-7992-4936-a553-0d598e065faf",
     "outputs": [
      {
       "data": {
        "text/html": "<style  type=\"text/css\" >\n    #T_5aca43a2_1b3e_11ea_a2f5_f01898ee72bcrow0_col4 {\n            background-color:  #015482;\n        }    #T_5aca43a2_1b3e_11ea_a2f5_f01898ee72bcrow1_col4 {\n            background-color:  #9f0052;\n        }    #T_5aca43a2_1b3e_11ea_a2f5_f01898ee72bcrow2_col4 {\n            background-color:  #ffbe00;\n        }</style><table id=\"T_5aca43a2_1b3e_11ea_a2f5_f01898ee72bc\" ><thead>    <tr>        <th class=\"blank level0\" ></th>        <th class=\"col_heading level0 col0\" >surface</th>        <th class=\"col_heading level0 col1\" >series</th>        <th class=\"col_heading level0 col2\" >order_surfaces</th>        <th class=\"col_heading level0 col3\" >isBasement</th>        <th class=\"col_heading level0 col4\" >color</th>        <th class=\"col_heading level0 col5\" >id</th>    </tr></thead><tbody>\n                <tr>\n                        <th id=\"T_5aca43a2_1b3e_11ea_a2f5_f01898ee72bclevel0_row0\" class=\"row_heading level0 row0\" >0</th>\n                        <td id=\"T_5aca43a2_1b3e_11ea_a2f5_f01898ee72bcrow0_col0\" class=\"data row0 col0\" >surface_1</td>\n                        <td id=\"T_5aca43a2_1b3e_11ea_a2f5_f01898ee72bcrow0_col1\" class=\"data row0 col1\" >Series_1</td>\n                        <td id=\"T_5aca43a2_1b3e_11ea_a2f5_f01898ee72bcrow0_col2\" class=\"data row0 col2\" >1</td>\n                        <td id=\"T_5aca43a2_1b3e_11ea_a2f5_f01898ee72bcrow0_col3\" class=\"data row0 col3\" >False</td>\n                        <td id=\"T_5aca43a2_1b3e_11ea_a2f5_f01898ee72bcrow0_col4\" class=\"data row0 col4\" >#015482</td>\n                        <td id=\"T_5aca43a2_1b3e_11ea_a2f5_f01898ee72bcrow0_col5\" class=\"data row0 col5\" >1</td>\n            </tr>\n            <tr>\n                        <th id=\"T_5aca43a2_1b3e_11ea_a2f5_f01898ee72bclevel0_row1\" class=\"row_heading level0 row1\" >1</th>\n                        <td id=\"T_5aca43a2_1b3e_11ea_a2f5_f01898ee72bcrow1_col0\" class=\"data row1 col0\" >surface_2</td>\n                        <td id=\"T_5aca43a2_1b3e_11ea_a2f5_f01898ee72bcrow1_col1\" class=\"data row1 col1\" >Series_2</td>\n                        <td id=\"T_5aca43a2_1b3e_11ea_a2f5_f01898ee72bcrow1_col2\" class=\"data row1 col2\" >1</td>\n                        <td id=\"T_5aca43a2_1b3e_11ea_a2f5_f01898ee72bcrow1_col3\" class=\"data row1 col3\" >False</td>\n                        <td id=\"T_5aca43a2_1b3e_11ea_a2f5_f01898ee72bcrow1_col4\" class=\"data row1 col4\" >#9f0052</td>\n                        <td id=\"T_5aca43a2_1b3e_11ea_a2f5_f01898ee72bcrow1_col5\" class=\"data row1 col5\" >2</td>\n            </tr>\n            <tr>\n                        <th id=\"T_5aca43a2_1b3e_11ea_a2f5_f01898ee72bclevel0_row2\" class=\"row_heading level0 row2\" >2</th>\n                        <td id=\"T_5aca43a2_1b3e_11ea_a2f5_f01898ee72bcrow2_col0\" class=\"data row2 col0\" >basement</td>\n                        <td id=\"T_5aca43a2_1b3e_11ea_a2f5_f01898ee72bcrow2_col1\" class=\"data row2 col1\" >Basement</td>\n                        <td id=\"T_5aca43a2_1b3e_11ea_a2f5_f01898ee72bcrow2_col2\" class=\"data row2 col2\" >1</td>\n                        <td id=\"T_5aca43a2_1b3e_11ea_a2f5_f01898ee72bcrow2_col3\" class=\"data row2 col3\" >True</td>\n                        <td id=\"T_5aca43a2_1b3e_11ea_a2f5_f01898ee72bcrow2_col4\" class=\"data row2 col4\" >#ffbe00</td>\n                        <td id=\"T_5aca43a2_1b3e_11ea_a2f5_f01898ee72bcrow2_col5\" class=\"data row2 col5\" >3</td>\n            </tr>\n    </tbody></table>",
        "text/plain": "     surface    series  order_surfaces  isBasement    color vertices edges  id\n0  surface_1  Series_1               1       False  #015482      NaN   NaN   1\n1  surface_2  Series_2               1       False  #9f0052      NaN   NaN   2\n2   basement  Basement               1        True  #ffbe00      NaN   NaN   3"
       },
       "execution_count": 49,
       "metadata": {},
       "output_type": "execute_result"
      }
     ],
     "persistentId": "214fa5e0-ddbb-47a9-b305-0d62e6aa4970",
     "text": "gp.map_series_to_surfaces(geo_model,\n                         {\"Series_1\": 'surface_1',\n                         \"Series_2\": 'surface_2'})"
    },
    "executionTime": "2019-12-10T11:15:21.341Z"
   },
   {
    "cell": {
     "executionCount": 50,
     "executionEventId": "0d094b40-7811-48fe-b939-1330c851dffa",
     "hasError": false,
     "id": "8be7dcd4-c2dc-415f-a706-f2a0622e1e2a",
     "outputs": [
      {
       "name": "stdout",
       "output_type": "stream",
       "text": "Compiling theano function...\nCompilation Done!\n"
      },
      {
       "data": {
        "text/plain": "<gempy.core.interpolator.InterpolatorModel at 0x7f8d85405f28>"
       },
       "execution_count": 50,
       "metadata": {},
       "output_type": "execute_result"
      }
     ],
     "persistentId": "958935b1-fd45-47c2-a35a-9eafc3670cb2",
     "text": "# Create the theano model\ngp.set_interpolation_data(geo_model,\n                         compile_theano=True,\n                         theano_optimizer='fast_compile',\n                         verbose=[])"
    },
    "executionTime": "2019-12-10T11:15:26.358Z"
   },
   {
    "cell": {
     "executionCount": 51,
     "executionEventId": "38ccc544-4708-4bdd-8b30-5e4fec2215ca",
     "hasError": false,
     "id": "016dc0f5-1c64-43a2-b32a-4d5178fcb015",
     "outputs": [],
     "persistentId": "ffeeac72-536e-4b3a-9aa8-e88ddce9a059",
     "text": "# Compute the model\nsol = gp.compute_model(geo_model, compute_mesh=False)"
    },
    "executionTime": "2019-12-10T11:15:27.641Z"
   },
   {
    "cell": {
     "executionCount": 52,
     "executionEventId": "62bc510a-6396-4046-b8ce-a91e9b4259f7",
     "hasError": false,
     "id": "4eec0986-5cec-4728-affb-71e1d47bd88b",
     "outputs": [
      {
       "data": {
        "text/plain": "<gempy.plot.visualization_2d.PlotData2D at 0x7f8d86a95b38>"
       },
       "execution_count": 52,
       "metadata": {},
       "output_type": "execute_result"
      },
      {
       "data": {
        "image/png": "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\n",
        "text/plain": "<Figure size 360x360 with 1 Axes>"
       },
       "metadata": {},
       "output_type": "display_data"
      }
     ],
     "persistentId": "6eee44a7-88d0-45f0-8a54-828f3d9c0323",
     "text": "gp.plot.plot_section(geo_model, cell_number=2, direction='y', show_data=True)"
    },
    "executionTime": "2019-12-10T11:15:29.809Z"
   },
   {
    "cell": {
     "executionCount": 53,
     "executionEventId": "4a01894d-0b66-47ae-80fc-e9457f021cc7",
     "hasError": false,
     "id": "02dc20fc-c5f1-42fc-96f3-bfd98c0a7a73",
     "outputs": [],
     "persistentId": "8085cd16-511e-4ed4-9fe3-f922e3cda9f0",
     "text": "geo_model = gp.create_model('2Layer_model')"
    },
    "executionTime": "2019-12-10T11:15:51.434Z"
   },
   {
    "cell": {
     "executionCount": 54,
     "executionEventId": "8d4f460a-9ef1-4b1e-a4af-ab3df260168d",
     "hasError": false,
     "id": "ad5c6fce-b564-4bb2-baab-d45661be33a6",
     "outputs": [
      {
       "name": "stdout",
       "output_type": "stream",
       "text": "Active grids: ['regular']\n"
      }
     ],
     "persistentId": "1de91be5-79ab-4517-86e5-f7e2d7546830",
     "text": "gp.init_data(geo_model, [0., 10., 0., 10., -10., 0.], [100, 4, 100],\n            path_i = '../data/2Layer_simple_model_interfaces.csv',\n            path_o = '../data/2Layer_simple_model_2orientation2.csv');"
    },
    "executionTime": "2019-12-10T11:15:51.868Z"
   },
   {
    "cell": {
     "executionCount": 55,
     "executionEventId": "2bba9a7e-f67c-47e7-bbee-71924c124b80",
     "hasError": false,
     "id": "6a26d7ec-00ea-4d6f-a403-1616ff0d31f0",
     "outputs": [
      {
       "data": {
        "text/html": "<style  type=\"text/css\" >\n    #T_6d1310d4_1b3e_11ea_88bd_f01898ee72bcrow0_col4 {\n            background-color:  #015482;\n        }    #T_6d1310d4_1b3e_11ea_88bd_f01898ee72bcrow1_col4 {\n            background-color:  #9f0052;\n        }    #T_6d1310d4_1b3e_11ea_88bd_f01898ee72bcrow2_col4 {\n            background-color:  #ffbe00;\n        }</style><table id=\"T_6d1310d4_1b3e_11ea_88bd_f01898ee72bc\" ><thead>    <tr>        <th class=\"blank level0\" ></th>        <th class=\"col_heading level0 col0\" >surface</th>        <th class=\"col_heading level0 col1\" >series</th>        <th class=\"col_heading level0 col2\" >order_surfaces</th>        <th class=\"col_heading level0 col3\" >isBasement</th>        <th class=\"col_heading level0 col4\" >color</th>        <th class=\"col_heading level0 col5\" >id</th>    </tr></thead><tbody>\n                <tr>\n                        <th id=\"T_6d1310d4_1b3e_11ea_88bd_f01898ee72bclevel0_row0\" class=\"row_heading level0 row0\" >0</th>\n                        <td id=\"T_6d1310d4_1b3e_11ea_88bd_f01898ee72bcrow0_col0\" class=\"data row0 col0\" >surface_1</td>\n                        <td id=\"T_6d1310d4_1b3e_11ea_88bd_f01898ee72bcrow0_col1\" class=\"data row0 col1\" >Default series</td>\n                        <td id=\"T_6d1310d4_1b3e_11ea_88bd_f01898ee72bcrow0_col2\" class=\"data row0 col2\" >1</td>\n                        <td id=\"T_6d1310d4_1b3e_11ea_88bd_f01898ee72bcrow0_col3\" class=\"data row0 col3\" >False</td>\n                        <td id=\"T_6d1310d4_1b3e_11ea_88bd_f01898ee72bcrow0_col4\" class=\"data row0 col4\" >#015482</td>\n                        <td id=\"T_6d1310d4_1b3e_11ea_88bd_f01898ee72bcrow0_col5\" class=\"data row0 col5\" >1</td>\n            </tr>\n            <tr>\n                        <th id=\"T_6d1310d4_1b3e_11ea_88bd_f01898ee72bclevel0_row1\" class=\"row_heading level0 row1\" >1</th>\n                        <td id=\"T_6d1310d4_1b3e_11ea_88bd_f01898ee72bcrow1_col0\" class=\"data row1 col0\" >surface_2</td>\n                        <td id=\"T_6d1310d4_1b3e_11ea_88bd_f01898ee72bcrow1_col1\" class=\"data row1 col1\" >Default series</td>\n                        <td id=\"T_6d1310d4_1b3e_11ea_88bd_f01898ee72bcrow1_col2\" class=\"data row1 col2\" >2</td>\n                        <td id=\"T_6d1310d4_1b3e_11ea_88bd_f01898ee72bcrow1_col3\" class=\"data row1 col3\" >False</td>\n                        <td id=\"T_6d1310d4_1b3e_11ea_88bd_f01898ee72bcrow1_col4\" class=\"data row1 col4\" >#9f0052</td>\n                        <td id=\"T_6d1310d4_1b3e_11ea_88bd_f01898ee72bcrow1_col5\" class=\"data row1 col5\" >2</td>\n            </tr>\n            <tr>\n                        <th id=\"T_6d1310d4_1b3e_11ea_88bd_f01898ee72bclevel0_row2\" class=\"row_heading level0 row2\" >2</th>\n                        <td id=\"T_6d1310d4_1b3e_11ea_88bd_f01898ee72bcrow2_col0\" class=\"data row2 col0\" >basement</td>\n                        <td id=\"T_6d1310d4_1b3e_11ea_88bd_f01898ee72bcrow2_col1\" class=\"data row2 col1\" >Basement</td>\n                        <td id=\"T_6d1310d4_1b3e_11ea_88bd_f01898ee72bcrow2_col2\" class=\"data row2 col2\" >1</td>\n                        <td id=\"T_6d1310d4_1b3e_11ea_88bd_f01898ee72bcrow2_col3\" class=\"data row2 col3\" >True</td>\n                        <td id=\"T_6d1310d4_1b3e_11ea_88bd_f01898ee72bcrow2_col4\" class=\"data row2 col4\" >#ffbe00</td>\n                        <td id=\"T_6d1310d4_1b3e_11ea_88bd_f01898ee72bcrow2_col5\" class=\"data row2 col5\" >3</td>\n            </tr>\n    </tbody></table>",
        "text/plain": "     surface          series  order_surfaces  isBasement    color vertices edges  id\n0  surface_1  Default series               1       False  #015482      NaN   NaN   1\n1  surface_2  Default series               2       False  #9f0052      NaN   NaN   2\n2   basement        Basement               1        True  #ffbe00      NaN   NaN   3"
       },
       "execution_count": 55,
       "metadata": {},
       "output_type": "execute_result"
      }
     ],
     "persistentId": "c03906ba-4aef-4552-afa9-393f86a04e4e",
     "text": "geo_model.surfaces"
    },
    "executionTime": "2019-12-10T11:15:52.026Z"
   },
   {
    "cell": {
     "executionCount": 56,
     "executionEventId": "465edd6c-2bf0-4032-929a-ac62c1820e66",
     "hasError": false,
     "id": "42aa6a28-a2b8-40a3-9d88-384a45e85aee",
     "outputs": [
      {
       "name": "stdout",
       "output_type": "stream",
       "text": "Compiling theano function...\nCompilation Done!\n"
      },
      {
       "data": {
        "text/plain": "<gempy.core.interpolator.InterpolatorModel at 0x7f8dc0d96240>"
       },
       "execution_count": 56,
       "metadata": {},
       "output_type": "execute_result"
      }
     ],
     "persistentId": "958935b1-fd45-47c2-a35a-9eafc3670cb2",
     "text": "# Create the theano model\ngp.set_interpolation_data(geo_model,\n                         compile_theano=True,\n                         theano_optimizer='fast_compile',\n                         verbose=[])"
    },
    "executionTime": "2019-12-10T11:15:55.038Z"
   },
   {
    "cell": {
     "executionCount": 57,
     "executionEventId": "b12fe2a7-3a94-439a-9db8-d850b91aba28",
     "hasError": false,
     "id": "f8c66c5b-aa6c-4c37-825d-4dfd1e3b35e0",
     "outputs": [],
     "persistentId": "ffeeac72-536e-4b3a-9aa8-e88ddce9a059",
     "text": "# Compute the model\nsol = gp.compute_model(geo_model, compute_mesh=False)"
    },
    "executionTime": "2019-12-10T11:15:55.121Z"
   },
   {
    "cell": {
     "executionCount": 58,
     "executionEventId": "530ed12f-a603-4324-818c-4d61e66a687e",
     "hasError": false,
     "id": "e88d0498-9c44-438b-a81b-5b7ead3902e5",
     "outputs": [
      {
       "data": {
        "text/plain": "<gempy.plot.visualization_2d.PlotData2D at 0x7f8d874d1630>"
       },
       "execution_count": 58,
       "metadata": {},
       "output_type": "execute_result"
      },
      {
       "data": {
        "image/png": "iVBORw0KGgoAAAANSUhEUgAAAeoAAAFRCAYAAAC7YO6MAAAABHNCSVQICAgIfAhkiAAAAAlwSFlzAAALEgAACxIB0t1+/AAAADh0RVh0U29mdHdhcmUAbWF0cGxvdGxpYiB2ZXJzaW9uMy4xLjAsIGh0dHA6Ly9tYXRwbG90bGliLm9yZy+17YcXAAAgAElEQVR4nO3de1hVZcL+8e8GxQMQisp4wFDJzAOoSKigpuXZHA/Zq2aWFmaFv4mM8pDOVJOZaZqS0ZinUnTQ3hErJdNXS8uZFB2txoI8JKCJTghxUI7794cDIwmInNbam/tzXV3XtJ7F4t7tPfvmefbaa1msVqsVERERMSUHowOIiIhI6VTUIiIiJqaiFhERMTEVtYiIiImpqEVERExMRS0iImJidlXUn3zyCSNGjMDX15dhw4YRHR1tdCQREZFKsZuijomJISwsjKCgIFauXElAQACzZs3i008/NTqaiIhIhVns5YIngwYNokuXLixbtqxoW2hoKHFxccTExBiYTEREpOLsYkadmJhIQkICgwcPLrZ9yJAhnD59msTERIOSiYiIVE4dowNUhdOnTwPQtm3bYtu9vLwAOHPmDK1bty7zGP7+/mWOZ2Rk0KJFC/bt21eJpCIiIrfGLoo6PT0dABcXl2LbnZ2dgWslW1lWq5XEC5dwePDPlT6WiNiXgq3zjY4gdswuirrwY3aLxVLidgeHm6/wx8bGljnu7+9PaubVCiYUERGpGLv4jNrV1RW4ceacmZlZbFxERMTW2EVRF342nZCQUGz72bNni42LiIjYGrsoai8vLzw9PW/4zvRnn31GmzZtaNmypUHJREREKscuPqMGCAkJYc6cObi5udG/f3/27t1LTExMse9Vi4iI2Bq7KeqxY8eSk5PD2rVr2bp1K61bt2bRokUMHz7c6GgiIiIVZjdFDTBhwgQmTJhgdAwREZEqYxefUYuIiH1LTk5m8uTJ+Pj4EBgYSHZ2ttGRyrRo0SKmTJlSJceyqxm1iIjYpw0bNnD06FEWL15M8+bNqVevntGRSrVx40bWrl1L7969q+R4KmoRETuQlJTEhshNRG3bTlpqGm6N3Bg/ZhSTJz2Ep6en0fEqLTU1FQ8PD1Ofd5ScnMwbb7zBzp07q/T6HVr6FhGxcQcPHmTwqAdY8/m3WP1G0WTkH7D6jWLN598yeNQDHDx4sMayfPfddzz66KP06NGD7t27M2XKFI4dOwbA5MmTb1gO/vrrr+nQoUPR1SHDw8MZOnQoK1asoGfPngwZMoSePXuydetWzp8/T4cOHQgPDwfg+++/JyQkhF69etG5c2f69evHggULii2L5+Tk8NZbb3HvvffStWtXRo4cyc6dO4tl2L17N2PHjsXHx4c+ffqwaNEicnJybvmxL1u2jBMnTrBu3To6dux4yz9fGs2oRURsWFJSEsH/71ksvsNo7PHfmbOTqztOvveQddGb4P/3LJ9t/99qn1lnZGQQHBxMr169CA8PJycnh4iICIKDg/n888/LfZzExET27dvH0qVL+fXXX/Hy8iI8PJxvv/2Wt99+m+bNm5OcnMykSZPw8/Nj0aJF1K1bl/3797Nu3To8PDyYNm0aAGFhYezfv5+nn34aHx8fdu/ezcyZM2nQoAEDBgzg448/JiwsjNGjRxMaGkpCQgJLly4lKSmp6A+C8goODqZdu3Y4ODiwcuXKW/rZsqioRURs2IbITeR43FmspK/X0MOTy83aszFyE7NnvVCtWU6ePMnly5d55JFH8PPzA6Bdu3ZERUUVXdK5PPLy8pg9ezY9e/Ys2ubu7o6TkxPdunUDYP/+/XTq1Inly5cX3YApMDCQr776isOHDzNt2jTi4+PZtWsXf/zjH5k0aRIAvXv3JiEhga+//pr+/fuzZMkSBgwYwKJFi4p+V/PmzQkJCeHIkSP06NGj3LnvuOOOcu97K1TUIiI2LGrbdpz9RpW5j3M7X6K2ba/2om7fvj3u7u48+eSTDB06lL59+xIUFMTzzz9/y8e68847yxzv168f/fr1Izc3l5MnT3L27Fni4+NJSUmhadOmABw5cgSAQYMGFfvZ1atXA3Dq1CkuXLhASEgIeXl5ReN9+/albt26HDx48JaKurqoqEVEbFhaahpNnBuVuU9dZzdSUtOqPYuzszORkZFEREQQExNDVFQU9evXZ9SoUcybN6/cx3F0dKRx48Zl7lNQUMDSpUuJjIwkKyuLFi1a4OvrS7169YrunJiamgpAkyZNSjxG4fj8+fOZP//GW5VevHix3Jmrk4paRMSGuTVyIzczFSdX91L3yc28dhZ4TWjXrh2LFy8mPz+fb775hu3bt7N582batGkDQH5+frH9s7KyKvR7Vq1axfr163nllVcYNGhQ0VnW48aNK9qncFtKSgrNmjUr2h4fH8+VK1eKxufMmVPizPlmfyzUFJ31LSJiw8aPGUXmmW/L3Cfz9DeMH1P28nhV2L17N7169eLSpUs4OjrSvXt3XnrpJW677TZ+/vlnXFxcuHDhQrGfKVyevlVHjhyhQ4cOjB07tqhwk5OTiY+Pp6CgAKCofPft21fsZxcsWMDSpUvx9vbG3d2dc+fO4ePjU/RP48aNWbJkCadOnapQtqqmGbWIiA2bPOkhNmx5gKyL3jQs4YSyrItJOF36kYcnvV7tWfz8/LBarYSEhPDEE0/g7OxMTEwMGRkZDB48mDNnzrB3715ef/11BgwYQGxsLNHR0RX6Xb6+vrzzzju89957dO3albNnz/KXv/yFnJwcrly5AkDHjh0ZPHgwCxcuJCsriw4dOrBnzx4OHTrEmjVrcHR0JDQ0lJdffhkHBwf69etHWloaK1asID09nU6dOlXlf54KU1GLiNgwT09PVocvI/j/PcvlZu1xbudLXWc3cjPTyDz9DU6XfmR1+LIauehJkyZNWLNmDcuWLePFF1/kypUrtG/fnvDwcO6++278/PxISEhg27ZtbNq0iYCAAFasWMHEiRNv+XdNnz6dy5cv8/7775Oenk6LFi0YNWoUFouFVatWkZGRgYuLC2+++SbLly9n7dq1pKWl4e3tTUREBIGBgQCMHz8eFxcXVq9ezaZNm3BxceHuu+9m5syZxZbLjWSxFn7qLmXy9/cnNfMqp7uMNzqKiJhMwdYbT0SqaUlJSWws4cpkD9vJlclqMxV1OamoRaQ0ZihqqR75+fncrCYtFguOjo7VlkFL3yIiIqUYNGgQ586dK3OfgIAANmzYUG0ZVNQiIiKliIiIuOl1vwuvjFZdVNQiIiKl6NChg9ER9D1qERERM1NRi4iImJiKWkRExMRU1CIiIiamohYRETExFbWIiIiJqahFRMT0kpOTmTx5Mj4+PgQGBpKdnW10pBtcunSJefPmMWDAALp3787YsWOJiYmp9HH1PWoRETG9DRs2cPToURYvXkzz5s2pV6+e0ZGKycnJITg4mPT0dP7whz/g4eHBrl27CA0NJT8/n/vvv7/Cx1ZRi4jYgaSkJDZviOTjqL+RmpZGIzc3Ro4fy8TJk+ziphypqal4eHgwfPhwo6OUaP/+/fzwww9s3boVX19fAIKCgjh//jzvvfdepYpaS98iIjbu4MGD/M/g33Nm9T6mFvjxivv9TC3w48zqffzP4N9z8ODBGsvy3Xff8eijj9KjRw+6d+/OlClTOHbsGACTJ09mypQpxfb/+uuv6dChA7GxsQCEh4czdOhQVqxYQc+ePRkyZAg9e/Zk69atnD9/ng4dOhAeHg7A999/T0hICL169aJz587069ePBQsWFFsWz8nJ4a233uLee++la9eujBw5kp07dxbLsHv3bsaOHYuPjw99+vRh0aJFN71s6G85Ozszfvx4fHx8im1v164dCQkJt3Ss39KMWkTEhiUlJREWPIMJ+NK2sUfR9qZOrgxz8uWurIuEBc9gy2cfVfvMOiMjg+DgYHr16kV4eDg5OTlEREQQHBzM559/Xu7jJCYmsm/fPpYuXcqvv/6Kl5cX4eHhfPvtt7z99ts0b96c5ORkJk2ahJ+fH4sWLaJu3brs37+fdevW4eHhwbRp0wAICwtj//79PP300/j4+LB7925mzpxJgwYNGDBgAB9//DFhYWGMHj2a0NBQEhISWLp0KUlJSUV/EJRH79696d27d7Ftubm5fPHFF7Rv377cxymJilpExIZt3hBJt2yPYiV9vbYNPeh6uRmbN0by/OxZ1Zrl5MmTXL58mUceeQQ/Pz/g2owyKiqKzMzMch8nLy+P2bNn07Nnz6Jt7u7uODk50a1bN+DaUnOnTp1Yvnx50U0xAgMD+eqrrzh8+DDTpk0jPj6eXbt28cc//pFJkyYB1wo1ISGBr7/+mv79+7NkyRIGDBjAokWLin5X8+bNCQkJ4ciRI/To0aPC/z2WLFnCTz/9xMqVKyt8DFBRi4jYtI+j/sZUZ78y9wlwbse6qG3VXtTt27fH3d2dJ598kqFDh9K3b1+CgoJ4/vnnb/lYd955Z5nj/fr1o1+/fuTm5nLy5EnOnj1LfHw8KSkpNG3aFIAjR44A125Veb3Vq1cDcOrUKS5cuEBISAh5eXlF43379qVu3bocPHiwQkVttVpZvHgx69ev5/HHH2fgwIG3fIzrqahFRGxYaloajd3Lvs1i47rOpF5OrfYszs7OREZGEhERQUxMDFFRUdSvX59Ro0Yxb968ch/H0dGRxo0bl7lPQUEBS5cuJTIykqysLFq0aIGvry/16tXDarUC105AA2jSpEmJxygcnz9/PvPnz79h/OLFi+XOXCgnJ4fZs2ezY8cOHn/8cV544YVbPsZvqahFRGxYIzc3Ludm0tTJtdR9Ludm0sitUY3kadeuHYsXLyY/P59vvvmG7du3s3nzZtq0aQNAfn5+sf2zsrIq9HtWrVrF+vXreeWVVxg0aBCurtce/7hx44r2KdyWkpJCs2bNirbHx8dz5cqVovE5c+aUOHO+2R8Lv5WRkcH06dM5evQoc+fO5dFHH73lx1USnfUtImLDRo4fy+HMM2XucyjzNCPHj6n2LLt376ZXr15cunQJR0dHunfvzksvvcRtt93Gzz//jIuLCxcuXCj2M4XL07fqyJEjdOjQgbFjxxYVbnJyMvHx8RQUFAAUle++ffuK/eyCBQtYunQp3t7euLu7c+7cOXx8fIr+ady4MUuWLOHUqVPlzpOfn89TTz3F8ePHWbp0aZWVNGhGLSJi0yZOnsT/bIjirqyLtG144wllZ7IucrzeJV58eFK1Z/Hz88NqtRISEsITTzyBs7MzMTExZGRkMHjwYM6cOcPevXt5/fXXGTBgALGxsURHR1fod/n6+vLOO+/w3nvv0bVrV86ePctf/vIXcnJyuHLlCgAdO3Zk8ODBLFy4kKysLDp06MCePXs4dOgQa9aswdHRkdDQUF5++WUcHBzo168faWlprFixgvT0dDp16lTuPH/96185dOgQ48ePp0WLFkVfSQOwWCx07dq1Qo8TVNQiIjbN09OTJavfJix4Bl0vNyPAuR2N6zpzOTeTQ5mnOV7vEktWv10jFz1p0qQJa9asYdmyZbz44otcuXKF9u3bEx4ezt13342fnx8JCQls27aNTZs2ERAQwIoVK5g4ceIt/67p06dz+fJl3n//fdLT02nRogWjRo3CYrGwatUqMjIycHFx4c0332T58uWsXbuWtLQ0vL29iYiIIDAwEIDx48fj4uLC6tWr2bRpEy4uLtx9993MnDmz2HL5zezatQuAqKgooqKiio05Ojpy4sSJW36MhSzWwk/dpUz+/v6kZl7ldJfxRkcREZMp2HrjiUg1LSkpic0bI/k4ahupaak0cmvEyPFjmPiwfVyZrDZTUZeTilpESmOGopbqkZ+fz81q0mKx4OjoWG0ZtPQtIiJSikGDBnHu3Lky9wkICGDDhg3VlkFFLSIiUoqIiIibXve78Mpo1UVFLSIiUooOHToYHcE+vkddXTfrFhERMZrNz6ir82bdIiIiRrP5oq7Om3WLiIgYzeaXvqvzZt0iIiJGs/kZdVXdrNvf37/M8fT0dHCoW6GMIiIiFWXqos7Ly2PHjh2ljjdt2pSgoKAbtlfVzbpFRESMZuqizs7OLvNengEBAcWKujI3646NjS1zvPDKZCIiIjXJ1EXt7OxMXFxcufatjpt1i4iIGM3URV1e1XWzbhEREaPZfFH/9mbdw4YNMzqSiIhIlbH5oq7Om3WLiIgYzeaLujpv1i0iImI0my/qDz74wOgIIiIi1cbmr0wmIiJiz1TUIiIiJqaiFhERMTEVtYiIiImpqEVERExMRS0iImJiKmoRERETU1GLiIiYmIpaRETExFTUIiIiJqaiFhERMTEVtYiIiImpqEVERExMRS0iImJiKmoRERETU1GLiIiYmIpaRETExFTUIiIiJqaiFhERMTEVtYiIiImpqEVERExMRS0iImJiKmoRERETU1GLiIiYmIpaRETExFTUIlJlrFYr1vw8o2OI2JU6RgcQqUlrPzxWrcd/bFy3aj2+mVkv/QSnvoa7xxodRcSuqKhFpFKsacnw3W74OR56jMLiWNfoSCJ2RUUtNqW6Z8SVVZF8tjoLt2alwr/2wdljgBVcm4GXbT4WETNTUYvILbHmZMEPB+Dk11Bw3efRXQZicXA0LpiInVJRi0i5Wf99Fg5uhpys4gPuraHlXcaEErFzKmoxBbMvaVenmz12My2NW5p6Yb1vOvzfX4qXtc8gLBaLccFE7Ji+niUi5WbNy4HD266VdOFJYy06YGnWxtBcIvZMRS0i5WLNy4EvN8K/f4KGjeDe6VDHCboMNDqaiF3T0rfUiNq8tF1ZJf23q+nl8BtK+p6pWJwbYw0Yh8XtdzWaRaS20YxaRMpUWkkDWHQCmUi104xaqoRmzDWrpmbZZZW0iNQMzahFpEQqaRFzUFGLyA1U0iLmYXdL3z///DP3338/jz/+OE8//bTRcUzJmpUGSd/BhZOQexXq1ofmd4BnFywN3Ur8GS1tm19pz1FZS+IlvhY82sD5OEhJUkmLmIBdFbXVamXu3LlkZGQYHcW0rP9OgBN7oWVH8B8NDVzhSjqc/wFit2HtdC+WprcbHVNqQImvhfQU+GojZKZAfReVtIgJ2FVRb9q0idOnTxsdw7SsWWnX3ph9h2Jp1Py/Aw3d4I6eWJt6wTefYvUfU+rMWuxDSa8Fa14OHP3oPyXtCs6NwKJPx0SMZjdFnZiYyJIlS1i+fDnTpk0zOo45JX0HLTsWL+nrWBo1x9qyI+NidjPCekcNh5PqUtKS+FTfzGKvhZI+k+bn+GuvmTuDajixiFzPLoq6oKCA2bNnM2zYMPr161ehY/j7+5c5np6eDg42fp/dCyevLXGWpeVdfH3in4zIUVHbtd++FmK33Xgxk5Z3QWy0ilrEYKYu6ry8PHbs2FHqeNOmTQkKCuL9998nMTGRd999twbT2aDcq9DAFa+UrFJ3sRY4kkluDYYSIzRN/RXnK44kNPzPho4DICsNej7438+k67tce82IiKFMXdTZ2dm88MILpY4HBATQokUL3nrrLVasWIGrq2uFf1dsbGyZ4/7+/qRm2vibVt36104co/SVgfycDBqUMS72oQF1yc/OAFwAsLh5YB0wrfgdsK5mXHvNiIihTF3Uzs7OxMXFlTqen5/PxIkTGTp0KEFBQeTl/fcm9gUFBeTl5VGnjqkfYs1qfse1s7vdfUrdJftiPPfkNq3BUGKEgNymHLgUDy3/e77CDbepPP/DtdeMiBjKYrVarUaHqKikpCTuu+++Mvcpq+hvReGM+nSX8VVyvOpU2vdpU8hiSf1vsPgOxcnF44bxnIyLWL/5lLCrvrjTsIQjiL242WvhJ4df4ZtPQd8AKJeCrfONjiB2zKanmx4eHnz44Yc3bB83bhwTJ07kgQceMCCVebnTkKlX27Pum0/J9OxEPY87cXRyIT8ng+yL8dRJOsHUq+1V0rXAzV4L/HoaOt2rkhYxAZsuaicnJ3x8Sl7G9fDwKHXM1lXmKmHtaULY1Qb8/dR5vk44QSa5NKAu9+Q2pbdVM+napOzXwp24X0wBUor2r+lba4rINTZd1FIx7jRkhPUOfQVL9FoQsQF2WdRV9bm0iIiI0eyyqG2dboAhZnT961LL4CI1RxfyFRERMTEVtYiIiIlp6bsGaUlb7EVJr2Uth4tUD82oRURETEwz6iqkGbPUZjrZTKR6aEYtIiJiYipqERERE9PS9y1omJuv5W2RctDJZiJVRzNqERERE1NRi4iImJiWvkWkRmg5XKRiNKMWERExMc2oRcQwmmWL3Jxm1CIiIiZWZlFHR0dz9OjRch8sLi6Ot99+u9KhRERE5Joyl75nz56Ng4MDjzzyCDNnzsTJyanMg8XFxbFy5UpmzJhRpSFFpPYo7VoFWhKX2uqmS9+urq6sX7+eBx98kB9//LEmMomIiMh/3LSoZ8+ezdSpU4mPj2fcuHFs2LChJnKJiIgI5Tjru06dOsyaNYu+ffsya9YsXnvtNb744gsWLlxIs2bNaiKjiIjOEJdaq9xnfQcGBvLJJ58wePBgvvzyS0aNGsX//d//VWc2ERGRWu+Wvkft5ubG8uXL2bZtGwsWLGDGjBk8+OCDzJ07l/r161dXRhGREt3sJjmacYs9qND3qMeMGUN0dDTdu3dny5YtjBkzhn/9619VnU1ERKTWq/AFTzw9PYmMjCQ0NJTExEQmTJjA9u3bqzKbiIhIrVfm0nfLli1p2LBhqeMWi4Unn3ySPn368Pzzz/PVV19hsViqPKSISEVoaVzsQZlFvXfv3nIdpEuXLkRHRxMREUFycnKVBBMREZEqvClHvXr1CA0NrarDiYhUu7Jm3Jpti1nophwiIiImpqIWERExMd2PWkSkBDoRTcxCM2oRERETU1GLiIiYmJa+RUQq4GZL4yJVRTNqERERE1NRi4iImJiKWkRExMRU1CIiIiamohYRETExFbWIiIiJqahFRERMzC6KuqCggIiICO677z58fX0ZOXIkO3bsMDqWiIhIpdnFBU9ee+01oqKimDlzJnfddRc7duzgueeew8XFhXvuucfoeCIiIhVm80WdkJBAZGQkr7zyCg8++CAAvXv35qeffuLAgQMqahERsWk2X9R79uyhfv36jB49utj2jRs3GpRIRESk6th8UcfFxdG2bVsOHjzIm2++ycmTJ/H09CQ0NJThw4eX+zj+/v5ljqenp1PPPj7SFxERG2Lqos7LyyvzpLCmTZuSkpLCzz//zNy5c3nmmWfw9PRk69atPPvss7i7u9OrV68aTCwiIlK1LFar1Wp0iNJkZmbi5+dX6nhAQACOjo78/e9/591332XAgAEAWK1WRo8ejaura5Utgfv7+5OTmsnMU52q5HgiYj+mWP/X6Ahix0w9o3Z2diYuLq7MfUJCQnB0dCQoKKhom8ViITAwkA8//LC6I4qIiFQrm//Q1cvLi4KCAvLy8optz83NxWKxGJRKRESkath8Ufft2xer1UpMTEzRtry8PA4cOECPHj0MTCYiIlJ5pl76Lo/evXtzzz338Oqrr5KVlUWbNm3YtGkT586d48033zQ6noiISKXYfFEDrFixguXLl7Nq1SrS0tLo1KkTa9eupUuXLkZHExERqRRTn/VtJjrrW0RKo7O+pTrZ/GfUIiIi9kxFLSIiYmIqahERERNTUYuIiJiYilpERMTEVNQiIiImpqIWERExMRW1iIiIiamoRURETExFLSIiYmIqahERERNTUYuIiJiYilpERMTEVNQiIiImpqIWERExMRW1iIiIiamoRURETExFLSIiYmIqahHhGy5QgNXoGCJSAhW1iPAFZ/iJy0bHEJESqKhFarlc8vmOixzngtFRRKQEKmqRWu4HLpFDPsf42egoIlICFbVILXfsPzPpBNL4hSyD04jIb6moRWoxK9ZiM2ktf4uYj4papBZLJI0UrhT9+3Etf4uYjopapBY79psZ9AkukU2eQWlEpCQqapFa7Dg/44AFAAcs5FHAv7hocCoRuZ6KWqSWukIuXfgdf6A3AHfShFn0JYtcg5OJyPXqGB1ARIzRgLqMoROnSCnadhfNDEwkIiXRjFpERMTEVNQiIiImpqIWERExMRW1iIiIiamoRURETExFLSIiYmIqahERERNTUYuIiJiYilpERMTEVNQiIiImZheXEE1JSWHx4sUcOHCAnJwcunfvzpw5c2jTpo3R0Wq1FLI4zDm+JZkscmlIXXz4HXfTCncaGh1PuPYc/YNEAH4ilSV8qedIxGRsfkZttVoJCQlh//79hIWF8cYbb3Dp0iUeeeQR0tLSjI5Xa/3IL6zhCHVw4DH8mEd/HsOPOjiwhiP8yC9GR6z1Cp8jx//cPcuLRnqOREzI5ov6p59+4ujRozz//POMHj2a/v37s3z5cpKTk9m7d6/R8WqlFLKI5gQT8OU+vHGnIQ5YcKch9+HNBHyJ5gQpZBkdtda6/jm6G08ALKDnSMSEbH7pOzs7GwBnZ+eibW5ubgCkpqYakqm2O8w5/GhJa9xKHG+NG91pyWHOMYT2pR5nyt6/VVdEm7f+3rGV+vnrn6Pr755VqLzPkYhUP5sv6rvuuouePXuycuVK2rVrR+PGjXn99ddp2LAhAwcOLPdx/P39yxxPT0+nnu0vQNSIb0nmMfzK3MePFqzlqErAIHqORGyHqYs6Ly+PHTt2lDretGlTgoKCeOmllwgODmb48OEAODk5sXLlSlq3bl1TUWul0ma8Sx9yop3rVRwt2aX+bCNrAQ7pqUzZpFlzRVR2teH656hBfj6vZXejoUMdmtS/XLRPeZ6jys7sReTmTF3U2dnZvPDCC6WOBwQE0Lx5cyZMmMDtt9/O3LlzqV+/Plu2bOEPf/gDq1evvulMuVBsbGyZ4/7+/uSkZt5S/tqqkTNczsumad36pe5zOS+HRs6lDks1u/45auhYhy4NG9+wj54jEXMwdVE7OzsTFxdX5j7z588HYO3atUWfTQcFBfHQQw/x2muv8be/acZW00YOyOXwzksMq1v6isahqxcZOSK3BlPJ9fQcidgOUxd1eZw/fx5vb++ikgawWCz06NGDDz74wMBk5lKTJ2ZNHGTlfz5L4kmYxHgAAA42SURBVK7sxrSt53LD+JnsDI7XPceLg6w1lkmKq6rnqDpeV1pOFynO5s+Oatu2LT/++OMN35k+fvw4rVq1MihV7ebZDJaEXeWv1m/ZmZ7Av3Ovkm8t4N+5V9mZnsBfrd+yJOwqns2MTlp76TkSsR02P6OeMmUKH330EY8//jhPPPEE9evXZ/v27Rw6dIhly5YZHa/WCuwCWxZfZfPu06zbl0hq+rXPRUeOyOXFQVYVgAnoORKxDRar1Wrz64+nTp1i8eLFHDp0CAcHB+68805mzJhBYGBglf2OwpPJZp7qVGXHLA99l1ik4mpqGX2K9X9r5PdI7WTzM2oAb29v3n33XaNjiIiIVDm7KGqz0OxXxFwq8/9JndQmZmHzJ5OJiIjYMxW1iIiIidnFyWQ1wd/fH/JSiV12yugoImI2A/Q2KtVHM2oRERETU1GLiIiYmIpaRETExFTUIiIiJqaiFhERMTEVtYiIiImpqEVERExMRS0iImJiKmoRERETU1GLiIiYmIpaRETExFTUIiIiJqaiFhERMTEVtYiIiImpqEVERExMRS0iImJiKmoRERETU1GLiIiYmIpaRETExFTUIiIiJqaiFhERMTEVtYiIiImpqEVERExMRS0iImJiKmoRERETU1GLiIiYmIpaRETExFTUIiIiJqaiFhERMTEVtYiIiImpqEVERExMRS0iImJiKmoRERETU1GLiIiYmIpaRETExGyqqBctWsSUKVNu2J6Xl8dbb73FPffcQ9euXXnooYf45ptvaj6giIhIFbOZot64cSNr164tcWzBggWsX7+eadOmsWzZMhwdHZkyZQqJiYk1nFJERKRqmb6ok5OTee6551iwYAGurq43jCclJREVFcWsWbN4+OGHuffee1mzZg1ubm6sXr3agMQiIiJVx/RFvWzZMk6cOMG6devo2LHjDeP/+Mc/yM/PZ8iQIUXbnJyc6N+/P/v376/JqCIiIlXO9EUdHBzMjh076NWrV4njp0+fxs3NDXd392Lbvby8OH/+PFevXq2JmCIiItWijlG/OC8vjx07dpQ63rRpU4KCgrjjjjvKPE5GRgYuLi43bHd2dgYgMzOT+vXr3zSPv79/mePp6emAA/7Pet/0WCJSe7g2KGDf341OIfbMsKLOzs7mhRdeKHU8ICCAoKCgmx7HarWWud1isVQsYIksUKdRFR7PWNf++KDEz/5tkb09HrC/x2SPjyfjqmFvo1JLGPYKc3Z2Ji4urtLHcXFxITMz84bthdtKmm2XJDY2tszxwhn3zfazJfb2mOzt8YD9PSZ7fTwi1cn0n1HfTLt27UhNTSUtLa3Y9rNnz+Lp6YmTk5NByURERCrP5os6MDAQgF27dhVty8nJ4YsvvigaExERsVU2/+FKq1atGDNmDK+++ipZWVl4eXmxbt060tLSCA4ONjqeiIhIpdh8UQO88sor3HbbbaxatYqsrCw6d+7MunXr8PLyMjqaiIhIpdhUUW/YsKHE7U5OTsydO5e5c+fWcCIREZHqZfOfUYuIiNgzFbWIiIiJWaylXTFEREREDKcZtYiIiImpqEVERExMRS0iImJiKmoRERETU1GLiIiYmIpaRETExFTUIiIiJqaiFhERMTEVtYiIiImpqMvhk08+YcSIEfj6+jJs2DCio6ONjlQpBQUFbN68mZEjR9K9e3cGDhzIwoULycjIMDpalZgxYwaDBg0yOkalHT58mIkTJ9K1a1f69OnDn//8ZzIzM42OVWGbN29m2LBhdOvWjZEjR/LRRx8ZHalCvv/+ezp37syFCxeKbf/yyy954IEH6Nq1K/feey9r1641KKHYGxX1TcTExBAWFkZQUBArV64kICCAWbNm8emnnxodrcJWr17Nn//8Z/r378/KlSuZOnUq0dHRPPPMM0ZHq7Tt27eze/duo2NU2rFjx5g6dSrNmjUjIiKCkJAQPvroI+bNm2d0tAqJioripZdeon///rzzzjsEBgby/PPPExMTY3S0W3L69GmmT59OXl5ese1Hjx7lySefpF27doSHhzNy5EjeeOMN1qxZY1BSsSe61vdNDBo0iC5durBs2bKibaGhocTFxdncmwyA1WqlZ8+ejBgxgj/96U9F23fu3Mmzzz5LdHQ0HTt2NDBhxSUnJzNy5EgaNGiAk5OTTRf2ww8/DFy7tavFYgEgMjKSdevW8fHHH9OgQQMj492yCRMm4OTkxAcffFC0bdKkSTg4OJR6+1ozycvLIyoqijfffJO6deuSmprKF198QfPmzQGYMmUKWVlZbNmypehnFi9ezJYtW/jqq69wcnIyKrrYAc2oy5CYmEhCQgKDBw8utn3IkCGcPn2axMREg5JVXGZmJr///e+5//77i21v164dAAkJCUbEqhLz5s0jKCiI3r17Gx2lUlJSUoiNjWXixIlFJQ3Xim3Pnj02V9IA2dnZODs7F9vWqFEjUlNTDUp0a44cOcKSJUt47LHHCAsLKzaWnZ1NbGxsie8Tv/76K0ePHq3JqGKHVNRlOH36NABt27Yttt3LywuAM2fO1HimynJxcWHevHn06NGj2PY9e/YAcMcddxgRq9K2bt3Kv/71L+bPn290lEqLj4/HarXi5uZGaGgo3bp1o0ePHvzpT3/i6tWrRserkEceeYQDBw4QExNDRkYGn376KZ9//jmjRo0yOlq5eHt7s2fPHmbMmIGjo2OxscTERHJzc+3qfULMpY7RAcwsPT0duFZu1yucGdjLyVfHjx9n1apVDBw4EG9vb6Pj3LJz586xcOFCFi5ciLu7u9FxKi0lJQWA2bNnM2jQICIiIoiLi+Ott94iOzub119/3eCEt27EiBH84x//IDQ0tGjbmDFjCA4ONjBV+TVt2rTUsdryPiHGUVGXofDj++uXH6/f7uBg+wsSR44c4cknn8TT05NXX33V6Di3zGq1MnfuXO655x6GDBlidJwqkZubC4Cfn1/ReQS9e/fGarWyaNEiQkJCaN26tZERb9lTTz3FP//5T+bMmUOnTp04fvw477zzTtEKjy0r7X2ikD28T4ix9Aoqg6urK3DjX8SFX5EpHLdVO3fuZOrUqbRo0YL169fTuHFjoyPdssjISOLi4pg7dy55eXnk5eUVvXFe/79tSeFMrF+/fsW29+nTB6vVSlxcnBGxKuzo0aN8+eWXzJs3jylTphAQEMC0adOYPXs2GzZssLnH81ulvU8U/rutv0+I8VTUZSj8zOm3J1idPXu22LgtWrduHTNnzqRbt25ERkbi4eFhdKQK2bVrF5cvX6ZPnz507tyZzp07Ex0dTUJCAp07d2bbtm1GR7xlbdq0ASAnJ6fY9sKZdmkzN7M6f/48cG2F4Hr+/v4AnDp1qsYzVaXbb78dR0fHG94nCv/dlt8nxBxU1GXw8vLC09Pzhu9Mf/bZZ7Rp04aWLVsalKxytm7dyuuvv86wYcNYvXq1Tf/F//LLL/Phhx8W+2fAgAE0b9686H/bGm9vb1q1asXOnTuLbd+3bx916tShe/fuBiWrmMKiOnz4cLHtx44dA6BVq1Y1nqkq1atXD39/fz777LNiKzi7du3C1dWVLl26GJhO7IE+o76JkJAQ5syZg5ubG/3792fv3r3ExMQU+161Lfnll19YsGABrVq1YtKkSZw4caLY+O23325TJ2QVfq3seo0aNcLJyQkfHx8DElWexWIhLCyMmTNnEhYWxtixY/nuu++IiIhg8uTJNvX8AHTu3JmBAwfy2muvkZmZSceOHfnuu+9YuXIl/fr1o2vXrkZHrLSnnnqKqVOn8uyzzzJmzBj++c9/smbNGp577jmb/DqdmIuK+ibGjh1LTk4Oa9euZevWrbRu3ZpFixYxfPhwo6NVyIEDB7hy5Qrnzp1j0qRJN4y/8cYbNvOVGXs2fPhwnJycWLlyJdOnT6dJkyaEhIQwffp0o6NVyLJly3j77bdZv349v/zyC61ateKxxx7jiSeeMDpalejduzfh4eGsWLGCkJAQfve73/HCCy/w2GOPGR1N7ICuTCYiImJi+oxaRETExFTUIiIiJqaiFhERMTEVtYiIiImpqEVERExMRS0iImJiKmqRMqSkpNCrVy8CAgL497//XeI+oaGhRTeaEBGpaipqkTK4u7szb9480tLSeOWVV24Yj46OJiYmhmnTptnFFbZExHx0wRORcnjqqafYu3cv4eHhDB48GLh2H+zf//733H777WzZsoW6desanFJE7JGKWqQcLl68yIgRI6hXrx47d+7E1dWVyZMnc/z4cf72t7/Rvn17oyOKiJ3S0rdIOXh4eDBr1iwuXbrEkiVL2Lx5M4cPHyY0NFQlLSLVSjNqkVvw+OOPc/DgQerXr0+nTp3YsGEDDg76e1dEqo+KWuQWJCYmMmjQIKxWK9HR0XTs2NHoSCJi5zQVELkFn3zyCYV/227cuNHgNCJSG2hGLVJOP/zwA+PGjSMgIIDc3FwOHTrE2rVrCQoKMjqaiNgxFbVIOeTk5PDAAw+QmJjI9u3bycvLY/To0TRr1oyPP/4YZ2dnoyOKiJ3S0rdIOaxYsYL4+HhCQ0Px8vLC29ubp556inPnzrFkyRKj44mIHdOMWuQmjh49yqRJk+jWrRuRkZFFZ3nn5ubywAMPEB8fzwcffEBAQIDBSUXEHqmoRcpw5coVRo0axYULF9i+fTtt27YtNv7tt98yfvx4WrVqxUcffUSDBg0MSioi9kpL3yJleOONNzh79izPPPPMDSUN4OPjw6OPPkpCQgLLli0zIKGI2DvNqEVERExMM2oRERETU1GLiIiYmIpaRETExFTUIiIiJqaiFhERMTEVtYiIiImpqEVERExMRS0iImJiKmoRERET+//nHxQRYNmqBAAAAABJRU5ErkJggg==\n",
        "text/plain": "<Figure size 360x360 with 1 Axes>"
       },
       "metadata": {},
       "output_type": "display_data"
      }
     ],
     "persistentId": "6eee44a7-88d0-45f0-8a54-828f3d9c0323",
     "text": "gp.plot.plot_section(geo_model, cell_number=2, direction='y', show_data=True)"
    },
    "executionTime": "2019-12-10T11:15:55.476Z"
   }
  ],
  "kernelspec": {
   "display_name": "Python 3 (ipykernel)",
   "language": "python",
   "name": "python3"
  },
  "language_info": {
   "codemirror_mode": {
    "name": "ipython",
    "version": 3
   },
   "file_extension": ".py",
   "mimetype": "text/x-python",
   "name": "python",
   "nbconvert_exporter": "python",
   "pygments_lexer": "ipython3",
   "version": "3.8.13"
  },
  "latex_envs": {
   "LaTeX_envs_menu_present": true,
   "autoclose": false,
   "autocomplete": true,
   "bibliofile": "biblio.bib",
   "cite_by": "apalike",
   "current_citInitial": 1,
   "eqLabelWithNumbers": true,
   "eqNumInitial": 1,
   "hotkeys": {
    "equation": "Ctrl-E",
    "itemize": "Ctrl-I"
   },
   "labels_anchors": false,
   "latex_user_defs": false,
   "report_style_numbering": false,
   "user_envs_cfg": false
  },
  "toc": {
   "base_numbering": 1,
   "nav_menu": {},
   "number_sections": false,
   "sideBar": true,
   "skip_h1_title": false,
   "title_cell": "Table of Contents",
   "title_sidebar": "Contents",
   "toc_cell": false,
   "toc_position": {},
   "toc_section_display": true,
   "toc_window_display": false
  },
  "uuid": "c1a9a124-5adc-4747-bd66-c75a84b117ee",
  "varInspector": {
   "cols": {
    "lenName": 16,
    "lenType": 16,
    "lenVar": 40
   },
   "kernels_config": {
    "python": {
     "delete_cmd_postfix": "",
     "delete_cmd_prefix": "del ",
     "library": "var_list.py",
     "varRefreshCmd": "print(var_dic_list())"
    },
    "r": {
     "delete_cmd_postfix": ") ",
     "delete_cmd_prefix": "rm(",
     "library": "var_list.r",
     "varRefreshCmd": "cat(var_dic_list()) "
    }
   },
   "types_to_exclude": [
    "module",
    "function",
    "builtin_function_or_method",
    "instance",
    "_Feature"
   ],
   "window_display": false
  }
 },
 "nbformat": 4,
 "nbformat_minor": 4
}
